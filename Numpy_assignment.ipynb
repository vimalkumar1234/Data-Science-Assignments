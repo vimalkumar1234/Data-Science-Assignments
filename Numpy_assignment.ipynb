{
 "cells": [
  {
   "cell_type": "markdown",
   "id": "fro_DHmGSWN9",
   "metadata": {
    "id": "fro_DHmGSWN9"
   },
   "source": [
    "# <center><u>Numpy</u></center>"
   ]
  },
  {
   "cell_type": "markdown",
   "id": "ERM80WVFSWOC",
   "metadata": {
    "id": "ERM80WVFSWOC"
   },
   "source": [
    "## 1. Variable Declarartion"
   ]
  },
  {
   "cell_type": "code",
   "execution_count": 1,
   "id": "Lo9T3Bo6SWOC",
   "metadata": {
    "id": "Lo9T3Bo6SWOC"
   },
   "outputs": [],
   "source": [
    "# Import numpy using alias np\n",
    "\n",
    "import numpy as np"
   ]
  },
  {
   "cell_type": "code",
   "execution_count": 4,
   "id": "OXb5OTGSSWOD",
   "metadata": {
    "id": "OXb5OTGSSWOD"
   },
   "outputs": [],
   "source": [
    "# create a numpy array 'a' with elements 1,2,3\n",
    "# create a two dimensional array 'b' with elements(1,2,3) and (4,5,6)\n",
    "\n",
    "a = np.array([1,2,3])\n",
    "b = np.array([[1,2,3],[1,3,3]])"
   ]
  },
  {
   "cell_type": "code",
   "execution_count": 5,
   "id": "F1IfYGEDSWOD",
   "metadata": {
    "colab": {
     "base_uri": "https://localhost:8080/"
    },
    "id": "F1IfYGEDSWOD",
    "outputId": "618c9276-57bc-4dad-dd11-703784a7f45c"
   },
   "outputs": [
    {
     "name": "stdout",
     "output_type": "stream",
     "text": [
      "[1 2 3]\n",
      "[[1 2 3]\n",
      " [1 3 3]]\n"
     ]
    }
   ],
   "source": [
    "# print the values of a and b\n",
    "print(a)\n",
    "print(b)\n"
   ]
  },
  {
   "cell_type": "markdown",
   "id": "9Tf97-Q2SWOE",
   "metadata": {
    "id": "9Tf97-Q2SWOE"
   },
   "source": [
    "Print shape of both a and b"
   ]
  },
  {
   "cell_type": "code",
   "execution_count": 6,
   "id": "DOFaNvKiSWOE",
   "metadata": {
    "colab": {
     "base_uri": "https://localhost:8080/"
    },
    "id": "DOFaNvKiSWOE",
    "outputId": "7a5f6770-8826-4f3e-9993-10b684cb6d8a"
   },
   "outputs": [
    {
     "name": "stdout",
     "output_type": "stream",
     "text": [
      "(3,)\n",
      "(2, 3)\n"
     ]
    }
   ],
   "source": [
    "# your code here\n",
    "print(a.shape)\n",
    "print(b.shape)\n"
   ]
  },
  {
   "cell_type": "markdown",
   "id": "epLeVaMvSWOE",
   "metadata": {
    "id": "epLeVaMvSWOE"
   },
   "source": [
    "Print the data types of a and b"
   ]
  },
  {
   "cell_type": "code",
   "execution_count": 7,
   "id": "x7kOdjxnSWOE",
   "metadata": {
    "colab": {
     "base_uri": "https://localhost:8080/"
    },
    "id": "x7kOdjxnSWOE",
    "outputId": "3b6c6f93-621d-4e99-fcc2-26c0d07a64fe"
   },
   "outputs": [
    {
     "name": "stdout",
     "output_type": "stream",
     "text": [
      "<class 'numpy.ndarray'>\n",
      "<class 'numpy.ndarray'>\n"
     ]
    }
   ],
   "source": [
    "print(type(a))\n",
    "print(type(b))\n"
   ]
  },
  {
   "cell_type": "markdown",
   "id": "hB3guK7nSWOF",
   "metadata": {
    "id": "hB3guK7nSWOF"
   },
   "source": [
    "## 2. Add, remove elements and Memory Sharing\n"
   ]
  },
  {
   "cell_type": "markdown",
   "id": "iq-qMAE3SWOF",
   "metadata": {
    "id": "iq-qMAE3SWOF"
   },
   "source": [
    "Declare x = np.array([ 5,10, 20, 12, 3])"
   ]
  },
  {
   "cell_type": "code",
   "execution_count": 8,
   "id": "BSopvdheSWOF",
   "metadata": {
    "id": "BSopvdheSWOF"
   },
   "outputs": [],
   "source": [
    "# declare x \n",
    "x = np.array([ 5,10, 20, 12, 3])"
   ]
  },
  {
   "cell_type": "markdown",
   "id": "aY7KR7KsSWOF",
   "metadata": {
    "id": "aY7KR7KsSWOF"
   },
   "source": [
    "Add a new element 1 at the end of x"
   ]
  },
  {
   "cell_type": "code",
   "execution_count": 9,
   "id": "2tfWNnNjSWOF",
   "metadata": {
    "colab": {
     "base_uri": "https://localhost:8080/"
    },
    "id": "2tfWNnNjSWOF",
    "outputId": "0dff7360-23f2-43b0-e29c-3e78b5948aa8"
   },
   "outputs": [
    {
     "name": "stdout",
     "output_type": "stream",
     "text": [
      "[ 5 10 20 12  3  1]\n"
     ]
    }
   ],
   "source": [
    "# your code here\n",
    " \n",
    "x = np.append(x,1)\n",
    "print(x) # check if 1 is added "
   ]
  },
  {
   "cell_type": "markdown",
   "id": "3DND_QDzSWOG",
   "metadata": {
    "id": "3DND_QDzSWOG"
   },
   "source": [
    "Delete the second element of x \n"
   ]
  },
  {
   "cell_type": "code",
   "execution_count": 10,
   "id": "ohz4xOs-SWOG",
   "metadata": {
    "colab": {
     "base_uri": "https://localhost:8080/"
    },
    "id": "ohz4xOs-SWOG",
    "outputId": "8c3643d5-0a4a-4a9e-9710-7e819513d46d"
   },
   "outputs": [
    {
     "name": "stdout",
     "output_type": "stream",
     "text": [
      "[ 5 20 12  3  1]\n"
     ]
    }
   ],
   "source": [
    "# your code here \n",
    "\n",
    "x = np.delete(x,1)\n",
    "print(x) # check if the second element has been deleted"
   ]
  },
  {
   "cell_type": "markdown",
   "id": "xrJy6hwkSWOG",
   "metadata": {
    "id": "xrJy6hwkSWOG"
   },
   "source": [
    "Set y = x\n"
   ]
  },
  {
   "cell_type": "code",
   "execution_count": 11,
   "id": "ellUvpjQSWOG",
   "metadata": {
    "id": "ellUvpjQSWOG"
   },
   "outputs": [],
   "source": [
    "y = x\n"
   ]
  },
  {
   "cell_type": "markdown",
   "id": "utVR1BPFSWOG",
   "metadata": {
    "id": "utVR1BPFSWOG"
   },
   "source": [
    "Set the first element y =  1\n"
   ]
  },
  {
   "cell_type": "code",
   "execution_count": 12,
   "id": "W3Etxg-4SWOG",
   "metadata": {
    "colab": {
     "base_uri": "https://localhost:8080/"
    },
    "id": "W3Etxg-4SWOG",
    "outputId": "5e5816db-5192-47bb-da40-8a4c2a23467a"
   },
   "outputs": [
    {
     "name": "stdout",
     "output_type": "stream",
     "text": [
      "[ 1 20 12  3  1]\n"
     ]
    }
   ],
   "source": [
    "# set first element of y to be 1\n",
    "y[0] = 1\n",
    "\n",
    "print(y)"
   ]
  },
  {
   "cell_type": "markdown",
   "id": "9OW37aLaSWOG",
   "metadata": {
    "id": "9OW37aLaSWOG"
   },
   "source": [
    "Print x and y\n",
    "\n"
   ]
  },
  {
   "cell_type": "code",
   "execution_count": 15,
   "id": "1oL46MJMSWOH",
   "metadata": {
    "colab": {
     "base_uri": "https://localhost:8080/"
    },
    "id": "1oL46MJMSWOH",
    "outputId": "b9b2240e-c83c-4978-b074-c22a4298f9e6"
   },
   "outputs": [
    {
     "name": "stdout",
     "output_type": "stream",
     "text": [
      "[ 1 20 12  3  1]\n",
      "[ 1 20 12  3  1]\n"
     ]
    }
   ],
   "source": [
    "print(x)\n",
    "print(y)\n",
    "\n"
   ]
  },
  {
   "cell_type": "markdown",
   "id": "CIPTxgWFSWOH",
   "metadata": {
    "id": "CIPTxgWFSWOH"
   },
   "source": [
    "<b>you modified y, OMG!! but why x is also affected? Just give a try to answer this quest below </b>"
   ]
  },
  {
   "cell_type": "markdown",
   "id": "6f142850",
   "metadata": {
    "id": "oPkG37XaSWOH"
   },
   "source": [
    "### X is set to y when y changed automatically x gets changed"
   ]
  },
  {
   "cell_type": "markdown",
   "id": "_oTBIhKxSWOH",
   "metadata": {
    "id": "_oTBIhKxSWOH"
   },
   "source": [
    "Set z = np.copy(x)\n"
   ]
  },
  {
   "cell_type": "code",
   "execution_count": 17,
   "id": "KFtUd43qSWOH",
   "metadata": {
    "id": "KFtUd43qSWOH"
   },
   "outputs": [],
   "source": [
    "z = np.copy(x) #your code here\n"
   ]
  },
  {
   "cell_type": "markdown",
   "id": "ZHHOF_PpSWOH",
   "metadata": {
    "id": "ZHHOF_PpSWOH"
   },
   "source": [
    "Set the first element of z as 100\n"
   ]
  },
  {
   "cell_type": "code",
   "execution_count": 18,
   "id": "lg2V8SQFSWOH",
   "metadata": {
    "id": "lg2V8SQFSWOH"
   },
   "outputs": [],
   "source": [
    "z[0] = 100\n"
   ]
  },
  {
   "cell_type": "markdown",
   "id": "uWp9yWfiSWOH",
   "metadata": {
    "id": "uWp9yWfiSWOH"
   },
   "source": [
    "print x and z to see if there is any change in x."
   ]
  },
  {
   "cell_type": "code",
   "execution_count": 19,
   "id": "HIzO2gYOSWOH",
   "metadata": {
    "colab": {
     "base_uri": "https://localhost:8080/"
    },
    "id": "HIzO2gYOSWOH",
    "outputId": "a905e800-9625-4786-abfe-a2bf8101e256"
   },
   "outputs": [
    {
     "name": "stdout",
     "output_type": "stream",
     "text": [
      "[ 1 20 12  3  1]\n",
      "[100  20  12   3   1]\n"
     ]
    }
   ],
   "source": [
    "print(x)\n",
    "print(z)\n"
   ]
  },
  {
   "cell_type": "markdown",
   "id": "AAkmdDdqSWOH",
   "metadata": {
    "id": "AAkmdDdqSWOH"
   },
   "source": [
    "<b>Hey the above output seems so interesting!!. When used copy function the changes did not affect on x. Can you Guess why ?<b>"
   ]
  },
  {
   "cell_type": "markdown",
   "id": "7fd5f344",
   "metadata": {
    "id": "ytmnq5WtSWOH"
   },
   "source": [
    "### The above z is copied from x so when z cahnges x doesnt changed."
   ]
  },
  {
   "cell_type": "markdown",
   "id": "yPgBLrnFSWOI",
   "metadata": {
    "id": "yPgBLrnFSWOI"
   },
   "source": [
    "## 4. Using various Numpy Functions.\n",
    "\n"
   ]
  },
  {
   "cell_type": "markdown",
   "id": "E4fdgsjtSWOI",
   "metadata": {
    "id": "E4fdgsjtSWOI"
   },
   "source": [
    "Create a numpy array containing numbers from 1 to 12"
   ]
  },
  {
   "cell_type": "code",
   "execution_count": 20,
   "id": "F3DXMPB5SWOI",
   "metadata": {
    "colab": {
     "base_uri": "https://localhost:8080/"
    },
    "id": "F3DXMPB5SWOI",
    "outputId": "6b09df6e-32fd-400c-8d29-71b286227207"
   },
   "outputs": [
    {
     "name": "stdout",
     "output_type": "stream",
     "text": [
      "[ 1 20 12  3  1]\n"
     ]
    }
   ],
   "source": [
    "#your code here \n",
    "\n",
    "print(x)"
   ]
  },
  {
   "cell_type": "markdown",
   "id": "OkH7ueRXSWOI",
   "metadata": {
    "id": "OkH7ueRXSWOI"
   },
   "source": [
    "Create a numpy array containing even numbers between 1 to 20\n",
    "\n",
    "\n"
   ]
  },
  {
   "cell_type": "code",
   "execution_count": 27,
   "id": "uJ7QgXWDSWOI",
   "metadata": {
    "colab": {
     "base_uri": "https://localhost:8080/"
    },
    "id": "uJ7QgXWDSWOI",
    "outputId": "03f677fd-c07f-4227-867a-ad6be62f9b80"
   },
   "outputs": [
    {
     "name": "stdout",
     "output_type": "stream",
     "text": [
      "[ 2  4  6  8 10 12 14 16 18 20]\n"
     ]
    }
   ],
   "source": [
    "x = np.arange(2,21,2)\n",
    "\n",
    "print(x)"
   ]
  },
  {
   "cell_type": "markdown",
   "id": "yAqZCZXTSWOI",
   "metadata": {
    "id": "yAqZCZXTSWOI"
   },
   "source": [
    "Create an array of 2 rows and 2 columns containing all zeros.\n",
    "\n",
    "\n"
   ]
  },
  {
   "cell_type": "code",
   "execution_count": 28,
   "id": "I9cFX4vISWOI",
   "metadata": {
    "colab": {
     "base_uri": "https://localhost:8080/"
    },
    "id": "I9cFX4vISWOI",
    "outputId": "ec3e0c4a-1939-417e-928b-5b3ede20f740"
   },
   "outputs": [
    {
     "name": "stdout",
     "output_type": "stream",
     "text": [
      "[[0. 0.]\n",
      " [0. 0.]]\n"
     ]
    }
   ],
   "source": [
    "# your code here\n",
    "x = np.zeros([2,2])\n",
    "print(x)"
   ]
  },
  {
   "cell_type": "markdown",
   "id": "8sHg-qqSSWOI",
   "metadata": {
    "id": "8sHg-qqSSWOI"
   },
   "source": [
    "Create a matrix containing 3 rows and 2 columns where all the values are 1.\n",
    "\n",
    "\n"
   ]
  },
  {
   "cell_type": "code",
   "execution_count": 30,
   "id": "4nnolJ8ISWOI",
   "metadata": {
    "colab": {
     "base_uri": "https://localhost:8080/"
    },
    "id": "4nnolJ8ISWOI",
    "outputId": "4999c4ce-270c-4721-c98c-5b976382667d"
   },
   "outputs": [
    {
     "name": "stdout",
     "output_type": "stream",
     "text": [
      "[[1. 1.]\n",
      " [1. 1.]\n",
      " [1. 1.]]\n"
     ]
    }
   ],
   "source": [
    "# your code here \n",
    "x = np.ones([3,2])\n",
    "print(x)"
   ]
  },
  {
   "cell_type": "markdown",
   "id": "dF9f7EUNSWOJ",
   "metadata": {
    "id": "dF9f7EUNSWOJ"
   },
   "source": [
    "Create a matrix of size 5x5 where all are diagonal elements are 1, rest being 0."
   ]
  },
  {
   "cell_type": "code",
   "execution_count": 31,
   "id": "FMvyqIM8SWOJ",
   "metadata": {
    "colab": {
     "base_uri": "https://localhost:8080/"
    },
    "id": "FMvyqIM8SWOJ",
    "outputId": "9653bc68-8bed-48d3-bde1-7e424a3c0c95"
   },
   "outputs": [
    {
     "name": "stdout",
     "output_type": "stream",
     "text": [
      "[[1. 0. 0. 0. 0.]\n",
      " [0. 1. 0. 0. 0.]\n",
      " [0. 0. 1. 0. 0.]\n",
      " [0. 0. 0. 1. 0.]\n",
      " [0. 0. 0. 0. 1.]]\n"
     ]
    }
   ],
   "source": [
    "# your code here\n",
    "x = np.identity(5)\n",
    "print(x)"
   ]
  },
  {
   "cell_type": "markdown",
   "id": "jT5IIBQOSWOJ",
   "metadata": {
    "id": "jT5IIBQOSWOJ"
   },
   "source": [
    "Create a matrix of size 4x2 where all the elements are 4\n",
    "\n",
    "\n"
   ]
  },
  {
   "cell_type": "code",
   "execution_count": 33,
   "id": "_eHI61uSSWOJ",
   "metadata": {
    "colab": {
     "base_uri": "https://localhost:8080/"
    },
    "id": "_eHI61uSSWOJ",
    "outputId": "a2264e61-c861-4c64-b9ea-fd5e8434ce6d"
   },
   "outputs": [
    {
     "name": "stdout",
     "output_type": "stream",
     "text": [
      "[[4 4]\n",
      " [4 4]\n",
      " [4 4]\n",
      " [4 4]]\n"
     ]
    }
   ],
   "source": [
    "# your code here\n",
    "x = np.full((4,2),4)\n",
    "print(x)"
   ]
  },
  {
   "cell_type": "markdown",
   "id": "l6ePELShSWOJ",
   "metadata": {
    "id": "l6ePELShSWOJ"
   },
   "source": [
    "Create a matrix where diagonal elements are [1 , 2, 3, 4, 5] and rest are zero\n",
    "\n",
    "\n"
   ]
  },
  {
   "cell_type": "code",
   "execution_count": 34,
   "id": "hQlsHGLRSWOJ",
   "metadata": {
    "colab": {
     "base_uri": "https://localhost:8080/"
    },
    "id": "hQlsHGLRSWOJ",
    "outputId": "5d1d3d11-b665-4949-a100-f98d1b561a28"
   },
   "outputs": [
    {
     "name": "stdout",
     "output_type": "stream",
     "text": [
      "[[1 0 0 0 0]\n",
      " [0 2 0 0 0]\n",
      " [0 0 3 0 0]\n",
      " [0 0 0 4 0]\n",
      " [0 0 0 0 5]]\n"
     ]
    }
   ],
   "source": [
    "x = np.diag([1, 2, 3, 4, 5])\n",
    "print(x)"
   ]
  },
  {
   "cell_type": "markdown",
   "id": "Z_eNn67uSWOJ",
   "metadata": {
    "id": "Z_eNn67uSWOJ"
   },
   "source": [
    "Create a matrix of size 3x3 which contains random numbers from 0 to 1.\n",
    "\n",
    "\n"
   ]
  },
  {
   "cell_type": "code",
   "execution_count": 35,
   "id": "YED-cMWrSWOJ",
   "metadata": {
    "colab": {
     "base_uri": "https://localhost:8080/"
    },
    "id": "YED-cMWrSWOJ",
    "outputId": "75590760-e1e2-4e6d-cc33-d6d3ae4e33ef"
   },
   "outputs": [
    {
     "name": "stdout",
     "output_type": "stream",
     "text": [
      "[[0.5700114  0.02939235 0.53459485]\n",
      " [0.98916965 0.07522426 0.29987311]\n",
      " [0.26777531 0.39243507 0.91503152]]\n"
     ]
    }
   ],
   "source": [
    "# your code here\n",
    "x =  np.random.random((3, 3))\n",
    "print(x)"
   ]
  },
  {
   "cell_type": "markdown",
   "id": "be-OlUyaSWOJ",
   "metadata": {
    "id": "be-OlUyaSWOJ"
   },
   "source": [
    "Create a numpy array of shape (50,) such that it contains evenly spaced numbers, from 1 to 20."
   ]
  },
  {
   "cell_type": "code",
   "execution_count": 36,
   "id": "k80nLFv9SWOJ",
   "metadata": {
    "colab": {
     "base_uri": "https://localhost:8080/"
    },
    "id": "k80nLFv9SWOJ",
    "outputId": "0385a6e9-231e-4861-96f6-bb84ae8ecdab"
   },
   "outputs": [
    {
     "name": "stdout",
     "output_type": "stream",
     "text": [
      "[ 1.          1.3877551   1.7755102   2.16326531  2.55102041  2.93877551\n",
      "  3.32653061  3.71428571  4.10204082  4.48979592  4.87755102  5.26530612\n",
      "  5.65306122  6.04081633  6.42857143  6.81632653  7.20408163  7.59183673\n",
      "  7.97959184  8.36734694  8.75510204  9.14285714  9.53061224  9.91836735\n",
      " 10.30612245 10.69387755 11.08163265 11.46938776 11.85714286 12.24489796\n",
      " 12.63265306 13.02040816 13.40816327 13.79591837 14.18367347 14.57142857\n",
      " 14.95918367 15.34693878 15.73469388 16.12244898 16.51020408 16.89795918\n",
      " 17.28571429 17.67346939 18.06122449 18.44897959 18.83673469 19.2244898\n",
      " 19.6122449  20.        ]\n"
     ]
    }
   ],
   "source": [
    "# your code here\n",
    "x = np.linspace(1, 20, num=50)\n",
    "\n",
    "print(x)"
   ]
  },
  {
   "cell_type": "markdown",
   "id": "WgtA_596SWOJ",
   "metadata": {
    "id": "WgtA_596SWOJ"
   },
   "source": [
    "## 5. Reshaping\n"
   ]
  },
  {
   "cell_type": "markdown",
   "id": "KFJGt401SWOK",
   "metadata": {
    "id": "KFJGt401SWOK"
   },
   "source": [
    "Use np.arange to create  a numpy array with values between 0 to 23"
   ]
  },
  {
   "cell_type": "code",
   "execution_count": 40,
   "id": "68_PQMLhSWOK",
   "metadata": {
    "colab": {
     "base_uri": "https://localhost:8080/"
    },
    "id": "68_PQMLhSWOK",
    "outputId": "02ba21ff-a3d4-48a8-d1a8-65ff6d2a49c7"
   },
   "outputs": [
    {
     "name": "stdout",
     "output_type": "stream",
     "text": [
      "[ 0  1  2  3  4  5  6  7  8  9 10 11 12 13 14 15 16 17 18 19 20 21 22 23]\n"
     ]
    }
   ],
   "source": [
    "# your code here\n",
    "\n",
    "a = np.arange(24)\n",
    "print(a)"
   ]
  },
  {
   "cell_type": "code",
   "execution_count": 41,
   "id": "rutZXqrgSWOK",
   "metadata": {
    "colab": {
     "base_uri": "https://localhost:8080/"
    },
    "id": "rutZXqrgSWOK",
    "outputId": "a6f8bc0b-0d42-46d3-e815-57e17c3f8b53"
   },
   "outputs": [
    {
     "data": {
      "text/plain": [
       "(24,)"
      ]
     },
     "execution_count": 41,
     "metadata": {},
     "output_type": "execute_result"
    }
   ],
   "source": [
    "# print the shape of a\n",
    "a.shape"
   ]
  },
  {
   "cell_type": "markdown",
   "id": "yWof93oOSWOK",
   "metadata": {
    "id": "yWof93oOSWOK"
   },
   "source": [
    "Using a suitable method, reshape a to have a dimension of (3,8). Print b and its shape\n"
   ]
  },
  {
   "cell_type": "code",
   "execution_count": 42,
   "id": "mf-Lhf32SWOK",
   "metadata": {
    "colab": {
     "base_uri": "https://localhost:8080/"
    },
    "id": "mf-Lhf32SWOK",
    "outputId": "9e43e575-6abf-4a50-d8eb-e4db635262b6"
   },
   "outputs": [
    {
     "name": "stdout",
     "output_type": "stream",
     "text": [
      "(3, 8)\n",
      "[[ 0  1  2  3  4  5  6  7]\n",
      " [ 8  9 10 11 12 13 14 15]\n",
      " [16 17 18 19 20 21 22 23]]\n"
     ]
    }
   ],
   "source": [
    "a = a.reshape(3,8)\n",
    "\n",
    "print(a.shape)\n",
    "print(a)\n"
   ]
  },
  {
   "cell_type": "markdown",
   "id": "bpv6_fORSWOK",
   "metadata": {
    "id": "bpv6_fORSWOK"
   },
   "source": [
    "Create another numpy array c  = a.reshape(2,-1)"
   ]
  },
  {
   "cell_type": "code",
   "execution_count": 43,
   "id": "dl2Te2lOSWOK",
   "metadata": {
    "id": "dl2Te2lOSWOK"
   },
   "outputs": [
    {
     "data": {
      "text/plain": [
       "array([[ 0,  1,  2,  3,  4,  5,  6,  7,  8,  9, 10, 11],\n",
       "       [12, 13, 14, 15, 16, 17, 18, 19, 20, 21, 22, 23]])"
      ]
     },
     "execution_count": 43,
     "metadata": {},
     "output_type": "execute_result"
    }
   ],
   "source": [
    "c = a.reshape(2,-1)\n",
    "c"
   ]
  },
  {
   "cell_type": "code",
   "execution_count": 44,
   "id": "EBlXv2KOSWOK",
   "metadata": {
    "colab": {
     "base_uri": "https://localhost:8080/"
    },
    "id": "EBlXv2KOSWOK",
    "outputId": "ae46486a-4049-45b3-a220-36618d7c9023"
   },
   "outputs": [
    {
     "name": "stdout",
     "output_type": "stream",
     "text": [
      "[[ 0  1  2  3  4  5  6  7  8  9 10 11]\n",
      " [12 13 14 15 16 17 18 19 20 21 22 23]]\n"
     ]
    }
   ],
   "source": [
    "print(c)"
   ]
  },
  {
   "cell_type": "markdown",
   "id": "VHj6vhE4SWOK",
   "metadata": {
    "id": "VHj6vhE4SWOK"
   },
   "source": [
    "Print the shape of c."
   ]
  },
  {
   "cell_type": "code",
   "execution_count": 45,
   "id": "umf-FBnjSWOL",
   "metadata": {
    "colab": {
     "base_uri": "https://localhost:8080/"
    },
    "id": "umf-FBnjSWOL",
    "outputId": "726585b5-207e-4c02-a7ba-8806cdc93587"
   },
   "outputs": [
    {
     "data": {
      "text/plain": [
       "(2, 12)"
      ]
     },
     "execution_count": 45,
     "metadata": {},
     "output_type": "execute_result"
    }
   ],
   "source": [
    "# your code here\n",
    "c.shape"
   ]
  },
  {
   "cell_type": "markdown",
   "id": "_7gY7V1uSWOL",
   "metadata": {
    "id": "_7gY7V1uSWOL"
   },
   "source": [
    "<b>Hey check above, what role -1 has played in reshape function. Don't worry</b>\n",
    "<b> ok let me tell you this fun fact</b>\n",
    "\n",
    "When using a -1, the dimension corresponding to the -1 will be the product of the dimensions of the original array divided by the product of the dimensions given to reshape so as to maintain the same number of elements"
   ]
  },
  {
   "cell_type": "markdown",
   "id": "TUKBsMr1SWOL",
   "metadata": {
    "id": "TUKBsMr1SWOL"
   },
   "source": [
    "________"
   ]
  },
  {
   "cell_type": "markdown",
   "id": "IogwEn0vSWOL",
   "metadata": {
    "id": "IogwEn0vSWOL"
   },
   "source": [
    "## 6. Accessing numpy arrays\n",
    "\n",
    "\n"
   ]
  },
  {
   "cell_type": "markdown",
   "id": "uOFxxqopSWOL",
   "metadata": {
    "id": "uOFxxqopSWOL"
   },
   "source": [
    "### Create an array, a = np.array([2,4,6,8,10,12,14,16])\n",
    "\n",
    "\n"
   ]
  },
  {
   "cell_type": "code",
   "execution_count": 46,
   "id": "DxG862oISWOL",
   "metadata": {
    "id": "DxG862oISWOL"
   },
   "outputs": [],
   "source": [
    "# code here\n",
    "\n",
    "a = np.array([2,4,6,8,10,12,14,16])"
   ]
  },
  {
   "cell_type": "code",
   "execution_count": 47,
   "id": "hzVM35FdSWOL",
   "metadata": {
    "colab": {
     "base_uri": "https://localhost:8080/"
    },
    "id": "hzVM35FdSWOL",
    "outputId": "4ba40a03-c5f6-45a6-bce0-efff06e2926c"
   },
   "outputs": [
    {
     "data": {
      "text/plain": [
       "array([ 2,  4,  6,  8, 10, 12, 14, 16])"
      ]
     },
     "execution_count": 47,
     "metadata": {},
     "output_type": "execute_result"
    }
   ],
   "source": [
    "# print a\n",
    "\n",
    "a"
   ]
  },
  {
   "cell_type": "markdown",
   "id": "F44FbqlnSWOL",
   "metadata": {
    "id": "F44FbqlnSWOL"
   },
   "source": [
    "<b>Using indexing and slicing, select the following mentioned subsets - </b>"
   ]
  },
  {
   "cell_type": "code",
   "execution_count": 48,
   "id": "edBnS1mYSWOL",
   "metadata": {
    "colab": {
     "base_uri": "https://localhost:8080/"
    },
    "id": "edBnS1mYSWOL",
    "outputId": "649bb04a-7ea7-4855-cf40-6e7a2d95f32c"
   },
   "outputs": [
    {
     "data": {
      "text/plain": [
       "4"
      ]
     },
     "execution_count": 48,
     "metadata": {},
     "output_type": "execute_result"
    }
   ],
   "source": [
    "# [4]\n",
    "a[1]\n"
   ]
  },
  {
   "cell_type": "code",
   "execution_count": 49,
   "id": "wffCWC_7SWOM",
   "metadata": {
    "colab": {
     "base_uri": "https://localhost:8080/"
    },
    "id": "wffCWC_7SWOM",
    "outputId": "201ab95e-6216-4be3-f348-edd46238f7a6"
   },
   "outputs": [
    {
     "data": {
      "text/plain": [
       "array([ 4,  8, 12])"
      ]
     },
     "execution_count": 49,
     "metadata": {},
     "output_type": "execute_result"
    }
   ],
   "source": [
    "#[4, 8, 12]\n",
    "\n",
    "a[1:6:2]"
   ]
  },
  {
   "cell_type": "code",
   "execution_count": 50,
   "id": "UW_ilvvMSWOM",
   "metadata": {
    "colab": {
     "base_uri": "https://localhost:8080/"
    },
    "id": "UW_ilvvMSWOM",
    "outputId": "2ba6d58d-1583-4fac-9cc9-5013a873f3b1"
   },
   "outputs": [
    {
     "data": {
      "text/plain": [
       "array([10, 12, 14, 16])"
      ]
     },
     "execution_count": 50,
     "metadata": {},
     "output_type": "execute_result"
    }
   ],
   "source": [
    "# [10, 12, 14, 16]\n",
    "\n",
    "a[-4:]"
   ]
  },
  {
   "cell_type": "code",
   "execution_count": 51,
   "id": "qOIoxS2dSWON",
   "metadata": {
    "colab": {
     "base_uri": "https://localhost:8080/"
    },
    "id": "qOIoxS2dSWON",
    "outputId": "b15aa687-97be-4811-c528-afce452d4a78"
   },
   "outputs": [
    {
     "data": {
      "text/plain": [
       "array([14, 16])"
      ]
     },
     "execution_count": 51,
     "metadata": {},
     "output_type": "execute_result"
    }
   ],
   "source": [
    "# [14, 16]\n",
    "\n",
    "a[-2:]"
   ]
  },
  {
   "cell_type": "code",
   "execution_count": 52,
   "id": "xS2D4k3kSWON",
   "metadata": {
    "colab": {
     "base_uri": "https://localhost:8080/"
    },
    "id": "xS2D4k3kSWON",
    "outputId": "4626e43f-1efd-4266-b3c3-53c9c6346afe"
   },
   "outputs": [
    {
     "data": {
      "text/plain": [
       "array([ 2,  6, 10, 14])"
      ]
     },
     "execution_count": 52,
     "metadata": {},
     "output_type": "execute_result"
    }
   ],
   "source": [
    "# [2, 6, 10, 14]\n",
    "\n",
    "a[0:8:2]"
   ]
  },
  {
   "cell_type": "markdown",
   "id": "AmVusL7eSWON",
   "metadata": {
    "id": "AmVusL7eSWON"
   },
   "source": [
    "## 7. Transposing\n",
    "\n"
   ]
  },
  {
   "cell_type": "markdown",
   "id": "tpocLxgESWON",
   "metadata": {
    "id": "tpocLxgESWON"
   },
   "source": [
    "Create an array a = np.array([ [1, 2, 3], [4, 5, 6], [7,8,9], [10,11,12] ] )\n"
   ]
  },
  {
   "cell_type": "code",
   "execution_count": 53,
   "id": "W37XRe4kSWON",
   "metadata": {
    "id": "W37XRe4kSWON"
   },
   "outputs": [],
   "source": [
    "# your code here\n",
    "a = np.array([ [1, 2, 3], [4, 5, 6], [7,8,9], [10,11,12] ] )"
   ]
  },
  {
   "cell_type": "markdown",
   "id": "KmpGupqSSWON",
   "metadata": {
    "id": "KmpGupqSSWON"
   },
   "source": [
    "What is the shape of a?"
   ]
  },
  {
   "cell_type": "code",
   "execution_count": 54,
   "id": "2WGdXG21SWON",
   "metadata": {
    "colab": {
     "base_uri": "https://localhost:8080/"
    },
    "id": "2WGdXG21SWON",
    "outputId": "759bbefd-817b-43e9-a9ab-1fc4f8e44b2d"
   },
   "outputs": [
    {
     "data": {
      "text/plain": [
       "(4, 3)"
      ]
     },
     "execution_count": 54,
     "metadata": {},
     "output_type": "execute_result"
    }
   ],
   "source": [
    "# your code here\n",
    "a.shape"
   ]
  },
  {
   "cell_type": "markdown",
   "id": "XN0eBL0dSWON",
   "metadata": {
    "id": "XN0eBL0dSWON"
   },
   "source": [
    "### Create another array b which is transpose of a"
   ]
  },
  {
   "cell_type": "code",
   "execution_count": 55,
   "id": "KDK062tTSWON",
   "metadata": {
    "id": "KDK062tTSWON"
   },
   "outputs": [],
   "source": [
    "# your code here\n",
    "b = a.T"
   ]
  },
  {
   "cell_type": "markdown",
   "id": "6-undzUeSWON",
   "metadata": {
    "id": "6-undzUeSWON"
   },
   "source": [
    "Print b and its shape"
   ]
  },
  {
   "cell_type": "code",
   "execution_count": 56,
   "id": "A0G1sELiSWOO",
   "metadata": {
    "colab": {
     "base_uri": "https://localhost:8080/"
    },
    "id": "A0G1sELiSWOO",
    "outputId": "7bfcd547-8374-4598-84e8-dd0a4120c197"
   },
   "outputs": [
    {
     "name": "stdout",
     "output_type": "stream",
     "text": [
      "(3, 4)\n",
      "[[ 1  4  7 10]\n",
      " [ 2  5  8 11]\n",
      " [ 3  6  9 12]]\n"
     ]
    }
   ],
   "source": [
    "# your code here\n",
    "print(b.shape)\n",
    "print(b)"
   ]
  },
  {
   "cell_type": "markdown",
   "id": "KLRfAU46SWOO",
   "metadata": {
    "id": "KLRfAU46SWOO"
   },
   "source": [
    "## 8. Mathematical Operations\n",
    "\n"
   ]
  },
  {
   "cell_type": "markdown",
   "id": "GcQsUIeBSWOO",
   "metadata": {
    "id": "GcQsUIeBSWOO"
   },
   "source": [
    "### Complete the following tasks given in comment using numpy function."
   ]
  },
  {
   "cell_type": "code",
   "execution_count": 57,
   "id": "GxwrZvWXSWOO",
   "metadata": {
    "colab": {
     "base_uri": "https://localhost:8080/"
    },
    "id": "GxwrZvWXSWOO",
    "outputId": "250f08be-94a4-4f2f-aff2-ba07e27e09b0"
   },
   "outputs": [
    {
     "name": "stdout",
     "output_type": "stream",
     "text": [
      "[0 1 2 3 4 5 6 7 8 9]\n"
     ]
    }
   ],
   "source": [
    "# complete your tasks here\n",
    "\n",
    "# Create an array, a = np.arange(10) and print a\n",
    "a = np.arange(10)\n",
    "print(a)\n"
   ]
  },
  {
   "cell_type": "code",
   "execution_count": 58,
   "id": "aegnP381SWOO",
   "metadata": {
    "colab": {
     "base_uri": "https://localhost:8080/"
    },
    "id": "aegnP381SWOO",
    "outputId": "0e4a82df-5c4e-460e-f8ba-1911003e4163"
   },
   "outputs": [
    {
     "data": {
      "text/plain": [
       "array([ 0.        ,  0.84147098,  0.90929743,  0.14112001, -0.7568025 ,\n",
       "       -0.95892427, -0.2794155 ,  0.6569866 ,  0.98935825,  0.41211849])"
      ]
     },
     "execution_count": 58,
     "metadata": {},
     "output_type": "execute_result"
    }
   ],
   "source": [
    "# Find sin value of a\n",
    "np.sin(a)"
   ]
  },
  {
   "cell_type": "code",
   "execution_count": 59,
   "id": "-55RPoQKSWOO",
   "metadata": {
    "colab": {
     "base_uri": "https://localhost:8080/"
    },
    "id": "-55RPoQKSWOO",
    "outputId": "3a62dbcd-5642-4f08-bc79-98a0ef4def32"
   },
   "outputs": [
    {
     "data": {
      "text/plain": [
       "array([ 1.        ,  0.54030231, -0.41614684, -0.9899925 , -0.65364362,\n",
       "        0.28366219,  0.96017029,  0.75390225, -0.14550003, -0.91113026])"
      ]
     },
     "execution_count": 59,
     "metadata": {},
     "output_type": "execute_result"
    }
   ],
   "source": [
    "# Find cos value a\n",
    "np.cos(a)"
   ]
  },
  {
   "cell_type": "code",
   "execution_count": 60,
   "id": "7AnAi2gSSWOO",
   "metadata": {
    "colab": {
     "base_uri": "https://localhost:8080/"
    },
    "id": "7AnAi2gSSWOO",
    "outputId": "49f42a68-d13f-422d-9eab-353e3025d690"
   },
   "outputs": [
    {
     "data": {
      "text/plain": [
       "array([1.00000000e+00, 2.71828183e+00, 7.38905610e+00, 2.00855369e+01,\n",
       "       5.45981500e+01, 1.48413159e+02, 4.03428793e+02, 1.09663316e+03,\n",
       "       2.98095799e+03, 8.10308393e+03])"
      ]
     },
     "execution_count": 60,
     "metadata": {},
     "output_type": "execute_result"
    }
   ],
   "source": [
    "# Find exponential of all the values in a.\n",
    "np.exp(a)"
   ]
  },
  {
   "cell_type": "code",
   "execution_count": 62,
   "id": "tdztKHB0SWOO",
   "metadata": {
    "colab": {
     "base_uri": "https://localhost:8080/"
    },
    "id": "tdztKHB0SWOO",
    "outputId": "caeec6d6-048c-4fe1-b920-4c7ef962e8b6"
   },
   "outputs": [
    {
     "data": {
      "text/plain": [
       "45"
      ]
     },
     "execution_count": 62,
     "metadata": {},
     "output_type": "execute_result"
    }
   ],
   "source": [
    "# Find the sum of all the values in a.\n",
    "np.sum(a)"
   ]
  },
  {
   "cell_type": "code",
   "execution_count": 63,
   "id": "C5huet7ISWOO",
   "metadata": {
    "colab": {
     "base_uri": "https://localhost:8080/"
    },
    "id": "C5huet7ISWOO",
    "outputId": "a77773d8-a907-44a4-8856-fec5f699efe6"
   },
   "outputs": [
    {
     "data": {
      "text/plain": [
       "4.5"
      ]
     },
     "execution_count": 63,
     "metadata": {},
     "output_type": "execute_result"
    }
   ],
   "source": [
    "# Find the median value in a.\n",
    "np.median(a)"
   ]
  },
  {
   "cell_type": "code",
   "execution_count": 64,
   "id": "LofLw2QTSWOP",
   "metadata": {
    "colab": {
     "base_uri": "https://localhost:8080/"
    },
    "id": "LofLw2QTSWOP",
    "outputId": "163e6a16-77cd-458b-82d5-b70ce2189a13"
   },
   "outputs": [
    {
     "data": {
      "text/plain": [
       "9"
      ]
     },
     "execution_count": 64,
     "metadata": {},
     "output_type": "execute_result"
    }
   ],
   "source": [
    "#Find the max value of a\n",
    "np.max(a)"
   ]
  },
  {
   "cell_type": "code",
   "execution_count": 65,
   "id": "5-xFPjQkSWOP",
   "metadata": {
    "colab": {
     "base_uri": "https://localhost:8080/"
    },
    "id": "5-xFPjQkSWOP",
    "outputId": "6859dbfc-f57d-4551-efc3-540186b1f14c"
   },
   "outputs": [
    {
     "data": {
      "text/plain": [
       "0"
      ]
     },
     "execution_count": 65,
     "metadata": {},
     "output_type": "execute_result"
    }
   ],
   "source": [
    "#Find the min value of a\n",
    "np.min(a)"
   ]
  },
  {
   "cell_type": "code",
   "execution_count": 69,
   "id": "jQUFfKumSWOP",
   "metadata": {
    "colab": {
     "base_uri": "https://localhost:8080/"
    },
    "id": "jQUFfKumSWOP",
    "outputId": "dd31738c-1ae9-4997-d3f8-b8f3994f9e27"
   },
   "outputs": [
    {
     "data": {
      "text/plain": [
       "9"
      ]
     },
     "execution_count": 69,
     "metadata": {},
     "output_type": "execute_result"
    }
   ],
   "source": [
    "# Find the index of the maximum element in a\n",
    "x = np.where(a == np.max(a))\n",
    "x[0][0]"
   ]
  },
  {
   "cell_type": "markdown",
   "id": "klrqGOR4SWOP",
   "metadata": {
    "id": "klrqGOR4SWOP"
   },
   "source": [
    "## 9. Hstack and vstack\n",
    "\n"
   ]
  },
  {
   "cell_type": "markdown",
   "id": "tUWPiRjDSWOP",
   "metadata": {
    "id": "tUWPiRjDSWOP"
   },
   "source": [
    "Create a = np.array( [ [1, 2, 3], [ 4, 5, 6], [7 ,8, 9] ]) and print a."
   ]
  },
  {
   "cell_type": "code",
   "execution_count": 70,
   "id": "uzZal11ESWOP",
   "metadata": {
    "colab": {
     "base_uri": "https://localhost:8080/"
    },
    "id": "uzZal11ESWOP",
    "outputId": "32aaec64-73e2-4fb6-b427-c9e641ceb682"
   },
   "outputs": [
    {
     "name": "stdout",
     "output_type": "stream",
     "text": [
      "[[1 2 3]\n",
      " [4 5 6]\n",
      " [7 8 9]]\n"
     ]
    }
   ],
   "source": [
    "# your code here\n",
    "a = np.array( [ [1, 2, 3], [ 4, 5, 6], [7 ,8, 9] ]) \n",
    "\n",
    "\n",
    "print(a)"
   ]
  },
  {
   "cell_type": "markdown",
   "id": "sljZguKHSWOP",
   "metadata": {
    "id": "sljZguKHSWOP"
   },
   "source": [
    "Create b = np.array( [ [10, 11, 12] , [13,14,15], [16, 17, 18] ]) and print b\n"
   ]
  },
  {
   "cell_type": "code",
   "execution_count": 71,
   "id": "yG25YIeSSWOP",
   "metadata": {
    "colab": {
     "base_uri": "https://localhost:8080/"
    },
    "id": "yG25YIeSSWOP",
    "outputId": "cbaea8ae-104a-4873-ea61-56d7dbd6aa43"
   },
   "outputs": [
    {
     "name": "stdout",
     "output_type": "stream",
     "text": [
      "[[10 11 12]\n",
      " [13 14 15]\n",
      " [16 17 18]]\n"
     ]
    }
   ],
   "source": [
    "# your code here\n",
    "b = np.array( [ [10, 11, 12] , [13,14,15], [16, 17, 18] ])\n",
    "\n",
    "print(b)"
   ]
  },
  {
   "cell_type": "markdown",
   "id": "sqFsK83KSWOP",
   "metadata": {
    "id": "sqFsK83KSWOP"
   },
   "source": [
    "Create a new array c stacking a and b horizontally, print the values and shape of this array."
   ]
  },
  {
   "cell_type": "code",
   "execution_count": 74,
   "id": "YJ-pyQPaSWOQ",
   "metadata": {
    "colab": {
     "base_uri": "https://localhost:8080/"
    },
    "id": "YJ-pyQPaSWOQ",
    "outputId": "2b08f86f-5985-4847-d98d-edc44889e78b"
   },
   "outputs": [
    {
     "name": "stdout",
     "output_type": "stream",
     "text": [
      "[[ 1  2  3 10 11 12]\n",
      " [ 4  5  6 13 14 15]\n",
      " [ 7  8  9 16 17 18]]\n",
      "(3, 6)\n"
     ]
    }
   ],
   "source": [
    "# your code here\n",
    "c = np.hstack([a,b])\n",
    "\n",
    "print(c)\n",
    "print(c.shape)"
   ]
  },
  {
   "cell_type": "markdown",
   "id": "P0IyLJMXSWOQ",
   "metadata": {
    "id": "P0IyLJMXSWOQ"
   },
   "source": [
    "Create a new array d stacking a and b vertically, print the values and shape of this array."
   ]
  },
  {
   "cell_type": "code",
   "execution_count": 75,
   "id": "y8GyH4DkSWOQ",
   "metadata": {
    "colab": {
     "base_uri": "https://localhost:8080/"
    },
    "id": "y8GyH4DkSWOQ",
    "outputId": "bde93505-bbce-4242-b19f-de7dcf21d9b6"
   },
   "outputs": [
    {
     "name": "stdout",
     "output_type": "stream",
     "text": [
      "[[ 1  2  3]\n",
      " [ 4  5  6]\n",
      " [ 7  8  9]\n",
      " [10 11 12]\n",
      " [13 14 15]\n",
      " [16 17 18]]\n",
      "(6, 3)\n"
     ]
    }
   ],
   "source": [
    "# your code here\n",
    "d = np.vstack([a,b])\n",
    "\n",
    "print(d)\n",
    "print(d.shape)"
   ]
  },
  {
   "cell_type": "code",
   "execution_count": 76,
   "id": "AWAXGa-bSWOR",
   "metadata": {
    "id": "AWAXGa-bSWOR"
   },
   "outputs": [
    {
     "data": {
      "text/plain": [
       "array([[ 80842, 333008, 202553, 140037,  81969],\n",
       "       [ 63857,  42105, 261540, 481981, 176739],\n",
       "       [489984, 326386, 110795, 394863,  25024],\n",
       "       [ 38317,  49982, 408830, 485118,  16119],\n",
       "       [407675, 231729, 265455, 109413, 103399],\n",
       "       [174677, 343356, 301717, 224120, 401101],\n",
       "       [140473, 254634, 112262,  25063, 108262],\n",
       "       [375059, 406983, 208947, 115641, 296685],\n",
       "       [444899, 129585, 171318, 313094, 425041],\n",
       "       [188411, 335140, 141681,  59641, 211420],\n",
       "       [287650,   8973, 477425, 382803, 465168],\n",
       "       [  3975,  32213, 160603, 275485, 388234],\n",
       "       [246225,  56174, 244097,   9350, 496966],\n",
       "       [225516, 273338,  73335, 283013, 212813],\n",
       "       [ 38175, 282399, 318413, 337639, 379802],\n",
       "       [198049, 101115, 419547, 260219, 325793],\n",
       "       [148593, 425024, 348570, 117968, 107007],\n",
       "       [ 52547, 180346, 178760, 305186, 262153],\n",
       "       [ 11835, 449971, 494184, 472031, 353049],\n",
       "       [476442,  35455, 191553, 384154,  29917]])"
      ]
     },
     "execution_count": 76,
     "metadata": {},
     "output_type": "execute_result"
    }
   ],
   "source": [
    "np.random.seed(21) # This guarantees the code will generate the same set of random numbers whenever executed\n",
    "random_integers = np.random.randint(1,high=500000, size=(20, 5))\n",
    "random_integers"
   ]
  },
  {
   "cell_type": "markdown",
   "id": "c2982412-dcd6-411e-a120-abf12c73b6af",
   "metadata": {},
   "source": [
    "What is the average value of the second column (to two decimal places)"
   ]
  },
  {
   "cell_type": "code",
   "execution_count": 77,
   "id": "118aeec0-2a53-4d4b-8082-2b5457b32f17",
   "metadata": {},
   "outputs": [
    {
     "data": {
      "text/plain": [
       "214895.8"
      ]
     },
     "execution_count": 77,
     "metadata": {},
     "output_type": "execute_result"
    }
   ],
   "source": [
    "#your code\n",
    "random_integers.mean(axis=0)[1]"
   ]
  },
  {
   "cell_type": "markdown",
   "id": "eb011890-e4ca-4d51-b202-4a9de779d493",
   "metadata": {},
   "source": [
    "What is the average value of the first 5 rows of the third and fourth columns?"
   ]
  },
  {
   "cell_type": "code",
   "execution_count": 78,
   "id": "809700af-5be6-4c9f-8259-92c5bdbf64b1",
   "metadata": {},
   "outputs": [
    {
     "data": {
      "text/plain": [
       "286058.5"
      ]
     },
     "execution_count": 78,
     "metadata": {},
     "output_type": "execute_result"
    }
   ],
   "source": [
    "#your code\n",
    "np.mean(random_integers[:5,2:4])"
   ]
  },
  {
   "cell_type": "markdown",
   "id": "40b4bb76-2d8d-4622-bdc7-60025e38faef",
   "metadata": {},
   "source": [
    "Write a NumPy program to sort an given array by the nth column."
   ]
  },
  {
   "cell_type": "code",
   "execution_count": 79,
   "id": "a08ec803-cd77-4ecb-bae0-daf8765bd74c",
   "metadata": {},
   "outputs": [],
   "source": [
    "a = np.array([[10, 40],[30, 20]])"
   ]
  },
  {
   "cell_type": "code",
   "execution_count": 82,
   "id": "0f6b687c-00a0-455c-b550-c4ca3dc1e56a",
   "metadata": {},
   "outputs": [
    {
     "data": {
      "text/plain": [
       "array([[10, 40],\n",
       "       [20, 30]])"
      ]
     },
     "execution_count": 82,
     "metadata": {},
     "output_type": "execute_result"
    }
   ],
   "source": [
    "np.sort(a)"
   ]
  },
  {
   "cell_type": "code",
   "execution_count": 86,
   "id": "a42f3ed6-c4a5-4158-9abf-c5f76cef99d9",
   "metadata": {},
   "outputs": [
    {
     "data": {
      "text/plain": [
       "array([['James', '5', '48.5'],\n",
       "       ['Nail', '6', '52.5'],\n",
       "       ['Paul', '5', '42.1'],\n",
       "       ['Pit', '5', '40.11']], dtype='<U5')"
      ]
     },
     "execution_count": 86,
     "metadata": {},
     "output_type": "execute_result"
    }
   ],
   "source": [
    "#create a array like below output\n",
    "arr = np.array([['James' ,'5', '48.5'],\n",
    " ['Nail', '6' ,'52.5'],\n",
    " ['Paul', '5' ,'42.1'],\n",
    " ['Pit' ,'5' ,'40.11']]\n",
    ")\n",
    "arr"
   ]
  },
  {
   "cell_type": "code",
   "execution_count": 87,
   "id": "d56cb53d-d9b8-45b9-b147-b5ad675cb386",
   "metadata": {},
   "outputs": [
    {
     "data": {
      "text/plain": [
       "[array(['Pit', '5', '40.11'], dtype='<U5'),\n",
       " array(['Paul', '5', '42.1'], dtype='<U5'),\n",
       " array(['James', '5', '48.5'], dtype='<U5'),\n",
       " array(['Nail', '6', '52.5'], dtype='<U5')]"
      ]
     },
     "execution_count": 87,
     "metadata": {},
     "output_type": "execute_result"
    }
   ],
   "source": [
    "# write your code here to sort by height of the student as below output\n",
    "sorted(arr, key=lambda x: x[2])"
   ]
  },
  {
   "cell_type": "code",
   "execution_count": 11,
   "id": "2d671f1b-8129-44c2-ac7b-84fadd642d42",
   "metadata": {},
   "outputs": [],
   "source": [
    "a = np.array([1,2,3,4,5])\n",
    "b = np.array([1,3,2,4,5])"
   ]
  },
  {
   "cell_type": "code",
   "execution_count": 12,
   "id": "964c061b-5cc7-4395-8dc9-055ebea344ec",
   "metadata": {},
   "outputs": [
    {
     "name": "stdout",
     "output_type": "stream",
     "text": [
      "(array([0, 3, 4]),)\n"
     ]
    }
   ],
   "source": [
    "#write you code here\n"
   ]
  },
  {
   "cell_type": "markdown",
   "id": "4a0d8879-1484-48bb-bec9-420ff9ad7228",
   "metadata": {},
   "source": [
    "Matrix Generation with one particular value"
   ]
  },
  {
   "cell_type": "code",
   "execution_count": 88,
   "id": "8cd4707b-63bb-46b9-a029-3d1413a7d917",
   "metadata": {},
   "outputs": [
    {
     "data": {
      "text/plain": [
       "array([[5, 5, 5],\n",
       "       [5, 5, 5]])"
      ]
     },
     "execution_count": 88,
     "metadata": {},
     "output_type": "execute_result"
    }
   ],
   "source": [
    "#write you code here\n",
    "np.full((2,3),5)"
   ]
  },
  {
   "cell_type": "markdown",
   "id": "1575a3f3-788e-4a4b-9e9e-2ff719f5a667",
   "metadata": {},
   "source": [
    "Array Generation by repeatition of a small array across each dimension"
   ]
  },
  {
   "cell_type": "code",
   "execution_count": 89,
   "id": "d357ea9c-81fe-41ba-b9bc-2b69c55ca2d0",
   "metadata": {},
   "outputs": [],
   "source": [
    "a = np.array([[1,2,3],\n",
    "              [4,5,6]])"
   ]
  },
  {
   "cell_type": "code",
   "execution_count": 91,
   "id": "60f0044a-71b6-4673-bc90-799770dda824",
   "metadata": {},
   "outputs": [
    {
     "name": "stdout",
     "output_type": "stream",
     "text": [
      "[[1 2 3 1 2 3 1 2 3 1 2 3 1 2 3]\n",
      " [4 5 6 4 5 6 4 5 6 4 5 6 4 5 6]]\n"
     ]
    }
   ],
   "source": [
    "#your code\n",
    "\n",
    "print(np.tile(a,5))"
   ]
  },
  {
   "cell_type": "code",
   "execution_count": 104,
   "id": "a1d3ca59-adf0-4660-ad03-585b291a8c77",
   "metadata": {},
   "outputs": [
    {
     "name": "stdout",
     "output_type": "stream",
     "text": [
      "[0, -1, 2, -1, 4, -1, 6, -1, 8, -1]\n"
     ]
    }
   ],
   "source": [
    "#write code to generate following code\n",
    "out = []\n",
    "for i in k:\n",
    "    if i%2 == 0:\n",
    "        out.append(i)\n",
    "        out.append(-1)\n",
    "        \n",
    "print(out)"
   ]
  },
  {
   "cell_type": "code",
   "execution_count": null,
   "id": "0545135e-21ae-47dc-9282-50c08ae31c69",
   "metadata": {},
   "outputs": [],
   "source": []
  }
 ],
 "metadata": {
  "colab": {
   "collapsed_sections": [],
   "name": "Numpy_assignment.ipynb",
   "provenance": []
  },
  "kernelspec": {
   "display_name": "Python 3 (ipykernel)",
   "language": "python",
   "name": "python3"
  },
  "language_info": {
   "codemirror_mode": {
    "name": "ipython",
    "version": 3
   },
   "file_extension": ".py",
   "mimetype": "text/x-python",
   "name": "python",
   "nbconvert_exporter": "python",
   "pygments_lexer": "ipython3",
   "version": "3.8.10"
  }
 },
 "nbformat": 4,
 "nbformat_minor": 5
}
