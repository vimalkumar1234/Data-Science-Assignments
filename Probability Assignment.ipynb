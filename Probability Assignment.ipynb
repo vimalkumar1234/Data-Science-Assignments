{
 "cells": [
  {
   "cell_type": "markdown",
   "id": "d0a24a58",
   "metadata": {},
   "source": [
    "# Binomial Distribution"
   ]
  },
  {
   "cell_type": "markdown",
   "id": "caf8cab2",
   "metadata": {},
   "source": [
    "## 1.) Executives in the New Zealand Forestry Industry claim that only 5% of all old sawmills sites contain soil residuals of dioxin (an additive previously used for anti-sap-stain treatment in wood) higher than the recommended level. If Environment Canterbury randomly selects 20 old saw mill sites for inspection, assuming that the executive claim is correct: "
   ]
  },
  {
   "cell_type": "markdown",
   "id": "855a829a",
   "metadata": {},
   "source": [
    "### a) Calculate the probability that less than 1 site exceeds the recommended level of dioxin."
   ]
  },
  {
   "cell_type": "code",
   "execution_count": 7,
   "id": "25f1e163",
   "metadata": {},
   "outputs": [],
   "source": [
    "from scipy.stats import binom"
   ]
  },
  {
   "cell_type": "code",
   "execution_count": 8,
   "id": "f59dffcf",
   "metadata": {},
   "outputs": [],
   "source": [
    "soln_1=binom.pmf(0,20,0.05)"
   ]
  },
  {
   "cell_type": "code",
   "execution_count": 9,
   "id": "8f073470",
   "metadata": {},
   "outputs": [
    {
     "data": {
      "text/plain": [
       "0.3584859224085419"
      ]
     },
     "execution_count": 9,
     "metadata": {},
     "output_type": "execute_result"
    }
   ],
   "source": [
    "soln_1"
   ]
  },
  {
   "cell_type": "markdown",
   "id": "dabcb014",
   "metadata": {},
   "source": [
    "### b) Calculate the probability that less than or equal to 1 site exceed the recommended level of dioxin."
   ]
  },
  {
   "cell_type": "code",
   "execution_count": 10,
   "id": "b61e0648",
   "metadata": {},
   "outputs": [],
   "source": [
    "soln_2=binom.pmf(1,20,0.05)"
   ]
  },
  {
   "cell_type": "code",
   "execution_count": 11,
   "id": "64a99593",
   "metadata": {},
   "outputs": [
    {
     "data": {
      "text/plain": [
       "0.37735360253530753"
      ]
     },
     "execution_count": 11,
     "metadata": {},
     "output_type": "execute_result"
    }
   ],
   "source": [
    "soln_2"
   ]
  },
  {
   "cell_type": "code",
   "execution_count": 12,
   "id": "d7f8d546",
   "metadata": {},
   "outputs": [],
   "source": [
    "fin_out=soln_1 + soln_2"
   ]
  },
  {
   "cell_type": "code",
   "execution_count": 13,
   "id": "5db1341d",
   "metadata": {},
   "outputs": [
    {
     "data": {
      "text/plain": [
       "0.7358395249438494"
      ]
     },
     "execution_count": 13,
     "metadata": {},
     "output_type": "execute_result"
    }
   ],
   "source": [
    "fin_out"
   ]
  },
  {
   "cell_type": "markdown",
   "id": "25d0670d",
   "metadata": {},
   "source": [
    "### c) Calculate the probability that at most (i.e., maximum of) 2 sites exceed the recommended level of dioxin. "
   ]
  },
  {
   "cell_type": "code",
   "execution_count": 15,
   "id": "dbd384b3",
   "metadata": {},
   "outputs": [],
   "source": [
    "soln_3=binom.pmf(2,20,0.05)"
   ]
  },
  {
   "cell_type": "code",
   "execution_count": 16,
   "id": "e1ebd55f",
   "metadata": {},
   "outputs": [
    {
     "data": {
      "text/plain": [
       "0.18867680126765404"
      ]
     },
     "execution_count": 16,
     "metadata": {},
     "output_type": "execute_result"
    }
   ],
   "source": [
    "soln_3"
   ]
  },
  {
   "cell_type": "code",
   "execution_count": 17,
   "id": "f9727480",
   "metadata": {},
   "outputs": [],
   "source": [
    "fin_out=soln_1 + soln_2+soln_3"
   ]
  },
  {
   "cell_type": "code",
   "execution_count": 18,
   "id": "4df934a1",
   "metadata": {},
   "outputs": [
    {
     "data": {
      "text/plain": [
       "0.9245163262115035"
      ]
     },
     "execution_count": 18,
     "metadata": {},
     "output_type": "execute_result"
    }
   ],
   "source": [
    "fin_out"
   ]
  },
  {
   "cell_type": "markdown",
   "id": "ad70dfa9",
   "metadata": {},
   "source": [
    "## 2- Inland Revenue audits 5% of all companies every year. The companies selected for auditing in any one year are independent of the previous year’s selection.\n"
   ]
  },
  {
   "cell_type": "markdown",
   "id": "a5be0268",
   "metadata": {},
   "source": [
    "###   a) What is the probability that the company ‘Ross Waste Disposal’ will be selected for auditing exactly twice in the next 5 years?\n"
   ]
  },
  {
   "cell_type": "code",
   "execution_count": 19,
   "id": "0d309bd1",
   "metadata": {},
   "outputs": [],
   "source": [
    "soln=binom.pmf(2,5,0.05)"
   ]
  },
  {
   "cell_type": "code",
   "execution_count": 20,
   "id": "4a18c3c9",
   "metadata": {},
   "outputs": [
    {
     "data": {
      "text/plain": [
       "0.02143437499999999"
      ]
     },
     "execution_count": 20,
     "metadata": {},
     "output_type": "execute_result"
    }
   ],
   "source": [
    "soln"
   ]
  },
  {
   "cell_type": "markdown",
   "id": "e8e67741",
   "metadata": {},
   "source": [
    "### b) What is the probability that the company will be audited exactly twice in the next 2 years?"
   ]
  },
  {
   "cell_type": "code",
   "execution_count": 21,
   "id": "01a42385",
   "metadata": {},
   "outputs": [],
   "source": [
    "out=binom.pmf(2,2,0.05)"
   ]
  },
  {
   "cell_type": "code",
   "execution_count": 22,
   "id": "f539aba1",
   "metadata": {},
   "outputs": [
    {
     "data": {
      "text/plain": [
       "0.0025000000000000005"
      ]
     },
     "execution_count": 22,
     "metadata": {},
     "output_type": "execute_result"
    }
   ],
   "source": [
    "out"
   ]
  },
  {
   "cell_type": "markdown",
   "id": "e3912633",
   "metadata": {},
   "source": [
    "### c) What is the exact probability that this company will be audited at least once in the next 4 years?"
   ]
  },
  {
   "cell_type": "code",
   "execution_count": 23,
   "id": "86deb5d8",
   "metadata": {},
   "outputs": [],
   "source": [
    "out_1=binom.pmf(0,4,0.05)"
   ]
  },
  {
   "cell_type": "code",
   "execution_count": 24,
   "id": "e3f5a754",
   "metadata": {},
   "outputs": [
    {
     "data": {
      "text/plain": [
       "0.8145062499999999"
      ]
     },
     "execution_count": 24,
     "metadata": {},
     "output_type": "execute_result"
    }
   ],
   "source": [
    "out_1"
   ]
  },
  {
   "cell_type": "code",
   "execution_count": 25,
   "id": "fd051445",
   "metadata": {},
   "outputs": [],
   "source": [
    "out=1-out_1"
   ]
  },
  {
   "cell_type": "code",
   "execution_count": 26,
   "id": "68ba67ab",
   "metadata": {},
   "outputs": [
    {
     "data": {
      "text/plain": [
       "0.18549375000000012"
      ]
     },
     "execution_count": 26,
     "metadata": {},
     "output_type": "execute_result"
    }
   ],
   "source": [
    "out"
   ]
  },
  {
   "cell_type": "markdown",
   "id": "1452fced",
   "metadata": {},
   "source": [
    "## 3 The probability that a driver must stop at any one traffic light coming to Lincoln University is 0.2. There are 15 sets of traffic lights on the journey"
   ]
  },
  {
   "cell_type": "markdown",
   "id": "9248f596",
   "metadata": {},
   "source": [
    "### a) What is the probability that a student must stop at exactly 2 of the 15 sets of traffic lights?"
   ]
  },
  {
   "cell_type": "code",
   "execution_count": 27,
   "id": "87ad7e87",
   "metadata": {},
   "outputs": [],
   "source": [
    "x=binom.pmf(2,15,0.2)"
   ]
  },
  {
   "cell_type": "code",
   "execution_count": 28,
   "id": "10518231",
   "metadata": {},
   "outputs": [
    {
     "data": {
      "text/plain": [
       "0.23089744183296013"
      ]
     },
     "execution_count": 28,
     "metadata": {},
     "output_type": "execute_result"
    }
   ],
   "source": [
    "x"
   ]
  },
  {
   "cell_type": "markdown",
   "id": "c1ede4e8",
   "metadata": {},
   "source": [
    "### b) What is the probability that a student will be stopped at 1 or more of the 15 sets of traffic lights?"
   ]
  },
  {
   "cell_type": "code",
   "execution_count": 29,
   "id": "07c71a01",
   "metadata": {},
   "outputs": [],
   "source": [
    "xx=binom.pmf(0,15,0.2)"
   ]
  },
  {
   "cell_type": "code",
   "execution_count": 30,
   "id": "eeebac54",
   "metadata": {},
   "outputs": [
    {
     "data": {
      "text/plain": [
       "0.03518437208883203"
      ]
     },
     "execution_count": 30,
     "metadata": {},
     "output_type": "execute_result"
    }
   ],
   "source": [
    "xx"
   ]
  },
  {
   "cell_type": "code",
   "execution_count": 32,
   "id": "9acf4761",
   "metadata": {},
   "outputs": [],
   "source": [
    "f_out=1-xx"
   ]
  },
  {
   "cell_type": "code",
   "execution_count": 33,
   "id": "f53f535d",
   "metadata": {},
   "outputs": [
    {
     "data": {
      "text/plain": [
       "0.9648156279111679"
      ]
     },
     "execution_count": 33,
     "metadata": {},
     "output_type": "execute_result"
    }
   ],
   "source": [
    "f_out"
   ]
  },
  {
   "cell_type": "markdown",
   "id": "7d0099c1",
   "metadata": {},
   "source": [
    "# Poisson Distribution"
   ]
  },
  {
   "cell_type": "markdown",
   "id": "e2890daf",
   "metadata": {},
   "source": [
    "## 1. A radioactive source emits 4 particles on average during a five-second period. "
   ]
  },
  {
   "cell_type": "markdown",
   "id": "952262e7",
   "metadata": {},
   "source": [
    "### a) Calculate the probability that it emits 3 particles during a 5-second period. "
   ]
  },
  {
   "cell_type": "code",
   "execution_count": 34,
   "id": "4467be4b",
   "metadata": {},
   "outputs": [],
   "source": [
    "from scipy.stats import poisson"
   ]
  },
  {
   "cell_type": "code",
   "execution_count": 35,
   "id": "7956edc5",
   "metadata": {},
   "outputs": [
    {
     "data": {
      "text/plain": [
       "0.19536681481316454"
      ]
     },
     "execution_count": 35,
     "metadata": {},
     "output_type": "execute_result"
    }
   ],
   "source": [
    "poisson.pmf(3,4)"
   ]
  },
  {
   "cell_type": "markdown",
   "id": "5a4e33b9",
   "metadata": {},
   "source": [
    "### b) Calculate the probability that it emits at least one particle during a 5-second period."
   ]
  },
  {
   "cell_type": "code",
   "execution_count": 36,
   "id": "9d897421",
   "metadata": {},
   "outputs": [],
   "source": [
    "a=poisson.pmf(0,4)"
   ]
  },
  {
   "cell_type": "code",
   "execution_count": 37,
   "id": "0ac576a6",
   "metadata": {},
   "outputs": [
    {
     "data": {
      "text/plain": [
       "0.01831563888873418"
      ]
     },
     "execution_count": 37,
     "metadata": {},
     "output_type": "execute_result"
    }
   ],
   "source": [
    "a"
   ]
  },
  {
   "cell_type": "code",
   "execution_count": 38,
   "id": "1bde5598",
   "metadata": {},
   "outputs": [],
   "source": [
    "b=1-a"
   ]
  },
  {
   "cell_type": "code",
   "execution_count": 39,
   "id": "75ef6858",
   "metadata": {},
   "outputs": [
    {
     "data": {
      "text/plain": [
       "0.9816843611112658"
      ]
     },
     "execution_count": 39,
     "metadata": {},
     "output_type": "execute_result"
    }
   ],
   "source": [
    "b"
   ]
  },
  {
   "cell_type": "markdown",
   "id": "c84ed124",
   "metadata": {},
   "source": [
    "### c) During a ten-second period, what is the probability that 6 particles are emitted? "
   ]
  },
  {
   "cell_type": "code",
   "execution_count": 40,
   "id": "98393783",
   "metadata": {},
   "outputs": [
    {
     "data": {
      "text/plain": [
       "0.12213821545677205"
      ]
     },
     "execution_count": 40,
     "metadata": {},
     "output_type": "execute_result"
    }
   ],
   "source": [
    "poisson.pmf(6,8)"
   ]
  },
  {
   "cell_type": "markdown",
   "id": "8b0b7292",
   "metadata": {},
   "source": [
    "## 2. The number of typing mistakes made by a secretary has a Poisson distribution. The mistakes are made independently at an average rate of 1.65 per page. Find the probability that a three-page letter contains no mistakes"
   ]
  },
  {
   "cell_type": "code",
   "execution_count": 41,
   "id": "155d9462",
   "metadata": {},
   "outputs": [],
   "source": [
    "y = 1.65 * 3"
   ]
  },
  {
   "cell_type": "code",
   "execution_count": 42,
   "id": "6248237f",
   "metadata": {},
   "outputs": [
    {
     "data": {
      "text/plain": [
       "4.949999999999999"
      ]
     },
     "execution_count": 42,
     "metadata": {},
     "output_type": "execute_result"
    }
   ],
   "source": [
    "y"
   ]
  },
  {
   "cell_type": "code",
   "execution_count": 43,
   "id": "15893a4f",
   "metadata": {},
   "outputs": [
    {
     "data": {
      "text/plain": [
       "0.0070834089290521185"
      ]
     },
     "execution_count": 43,
     "metadata": {},
     "output_type": "execute_result"
    }
   ],
   "source": [
    "poisson.pmf(0,4.95)"
   ]
  },
  {
   "cell_type": "markdown",
   "id": "cb1c1d9f",
   "metadata": {},
   "source": [
    "## 3. A 5-litre bucket of water is taken from a swamp. The water contains 75 mosquito larvae. A 200mL flask of water is taken form the bucket for further analysis "
   ]
  },
  {
   "cell_type": "markdown",
   "id": "74c0e7dd",
   "metadata": {},
   "source": [
    "### a) the expected number of larvae in the flask? "
   ]
  },
  {
   "cell_type": "markdown",
   "id": "d27b8031",
   "metadata": {},
   "source": [
    "λ = 75 per 5L, \n",
    "\n",
    "x = ?\n",
    "\n",
    "let x = number of larvae\n",
    "\n",
    "5 L = 5000 mL\n"
   ]
  },
  {
   "cell_type": "code",
   "execution_count": 40,
   "id": "07a539a4",
   "metadata": {},
   "outputs": [],
   "source": [
    "x= 15000/5000"
   ]
  },
  {
   "cell_type": "code",
   "execution_count": 41,
   "id": "445b1728",
   "metadata": {},
   "outputs": [
    {
     "data": {
      "text/plain": [
       "3.0"
      ]
     },
     "execution_count": 41,
     "metadata": {},
     "output_type": "execute_result"
    }
   ],
   "source": [
    "x"
   ]
  },
  {
   "cell_type": "markdown",
   "id": "eb47d784",
   "metadata": {},
   "source": [
    "### b) the probability that the flask contains at least one mosquito lava? "
   ]
  },
  {
   "cell_type": "code",
   "execution_count": 42,
   "id": "6570cce8",
   "metadata": {},
   "outputs": [],
   "source": [
    "c=poisson.pmf(0,3)"
   ]
  },
  {
   "cell_type": "code",
   "execution_count": 43,
   "id": "55321245",
   "metadata": {},
   "outputs": [
    {
     "data": {
      "text/plain": [
       "0.049787068367863944"
      ]
     },
     "execution_count": 43,
     "metadata": {},
     "output_type": "execute_result"
    }
   ],
   "source": [
    "c"
   ]
  },
  {
   "cell_type": "code",
   "execution_count": 44,
   "id": "5fb6618e",
   "metadata": {},
   "outputs": [],
   "source": [
    "d=1-c"
   ]
  },
  {
   "cell_type": "code",
   "execution_count": 45,
   "id": "579ea426",
   "metadata": {},
   "outputs": [
    {
     "data": {
      "text/plain": [
       "0.950212931632136"
      ]
     },
     "execution_count": 45,
     "metadata": {},
     "output_type": "execute_result"
    }
   ],
   "source": [
    "d"
   ]
  },
  {
   "cell_type": "markdown",
   "id": "ef5fb7fe",
   "metadata": {},
   "source": [
    "## 4. If the light bulbs in a house fail according to a Poisson law, and over the last 15 weeks there have been 5 failures, find the probability that there will not be more than one failure next week. "
   ]
  },
  {
   "cell_type": "code",
   "execution_count": 46,
   "id": "35a05031",
   "metadata": {},
   "outputs": [],
   "source": [
    "f=poisson.pmf(0,1/3)"
   ]
  },
  {
   "cell_type": "code",
   "execution_count": 47,
   "id": "e9ad49a9",
   "metadata": {},
   "outputs": [
    {
     "data": {
      "text/plain": [
       "0.7165313105737893"
      ]
     },
     "execution_count": 47,
     "metadata": {},
     "output_type": "execute_result"
    }
   ],
   "source": [
    "f"
   ]
  },
  {
   "cell_type": "code",
   "execution_count": 48,
   "id": "867c4b32",
   "metadata": {},
   "outputs": [],
   "source": [
    "g=poisson.pmf(1,1/3)"
   ]
  },
  {
   "cell_type": "code",
   "execution_count": 49,
   "id": "28896743",
   "metadata": {},
   "outputs": [
    {
     "data": {
      "text/plain": [
       "0.23884377019126307"
      ]
     },
     "execution_count": 49,
     "metadata": {},
     "output_type": "execute_result"
    }
   ],
   "source": [
    "g"
   ]
  },
  {
   "cell_type": "code",
   "execution_count": 50,
   "id": "b9cb98d7",
   "metadata": {},
   "outputs": [],
   "source": [
    "fg01=f+g"
   ]
  },
  {
   "cell_type": "code",
   "execution_count": 51,
   "id": "57597838",
   "metadata": {},
   "outputs": [
    {
     "data": {
      "text/plain": [
       "0.9553750807650523"
      ]
     },
     "execution_count": 51,
     "metadata": {},
     "output_type": "execute_result"
    }
   ],
   "source": [
    "fg01"
   ]
  },
  {
   "cell_type": "markdown",
   "id": "c470d4db",
   "metadata": {},
   "source": [
    "# Normal Distribution"
   ]
  },
  {
   "cell_type": "markdown",
   "id": "a52e0461",
   "metadata": {},
   "source": [
    "## 1. Potassium blood levels in healthy humans are normally distributed with a mean of 17.0 mg/100 ml, and standard deviation of 1.0 mg/100 ml. Elevated levels of potassium indicate an electrolyte balance problem, such as may be caused by Addison’s disease. However, a test for potassium level should not cause too many “false positives”.What level of potassium should we use so that only 2.5 % of healthy individuals are classified as “abnormally high”? "
   ]
  },
  {
   "cell_type": "code",
   "execution_count": 52,
   "id": "abec3752",
   "metadata": {},
   "outputs": [],
   "source": [
    "from scipy import stats"
   ]
  },
  {
   "cell_type": "code",
   "execution_count": 53,
   "id": "66d58f71",
   "metadata": {},
   "outputs": [],
   "source": [
    "i=0.025"
   ]
  },
  {
   "cell_type": "code",
   "execution_count": 54,
   "id": "5eedc703",
   "metadata": {},
   "outputs": [],
   "source": [
    "i=stats.norm.ppf(i)"
   ]
  },
  {
   "cell_type": "code",
   "execution_count": 55,
   "id": "65ed2c59",
   "metadata": {},
   "outputs": [
    {
     "data": {
      "text/plain": [
       "-1.9599639845400545"
      ]
     },
     "execution_count": 55,
     "metadata": {},
     "output_type": "execute_result"
    }
   ],
   "source": [
    "i"
   ]
  },
  {
   "cell_type": "markdown",
   "id": "57c5b1a7",
   "metadata": {},
   "source": [
    "1.96=m-17/1.0"
   ]
  },
  {
   "cell_type": "code",
   "execution_count": 56,
   "id": "af228e61",
   "metadata": {},
   "outputs": [
    {
     "data": {
      "text/plain": [
       "18.96"
      ]
     },
     "execution_count": 56,
     "metadata": {},
     "output_type": "execute_result"
    }
   ],
   "source": [
    "m = 1.96*1.0+17\n",
    "m"
   ]
  },
  {
   "cell_type": "markdown",
   "id": "9759b431",
   "metadata": {},
   "source": [
    "## 2. For a particular type of wool the number of ‘crimps per 10cm’ follows a normal distribution with mean 15.1 and standard deviation 4.79 "
   ]
  },
  {
   "cell_type": "markdown",
   "id": "99e7a2b4",
   "metadata": {},
   "source": [
    "### (a) What proportion of wool would have a ‘crimp per 10 cm’ measurement of 6 or less? "
   ]
  },
  {
   "cell_type": "code",
   "execution_count": 60,
   "id": "0eed2d64",
   "metadata": {},
   "outputs": [],
   "source": [
    "z_score = ( 6- 15.1) / 4.79\n",
    "z=round(z_score, 2)"
   ]
  },
  {
   "cell_type": "code",
   "execution_count": 61,
   "id": "2aa4e1be",
   "metadata": {},
   "outputs": [
    {
     "data": {
      "text/plain": [
       "0.028716559816001803"
      ]
     },
     "execution_count": 61,
     "metadata": {},
     "output_type": "execute_result"
    }
   ],
   "source": [
    "stats.norm.cdf(z)"
   ]
  },
  {
   "cell_type": "markdown",
   "id": "5bda7a4f",
   "metadata": {},
   "source": [
    "### (b) If more than 7% of the wool has a ‘crimp per 10 cm’ measurement of 6 or less, then the wool is unsatisfactory for a particular processing. Is the wool satisfactory for this processing?\n"
   ]
  },
  {
   "cell_type": "markdown",
   "id": "11e123bc",
   "metadata": {},
   "source": [
    "It is satisfactory for processing since only 2.87% of wool have a crimp per 10 cm measurement of 6 or less. And it is lesser than the condition which is more than 7%."
   ]
  },
  {
   "cell_type": "markdown",
   "id": "883e5971",
   "metadata": {},
   "source": [
    "## 3. The finish times for marathon runners during a race are normally distributed with a mean of 195 minutes and a standard deviation of 25 minutes. "
   ]
  },
  {
   "cell_type": "markdown",
   "id": "9a384954",
   "metadata": {},
   "source": [
    "### a) What is the probability that a runner will complete the marathon within 3 hours? "
   ]
  },
  {
   "cell_type": "code",
   "execution_count": 62,
   "id": "057728b0",
   "metadata": {},
   "outputs": [],
   "source": [
    "z_scoree = ( 180- 195) / 25\n",
    "zz=round(z_scoree, 2)"
   ]
  },
  {
   "cell_type": "code",
   "execution_count": 63,
   "id": "999b47ff",
   "metadata": {},
   "outputs": [
    {
     "data": {
      "text/plain": [
       "-0.6"
      ]
     },
     "execution_count": 63,
     "metadata": {},
     "output_type": "execute_result"
    }
   ],
   "source": [
    "zz"
   ]
  },
  {
   "cell_type": "code",
   "execution_count": 64,
   "id": "7e49ba36",
   "metadata": {},
   "outputs": [
    {
     "data": {
      "text/plain": [
       "0.2742531177500736"
      ]
     },
     "execution_count": 64,
     "metadata": {},
     "output_type": "execute_result"
    }
   ],
   "source": [
    "stats.norm.cdf(zz)"
   ]
  },
  {
   "cell_type": "markdown",
   "id": "02f9a33a",
   "metadata": {},
   "source": [
    "### b) Calculate to the nearest minute, the time by which the first 8% runners have completed the marathon "
   ]
  },
  {
   "cell_type": "code",
   "execution_count": 65,
   "id": "d1bac6f2",
   "metadata": {},
   "outputs": [],
   "source": [
    "p=0.08"
   ]
  },
  {
   "cell_type": "code",
   "execution_count": 66,
   "id": "a636dc36",
   "metadata": {},
   "outputs": [
    {
     "data": {
      "text/plain": [
       "-1.4050715603096329"
      ]
     },
     "execution_count": 66,
     "metadata": {},
     "output_type": "execute_result"
    }
   ],
   "source": [
    "stats.norm.ppf(p)"
   ]
  },
  {
   "cell_type": "code",
   "execution_count": 67,
   "id": "56e62d74",
   "metadata": {},
   "outputs": [],
   "source": [
    "o=-1.41*25+195"
   ]
  },
  {
   "cell_type": "code",
   "execution_count": 68,
   "id": "8b5ab6a0",
   "metadata": {},
   "outputs": [
    {
     "data": {
      "text/plain": [
       "159.75"
      ]
     },
     "execution_count": 68,
     "metadata": {},
     "output_type": "execute_result"
    }
   ],
   "source": [
    "o"
   ]
  },
  {
   "cell_type": "markdown",
   "id": "087fcd3a",
   "metadata": {},
   "source": [
    "### c) What proportion of the runners will complete the marathon between 3 hours and 4 hours?"
   ]
  },
  {
   "cell_type": "code",
   "execution_count": 69,
   "id": "527b4979",
   "metadata": {},
   "outputs": [],
   "source": [
    "z1=( 180- 195) / 25\n",
    "z1=round(z1, 2)"
   ]
  },
  {
   "cell_type": "code",
   "execution_count": 70,
   "id": "960b276c",
   "metadata": {},
   "outputs": [
    {
     "data": {
      "text/plain": [
       "-0.6"
      ]
     },
     "execution_count": 70,
     "metadata": {},
     "output_type": "execute_result"
    }
   ],
   "source": [
    "z1"
   ]
  },
  {
   "cell_type": "code",
   "execution_count": 71,
   "id": "8ceedf5d",
   "metadata": {},
   "outputs": [],
   "source": [
    "z2=( 240- 195) / 25\n",
    "z2=round(z2, 2)"
   ]
  },
  {
   "cell_type": "code",
   "execution_count": 72,
   "id": "74d60503",
   "metadata": {},
   "outputs": [
    {
     "data": {
      "text/plain": [
       "1.8"
      ]
     },
     "execution_count": 72,
     "metadata": {},
     "output_type": "execute_result"
    }
   ],
   "source": [
    "z2"
   ]
  },
  {
   "cell_type": "code",
   "execution_count": 73,
   "id": "51ae7ad7",
   "metadata": {},
   "outputs": [],
   "source": [
    "z11=stats.norm.cdf(z1)"
   ]
  },
  {
   "cell_type": "code",
   "execution_count": 74,
   "id": "6eb4d03b",
   "metadata": {},
   "outputs": [
    {
     "data": {
      "text/plain": [
       "0.2742531177500736"
      ]
     },
     "execution_count": 74,
     "metadata": {},
     "output_type": "execute_result"
    }
   ],
   "source": [
    "z11"
   ]
  },
  {
   "cell_type": "code",
   "execution_count": 75,
   "id": "1c4c9e03",
   "metadata": {},
   "outputs": [],
   "source": [
    "z12=stats.norm.cdf(z2)"
   ]
  },
  {
   "cell_type": "code",
   "execution_count": 76,
   "id": "9a4497cc",
   "metadata": {},
   "outputs": [
    {
     "data": {
      "text/plain": [
       "0.9640696808870742"
      ]
     },
     "execution_count": 76,
     "metadata": {},
     "output_type": "execute_result"
    }
   ],
   "source": [
    "z12"
   ]
  },
  {
   "cell_type": "code",
   "execution_count": 77,
   "id": "a8540929",
   "metadata": {},
   "outputs": [],
   "source": [
    "z=z12-z11"
   ]
  },
  {
   "cell_type": "code",
   "execution_count": 78,
   "id": "3c9323df",
   "metadata": {},
   "outputs": [
    {
     "data": {
      "text/plain": [
       "0.6898165631370006"
      ]
     },
     "execution_count": 78,
     "metadata": {},
     "output_type": "execute_result"
    }
   ],
   "source": [
    "z"
   ]
  },
  {
   "cell_type": "markdown",
   "id": "796b34bc",
   "metadata": {},
   "source": [
    "## 4. The download time of a resource web page is normally distributed with a mean of 6.5 seconds and a standard deviation of 2.3 seconds "
   ]
  },
  {
   "cell_type": "markdown",
   "id": "91b6b282",
   "metadata": {},
   "source": [
    "### a) What proportion of page downloads take less than 5 seconds? "
   ]
  },
  {
   "cell_type": "code",
   "execution_count": 79,
   "id": "bcecd475",
   "metadata": {},
   "outputs": [],
   "source": [
    "zscor=(5-6.5) / 2.3\n",
    "zscor=round(zscor, 2)"
   ]
  },
  {
   "cell_type": "code",
   "execution_count": 80,
   "id": "8f7976b7",
   "metadata": {},
   "outputs": [
    {
     "data": {
      "text/plain": [
       "-0.65"
      ]
     },
     "execution_count": 80,
     "metadata": {},
     "output_type": "execute_result"
    }
   ],
   "source": [
    "zscor"
   ]
  },
  {
   "cell_type": "markdown",
   "id": "71da7559",
   "metadata": {},
   "source": [
    "### b) What is the probability that the download time will be between 4 and 10 seconds? "
   ]
  },
  {
   "cell_type": "code",
   "execution_count": 81,
   "id": "7194131b",
   "metadata": {},
   "outputs": [],
   "source": [
    "z3=( 4-6.5) / 2.3\n",
    "z3=round(z3, 2)"
   ]
  },
  {
   "cell_type": "code",
   "execution_count": 82,
   "id": "bd49072c",
   "metadata": {},
   "outputs": [
    {
     "data": {
      "text/plain": [
       "-1.09"
      ]
     },
     "execution_count": 82,
     "metadata": {},
     "output_type": "execute_result"
    }
   ],
   "source": [
    "z3"
   ]
  },
  {
   "cell_type": "code",
   "execution_count": 83,
   "id": "f83dabdc",
   "metadata": {},
   "outputs": [],
   "source": [
    "z4=( 10- 6.5) / 2.3\n",
    "z4=round(z4, 2)"
   ]
  },
  {
   "cell_type": "code",
   "execution_count": 84,
   "id": "5ab13e53",
   "metadata": {},
   "outputs": [
    {
     "data": {
      "text/plain": [
       "1.52"
      ]
     },
     "execution_count": 84,
     "metadata": {},
     "output_type": "execute_result"
    }
   ],
   "source": [
    "z4"
   ]
  },
  {
   "cell_type": "code",
   "execution_count": 85,
   "id": "401f8d90",
   "metadata": {},
   "outputs": [],
   "source": [
    "z21=stats.norm.cdf(z3)"
   ]
  },
  {
   "cell_type": "code",
   "execution_count": 86,
   "id": "45d02f50",
   "metadata": {},
   "outputs": [
    {
     "data": {
      "text/plain": [
       "0.1378565720320355"
      ]
     },
     "execution_count": 86,
     "metadata": {},
     "output_type": "execute_result"
    }
   ],
   "source": [
    "z21"
   ]
  },
  {
   "cell_type": "code",
   "execution_count": 87,
   "id": "e07ec4a9",
   "metadata": {},
   "outputs": [],
   "source": [
    "z22=stats.norm.cdf(z4)"
   ]
  },
  {
   "cell_type": "code",
   "execution_count": 88,
   "id": "f2ab67a1",
   "metadata": {},
   "outputs": [
    {
     "data": {
      "text/plain": [
       "0.9357445121810641"
      ]
     },
     "execution_count": 88,
     "metadata": {},
     "output_type": "execute_result"
    }
   ],
   "source": [
    "z22"
   ]
  },
  {
   "cell_type": "code",
   "execution_count": 89,
   "id": "9b316084",
   "metadata": {},
   "outputs": [],
   "source": [
    "z=z22-z21"
   ]
  },
  {
   "cell_type": "code",
   "execution_count": 90,
   "id": "37032c53",
   "metadata": {},
   "outputs": [
    {
     "data": {
      "text/plain": [
       "0.7978879401490286"
      ]
     },
     "execution_count": 90,
     "metadata": {},
     "output_type": "execute_result"
    }
   ],
   "source": [
    "z"
   ]
  },
  {
   "cell_type": "markdown",
   "id": "396021ec",
   "metadata": {},
   "source": [
    "### c) How many seconds will it take for 35% of the downloads to be completed? "
   ]
  },
  {
   "cell_type": "code",
   "execution_count": 91,
   "id": "2b11d01e",
   "metadata": {},
   "outputs": [],
   "source": [
    "zs=0.35"
   ]
  },
  {
   "cell_type": "code",
   "execution_count": 92,
   "id": "65028b2d",
   "metadata": {},
   "outputs": [
    {
     "data": {
      "text/plain": [
       "-0.38532046640756773"
      ]
     },
     "execution_count": 92,
     "metadata": {},
     "output_type": "execute_result"
    }
   ],
   "source": [
    "stats.norm.ppf(zs)"
   ]
  },
  {
   "cell_type": "code",
   "execution_count": 93,
   "id": "d21fe3fb",
   "metadata": {},
   "outputs": [],
   "source": [
    "x=-0.38*2.3+6.5"
   ]
  },
  {
   "cell_type": "code",
   "execution_count": 94,
   "id": "a5c67de5",
   "metadata": {},
   "outputs": [
    {
     "data": {
      "text/plain": [
       "5.626"
      ]
     },
     "execution_count": 94,
     "metadata": {},
     "output_type": "execute_result"
    }
   ],
   "source": [
    "x"
   ]
  },
  {
   "cell_type": "code",
   "execution_count": null,
   "id": "7312896d",
   "metadata": {},
   "outputs": [],
   "source": []
  },
  {
   "cell_type": "code",
   "execution_count": null,
   "id": "1e33e5ac",
   "metadata": {},
   "outputs": [],
   "source": []
  }
 ],
 "metadata": {
  "kernelspec": {
   "display_name": "Python 3 (ipykernel)",
   "language": "python",
   "name": "python3"
  },
  "language_info": {
   "codemirror_mode": {
    "name": "ipython",
    "version": 3
   },
   "file_extension": ".py",
   "mimetype": "text/x-python",
   "name": "python",
   "nbconvert_exporter": "python",
   "pygments_lexer": "ipython3",
   "version": "3.8.10"
  }
 },
 "nbformat": 4,
 "nbformat_minor": 5
}
