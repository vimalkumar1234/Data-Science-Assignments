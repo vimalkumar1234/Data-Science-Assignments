{
 "cells": [
  {
   "cell_type": "markdown",
   "id": "0874992c",
   "metadata": {},
   "source": [
    "# Pandas"
   ]
  },
  {
   "cell_type": "markdown",
   "id": "880e2d6c",
   "metadata": {},
   "source": [
    "## 1.[Pandas Series](https://pandas.pydata.org/pandas-docs/stable/reference/series.html)"
   ]
  },
  {
   "cell_type": "markdown",
   "id": "14f1fce1",
   "metadata": {},
   "source": [
    "Import pandas and numpy with their aliases"
   ]
  },
  {
   "cell_type": "code",
   "execution_count": 2,
   "id": "67b278cb",
   "metadata": {},
   "outputs": [],
   "source": [
    "import pandas as pd\n",
    "import numpy as np"
   ]
  },
  {
   "cell_type": "markdown",
   "id": "c3a8d51f",
   "metadata": {},
   "source": [
    "Create a variable a = pd.Series([ 100, 200, 300, 400])"
   ]
  },
  {
   "cell_type": "code",
   "execution_count": 20,
   "id": "5da44b03",
   "metadata": {},
   "outputs": [],
   "source": [
    "a = pd.Series([ 100, 200, 300, 400])\n"
   ]
  },
  {
   "cell_type": "markdown",
   "id": "8587b8d6",
   "metadata": {},
   "source": [
    "Print a, and type(a) "
   ]
  },
  {
   "cell_type": "code",
   "execution_count": 21,
   "id": "1ff33832",
   "metadata": {},
   "outputs": [
    {
     "name": "stdout",
     "output_type": "stream",
     "text": [
      "0    100\n",
      "1    200\n",
      "2    300\n",
      "3    400\n",
      "dtype: int64\n"
     ]
    },
    {
     "data": {
      "text/plain": [
       "pandas.core.series.Series"
      ]
     },
     "execution_count": 21,
     "metadata": {},
     "output_type": "execute_result"
    }
   ],
   "source": [
    "print(a)\n",
    "type(a)"
   ]
  },
  {
   "cell_type": "markdown",
   "id": "75b91b93",
   "metadata": {},
   "source": [
    "Using indexing access the element 300 from the series a."
   ]
  },
  {
   "cell_type": "code",
   "execution_count": 22,
   "id": "cf74ab8e",
   "metadata": {},
   "outputs": [
    {
     "data": {
      "text/plain": [
       "300"
      ]
     },
     "execution_count": 22,
     "metadata": {},
     "output_type": "execute_result"
    }
   ],
   "source": [
    "a[2]"
   ]
  },
  {
   "cell_type": "markdown",
   "id": "e0b08ea2",
   "metadata": {},
   "source": [
    "What are the values of index for series a?"
   ]
  },
  {
   "cell_type": "code",
   "execution_count": 23,
   "id": "6d6b0503",
   "metadata": {},
   "outputs": [
    {
     "data": {
      "text/plain": [
       "(0, 1, 2, 3)"
      ]
     },
     "execution_count": 23,
     "metadata": {},
     "output_type": "execute_result"
    }
   ],
   "source": [
    "0,1,2,3"
   ]
  },
  {
   "cell_type": "markdown",
   "id": "c48d5da6",
   "metadata": {},
   "source": [
    "Change the index to be ['c', 'a', 'b', 'd']"
   ]
  },
  {
   "cell_type": "code",
   "execution_count": 24,
   "id": "d6b0d71f",
   "metadata": {},
   "outputs": [
    {
     "data": {
      "text/plain": [
       "c    100\n",
       "a    200\n",
       "b    300\n",
       "d    400\n",
       "dtype: int64"
      ]
     },
     "execution_count": 24,
     "metadata": {},
     "output_type": "execute_result"
    }
   ],
   "source": [
    "a=a.rename(index={0:'c',1:'a',2:'b',3:'d'})\n",
    "a"
   ]
  },
  {
   "cell_type": "markdown",
   "id": "71549ecf",
   "metadata": {},
   "source": [
    "Access the value in the series with index 'd'"
   ]
  },
  {
   "cell_type": "code",
   "execution_count": 25,
   "id": "ffe49d16",
   "metadata": {},
   "outputs": [
    {
     "data": {
      "text/plain": [
       "400"
      ]
     },
     "execution_count": 25,
     "metadata": {},
     "output_type": "execute_result"
    }
   ],
   "source": [
    "a['d']"
   ]
  },
  {
   "cell_type": "markdown",
   "id": "59bd67c9",
   "metadata": {},
   "source": [
    "Sort the values wrt to the index"
   ]
  },
  {
   "cell_type": "code",
   "execution_count": 26,
   "id": "3f75c9e3",
   "metadata": {},
   "outputs": [
    {
     "data": {
      "text/plain": [
       "a    200\n",
       "b    300\n",
       "c    100\n",
       "d    400\n",
       "dtype: int64"
      ]
     },
     "execution_count": 26,
     "metadata": {},
     "output_type": "execute_result"
    }
   ],
   "source": [
    "a.sort_index()"
   ]
  },
  {
   "cell_type": "markdown",
   "id": "e109c92f",
   "metadata": {},
   "source": [
    "# Create a new Pandas Series having index as 'e', 'f', and 'g' and value 800,450,100"
   ]
  },
  {
   "cell_type": "code",
   "execution_count": 27,
   "id": "ab2f76c5",
   "metadata": {},
   "outputs": [
    {
     "data": {
      "text/plain": [
       "e    800\n",
       "f    450\n",
       "g    100\n",
       "dtype: int64"
      ]
     },
     "execution_count": 27,
     "metadata": {},
     "output_type": "execute_result"
    }
   ],
   "source": [
    "b = pd.Series([ 800, 450, 100],index=['e','f','g'])\n",
    "b"
   ]
  },
  {
   "cell_type": "markdown",
   "id": "2a18ed2f",
   "metadata": {},
   "source": [
    "Append this new Series object at the end of a"
   ]
  },
  {
   "cell_type": "code",
   "execution_count": 29,
   "id": "cff7fea2",
   "metadata": {},
   "outputs": [
    {
     "data": {
      "text/plain": [
       "c    100\n",
       "a    200\n",
       "b    300\n",
       "d    400\n",
       "e    800\n",
       "f    450\n",
       "g    100\n",
       "dtype: int64"
      ]
     },
     "execution_count": 29,
     "metadata": {},
     "output_type": "execute_result"
    }
   ],
   "source": [
    "c = a.append(b)\n",
    "c"
   ]
  },
  {
   "cell_type": "code",
   "execution_count": 30,
   "id": "9f49c9af",
   "metadata": {},
   "outputs": [
    {
     "data": {
      "text/plain": [
       "a    200\n",
       "b    300\n",
       "c    100\n",
       "d    400\n",
       "e    800\n",
       "f    450\n",
       "g    100\n",
       "dtype: int64"
      ]
     },
     "execution_count": 30,
     "metadata": {},
     "output_type": "execute_result"
    }
   ],
   "source": [
    "c.sort_index()"
   ]
  },
  {
   "cell_type": "markdown",
   "id": "2766d937",
   "metadata": {},
   "source": [
    "Sort the values in descending order of a and print the index of the sorted series"
   ]
  },
  {
   "cell_type": "code",
   "execution_count": 42,
   "id": "3f085313",
   "metadata": {},
   "outputs": [
    {
     "data": {
      "text/plain": [
       "e    800\n",
       "f    450\n",
       "d    400\n",
       "b    300\n",
       "a    200\n",
       "g    100\n",
       "c    100\n",
       "dtype: int64"
      ]
     },
     "execution_count": 42,
     "metadata": {},
     "output_type": "execute_result"
    }
   ],
   "source": [
    "s = c.sort_values()\n",
    "s = s[::-1]\n",
    "s"
   ]
  },
  {
   "cell_type": "code",
   "execution_count": 44,
   "id": "84c4cb54",
   "metadata": {},
   "outputs": [
    {
     "data": {
      "text/plain": [
       "Index(['e', 'f', 'd', 'b', 'a', 'g', 'c'], dtype='object')"
      ]
     },
     "execution_count": 44,
     "metadata": {},
     "output_type": "execute_result"
    }
   ],
   "source": [
    "s.index"
   ]
  },
  {
   "cell_type": "markdown",
   "id": "ada4e587",
   "metadata": {},
   "source": [
    "## 2. [Pandas DataFrame](https://pandas.pydata.org/pandas-docs/stable/reference/api/pandas.DataFrame.html)"
   ]
  },
  {
   "cell_type": "markdown",
   "id": "3d04fc56",
   "metadata": {},
   "source": [
    "### Part 1"
   ]
  },
  {
   "cell_type": "markdown",
   "id": "b71e2509",
   "metadata": {},
   "source": [
    "Go through the documentation and mention the difference between pandas DataFrame and pandas Series. "
   ]
  },
  {
   "cell_type": "code",
   "execution_count": null,
   "id": "430f210b",
   "metadata": {},
   "outputs": [],
   "source": []
  },
  {
   "cell_type": "markdown",
   "id": "83a9f990",
   "metadata": {},
   "source": [
    "Create a pandas dataframe from the series 'a' that we used in the last section, print the dataframe"
   ]
  },
  {
   "cell_type": "code",
   "execution_count": 57,
   "id": "2748a07c",
   "metadata": {},
   "outputs": [
    {
     "data": {
      "text/html": [
       "<div>\n",
       "<style scoped>\n",
       "    .dataframe tbody tr th:only-of-type {\n",
       "        vertical-align: middle;\n",
       "    }\n",
       "\n",
       "    .dataframe tbody tr th {\n",
       "        vertical-align: top;\n",
       "    }\n",
       "\n",
       "    .dataframe thead th {\n",
       "        text-align: right;\n",
       "    }\n",
       "</style>\n",
       "<table border=\"1\" class=\"dataframe\">\n",
       "  <thead>\n",
       "    <tr style=\"text-align: right;\">\n",
       "      <th></th>\n",
       "      <th>0</th>\n",
       "    </tr>\n",
       "  </thead>\n",
       "  <tbody>\n",
       "    <tr>\n",
       "      <th>e</th>\n",
       "      <td>800</td>\n",
       "    </tr>\n",
       "    <tr>\n",
       "      <th>f</th>\n",
       "      <td>450</td>\n",
       "    </tr>\n",
       "    <tr>\n",
       "      <th>d</th>\n",
       "      <td>400</td>\n",
       "    </tr>\n",
       "    <tr>\n",
       "      <th>b</th>\n",
       "      <td>300</td>\n",
       "    </tr>\n",
       "    <tr>\n",
       "      <th>a</th>\n",
       "      <td>200</td>\n",
       "    </tr>\n",
       "    <tr>\n",
       "      <th>g</th>\n",
       "      <td>100</td>\n",
       "    </tr>\n",
       "    <tr>\n",
       "      <th>c</th>\n",
       "      <td>100</td>\n",
       "    </tr>\n",
       "  </tbody>\n",
       "</table>\n",
       "</div>"
      ],
      "text/plain": [
       "     0\n",
       "e  800\n",
       "f  450\n",
       "d  400\n",
       "b  300\n",
       "a  200\n",
       "g  100\n",
       "c  100"
      ]
     },
     "execution_count": 57,
     "metadata": {},
     "output_type": "execute_result"
    }
   ],
   "source": [
    "df = pd.DataFrame(s)\n",
    "df"
   ]
  },
  {
   "cell_type": "markdown",
   "id": "e87b0a75",
   "metadata": {},
   "source": [
    "What is the shape of the datafarme <br>\n",
    "(also, what does it imply?)"
   ]
  },
  {
   "cell_type": "code",
   "execution_count": 58,
   "id": "d380462c",
   "metadata": {},
   "outputs": [
    {
     "data": {
      "text/plain": [
       "(7, 1)"
      ]
     },
     "execution_count": 58,
     "metadata": {},
     "output_type": "execute_result"
    }
   ],
   "source": [
    "df.shape"
   ]
  },
  {
   "cell_type": "markdown",
   "id": "2044b9ba",
   "metadata": {},
   "source": [
    "What is the index of the dataframe, is it same as the series 'a' "
   ]
  },
  {
   "cell_type": "code",
   "execution_count": 60,
   "id": "bf37274b",
   "metadata": {},
   "outputs": [
    {
     "data": {
      "text/plain": [
       "Index(['e', 'f', 'd', 'b', 'a', 'g', 'c'], dtype='object')"
      ]
     },
     "execution_count": 60,
     "metadata": {},
     "output_type": "execute_result"
    }
   ],
   "source": [
    "df.index"
   ]
  },
  {
   "cell_type": "markdown",
   "id": "7555ebb3",
   "metadata": {},
   "source": [
    "print the head and tail of the dataframe. <br>\n",
    "Additional - (what does head and tali represent?)"
   ]
  },
  {
   "cell_type": "code",
   "execution_count": 61,
   "id": "56767dd7",
   "metadata": {},
   "outputs": [
    {
     "data": {
      "text/html": [
       "<div>\n",
       "<style scoped>\n",
       "    .dataframe tbody tr th:only-of-type {\n",
       "        vertical-align: middle;\n",
       "    }\n",
       "\n",
       "    .dataframe tbody tr th {\n",
       "        vertical-align: top;\n",
       "    }\n",
       "\n",
       "    .dataframe thead th {\n",
       "        text-align: right;\n",
       "    }\n",
       "</style>\n",
       "<table border=\"1\" class=\"dataframe\">\n",
       "  <thead>\n",
       "    <tr style=\"text-align: right;\">\n",
       "      <th></th>\n",
       "      <th>0</th>\n",
       "    </tr>\n",
       "  </thead>\n",
       "  <tbody>\n",
       "    <tr>\n",
       "      <th>e</th>\n",
       "      <td>800</td>\n",
       "    </tr>\n",
       "    <tr>\n",
       "      <th>f</th>\n",
       "      <td>450</td>\n",
       "    </tr>\n",
       "    <tr>\n",
       "      <th>d</th>\n",
       "      <td>400</td>\n",
       "    </tr>\n",
       "    <tr>\n",
       "      <th>b</th>\n",
       "      <td>300</td>\n",
       "    </tr>\n",
       "    <tr>\n",
       "      <th>a</th>\n",
       "      <td>200</td>\n",
       "    </tr>\n",
       "  </tbody>\n",
       "</table>\n",
       "</div>"
      ],
      "text/plain": [
       "     0\n",
       "e  800\n",
       "f  450\n",
       "d  400\n",
       "b  300\n",
       "a  200"
      ]
     },
     "execution_count": 61,
     "metadata": {},
     "output_type": "execute_result"
    }
   ],
   "source": [
    "df.head()"
   ]
  },
  {
   "cell_type": "code",
   "execution_count": 62,
   "id": "bae2f5dc",
   "metadata": {},
   "outputs": [
    {
     "data": {
      "text/html": [
       "<div>\n",
       "<style scoped>\n",
       "    .dataframe tbody tr th:only-of-type {\n",
       "        vertical-align: middle;\n",
       "    }\n",
       "\n",
       "    .dataframe tbody tr th {\n",
       "        vertical-align: top;\n",
       "    }\n",
       "\n",
       "    .dataframe thead th {\n",
       "        text-align: right;\n",
       "    }\n",
       "</style>\n",
       "<table border=\"1\" class=\"dataframe\">\n",
       "  <thead>\n",
       "    <tr style=\"text-align: right;\">\n",
       "      <th></th>\n",
       "      <th>0</th>\n",
       "    </tr>\n",
       "  </thead>\n",
       "  <tbody>\n",
       "    <tr>\n",
       "      <th>d</th>\n",
       "      <td>400</td>\n",
       "    </tr>\n",
       "    <tr>\n",
       "      <th>b</th>\n",
       "      <td>300</td>\n",
       "    </tr>\n",
       "    <tr>\n",
       "      <th>a</th>\n",
       "      <td>200</td>\n",
       "    </tr>\n",
       "    <tr>\n",
       "      <th>g</th>\n",
       "      <td>100</td>\n",
       "    </tr>\n",
       "    <tr>\n",
       "      <th>c</th>\n",
       "      <td>100</td>\n",
       "    </tr>\n",
       "  </tbody>\n",
       "</table>\n",
       "</div>"
      ],
      "text/plain": [
       "     0\n",
       "d  400\n",
       "b  300\n",
       "a  200\n",
       "g  100\n",
       "c  100"
      ]
     },
     "execution_count": 62,
     "metadata": {},
     "output_type": "execute_result"
    }
   ],
   "source": [
    "df.tail()"
   ]
  },
  {
   "cell_type": "markdown",
   "id": "84ffb232",
   "metadata": {},
   "source": [
    "Rename the col of the dataframe as 'points'"
   ]
  },
  {
   "cell_type": "code",
   "execution_count": 77,
   "id": "94329fda",
   "metadata": {},
   "outputs": [
    {
     "data": {
      "text/html": [
       "<div>\n",
       "<style scoped>\n",
       "    .dataframe tbody tr th:only-of-type {\n",
       "        vertical-align: middle;\n",
       "    }\n",
       "\n",
       "    .dataframe tbody tr th {\n",
       "        vertical-align: top;\n",
       "    }\n",
       "\n",
       "    .dataframe thead th {\n",
       "        text-align: right;\n",
       "    }\n",
       "</style>\n",
       "<table border=\"1\" class=\"dataframe\">\n",
       "  <thead>\n",
       "    <tr style=\"text-align: right;\">\n",
       "      <th></th>\n",
       "      <th>points</th>\n",
       "    </tr>\n",
       "  </thead>\n",
       "  <tbody>\n",
       "    <tr>\n",
       "      <th>e</th>\n",
       "      <td>800</td>\n",
       "    </tr>\n",
       "    <tr>\n",
       "      <th>f</th>\n",
       "      <td>450</td>\n",
       "    </tr>\n",
       "    <tr>\n",
       "      <th>d</th>\n",
       "      <td>400</td>\n",
       "    </tr>\n",
       "    <tr>\n",
       "      <th>b</th>\n",
       "      <td>300</td>\n",
       "    </tr>\n",
       "    <tr>\n",
       "      <th>a</th>\n",
       "      <td>200</td>\n",
       "    </tr>\n",
       "    <tr>\n",
       "      <th>g</th>\n",
       "      <td>100</td>\n",
       "    </tr>\n",
       "    <tr>\n",
       "      <th>c</th>\n",
       "      <td>100</td>\n",
       "    </tr>\n",
       "  </tbody>\n",
       "</table>\n",
       "</div>"
      ],
      "text/plain": [
       "   points\n",
       "e     800\n",
       "f     450\n",
       "d     400\n",
       "b     300\n",
       "a     200\n",
       "g     100\n",
       "c     100"
      ]
     },
     "execution_count": 77,
     "metadata": {},
     "output_type": "execute_result"
    }
   ],
   "source": [
    "df = df.rename(columns={0:'points'})\n",
    "df"
   ]
  },
  {
   "cell_type": "markdown",
   "id": "07c6aa53",
   "metadata": {},
   "source": [
    "Create another Series which contains random names of fruits from ['orange','mango','apple']. The series should contain 7 elements, randomly selected from ['orange','mango','apple']"
   ]
  },
  {
   "cell_type": "code",
   "execution_count": 65,
   "id": "cb63c01b",
   "metadata": {},
   "outputs": [
    {
     "data": {
      "text/plain": [
       "array(['orange', 'apple', 'mango', 'orange', 'mango', 'mango', 'mango'],\n",
       "      dtype='<U6')"
      ]
     },
     "execution_count": 65,
     "metadata": {},
     "output_type": "execute_result"
    }
   ],
   "source": [
    "r = np.random.choice( ['orange','mango','apple'],7)\n",
    "r"
   ]
  },
  {
   "cell_type": "code",
   "execution_count": 67,
   "id": "ee98b523",
   "metadata": {},
   "outputs": [
    {
     "data": {
      "text/plain": [
       "0    orange\n",
       "1     apple\n",
       "2     mango\n",
       "3    orange\n",
       "4     mango\n",
       "5     mango\n",
       "6     mango\n",
       "dtype: object"
      ]
     },
     "execution_count": 67,
     "metadata": {},
     "output_type": "execute_result"
    }
   ],
   "source": [
    "ss = pd.Series(r)\n",
    "ss"
   ]
  },
  {
   "cell_type": "markdown",
   "id": "a0fc2e85",
   "metadata": {},
   "source": [
    "Change the index of fruits to the index of dataframe"
   ]
  },
  {
   "cell_type": "code",
   "execution_count": 70,
   "id": "abc40bd6",
   "metadata": {},
   "outputs": [
    {
     "data": {
      "text/plain": [
       "e    orange\n",
       "f     apple\n",
       "d     mango\n",
       "b    orange\n",
       "a     mango\n",
       "g     mango\n",
       "c     mango\n",
       "dtype: object"
      ]
     },
     "execution_count": 70,
     "metadata": {},
     "output_type": "execute_result"
    }
   ],
   "source": [
    "ss = ss.rename(index={0:'e',1:'f',2:'d',3:'b',4:'a',5:'g',6:'c'})\n",
    "ss"
   ]
  },
  {
   "cell_type": "markdown",
   "id": "0d8af802",
   "metadata": {},
   "source": [
    "Add this series as a new column to the dataframe with name of the col as 'fruits' <br> print the head of the dataframe to verify"
   ]
  },
  {
   "cell_type": "code",
   "execution_count": 78,
   "id": "81d316f1",
   "metadata": {},
   "outputs": [
    {
     "data": {
      "text/html": [
       "<div>\n",
       "<style scoped>\n",
       "    .dataframe tbody tr th:only-of-type {\n",
       "        vertical-align: middle;\n",
       "    }\n",
       "\n",
       "    .dataframe tbody tr th {\n",
       "        vertical-align: top;\n",
       "    }\n",
       "\n",
       "    .dataframe thead th {\n",
       "        text-align: right;\n",
       "    }\n",
       "</style>\n",
       "<table border=\"1\" class=\"dataframe\">\n",
       "  <thead>\n",
       "    <tr style=\"text-align: right;\">\n",
       "      <th></th>\n",
       "      <th>points</th>\n",
       "    </tr>\n",
       "  </thead>\n",
       "  <tbody>\n",
       "    <tr>\n",
       "      <th>e</th>\n",
       "      <td>800</td>\n",
       "    </tr>\n",
       "    <tr>\n",
       "      <th>f</th>\n",
       "      <td>450</td>\n",
       "    </tr>\n",
       "    <tr>\n",
       "      <th>d</th>\n",
       "      <td>400</td>\n",
       "    </tr>\n",
       "    <tr>\n",
       "      <th>b</th>\n",
       "      <td>300</td>\n",
       "    </tr>\n",
       "    <tr>\n",
       "      <th>a</th>\n",
       "      <td>200</td>\n",
       "    </tr>\n",
       "    <tr>\n",
       "      <th>g</th>\n",
       "      <td>100</td>\n",
       "    </tr>\n",
       "    <tr>\n",
       "      <th>c</th>\n",
       "      <td>100</td>\n",
       "    </tr>\n",
       "  </tbody>\n",
       "</table>\n",
       "</div>"
      ],
      "text/plain": [
       "   points\n",
       "e     800\n",
       "f     450\n",
       "d     400\n",
       "b     300\n",
       "a     200\n",
       "g     100\n",
       "c     100"
      ]
     },
     "execution_count": 78,
     "metadata": {},
     "output_type": "execute_result"
    }
   ],
   "source": [
    "df"
   ]
  },
  {
   "cell_type": "code",
   "execution_count": 81,
   "id": "6373dc76",
   "metadata": {},
   "outputs": [
    {
     "data": {
      "text/plain": [
       "pandas.core.frame.DataFrame"
      ]
     },
     "execution_count": 81,
     "metadata": {},
     "output_type": "execute_result"
    }
   ],
   "source": [
    "type(df)"
   ]
  },
  {
   "cell_type": "code",
   "execution_count": 89,
   "id": "19d5917b",
   "metadata": {},
   "outputs": [],
   "source": [
    "ss = pd.DataFrame(ss)\n",
    "ss = ss.rename(columns={0:'fruits'})"
   ]
  },
  {
   "cell_type": "code",
   "execution_count": 92,
   "id": "849532a2",
   "metadata": {},
   "outputs": [
    {
     "data": {
      "text/html": [
       "<div>\n",
       "<style scoped>\n",
       "    .dataframe tbody tr th:only-of-type {\n",
       "        vertical-align: middle;\n",
       "    }\n",
       "\n",
       "    .dataframe tbody tr th {\n",
       "        vertical-align: top;\n",
       "    }\n",
       "\n",
       "    .dataframe thead th {\n",
       "        text-align: right;\n",
       "    }\n",
       "</style>\n",
       "<table border=\"1\" class=\"dataframe\">\n",
       "  <thead>\n",
       "    <tr style=\"text-align: right;\">\n",
       "      <th></th>\n",
       "      <th>points</th>\n",
       "      <th>fruits</th>\n",
       "    </tr>\n",
       "  </thead>\n",
       "  <tbody>\n",
       "    <tr>\n",
       "      <th>e</th>\n",
       "      <td>800</td>\n",
       "      <td>orange</td>\n",
       "    </tr>\n",
       "    <tr>\n",
       "      <th>f</th>\n",
       "      <td>450</td>\n",
       "      <td>apple</td>\n",
       "    </tr>\n",
       "    <tr>\n",
       "      <th>d</th>\n",
       "      <td>400</td>\n",
       "      <td>mango</td>\n",
       "    </tr>\n",
       "    <tr>\n",
       "      <th>b</th>\n",
       "      <td>300</td>\n",
       "      <td>orange</td>\n",
       "    </tr>\n",
       "    <tr>\n",
       "      <th>a</th>\n",
       "      <td>200</td>\n",
       "      <td>mango</td>\n",
       "    </tr>\n",
       "  </tbody>\n",
       "</table>\n",
       "</div>"
      ],
      "text/plain": [
       "   points  fruits\n",
       "e     800  orange\n",
       "f     450   apple\n",
       "d     400   mango\n",
       "b     300  orange\n",
       "a     200   mango"
      ]
     },
     "execution_count": 92,
     "metadata": {},
     "output_type": "execute_result"
    }
   ],
   "source": [
    "d = df.join(ss).head()\n",
    "d"
   ]
  },
  {
   "cell_type": "markdown",
   "id": "05b13667",
   "metadata": {},
   "source": [
    "Optional questions: <br>\n",
    "What if we had to changed the index of the dataframe? <br>\n",
    "Try to add any series to the dataframe with the origianl index (when index of series is not same as to the index of dataframe)"
   ]
  },
  {
   "cell_type": "markdown",
   "id": "0a72ad3d",
   "metadata": {},
   "source": [
    "### Part 2"
   ]
  },
  {
   "cell_type": "markdown",
   "id": "149b7054",
   "metadata": {},
   "source": [
    "Create a dataframe  d1 where the cols are  ‘city’ : [‘Chandigarh’, ‘Delhi’, ‘Kanpur’, ‘Chennai’, ‘Manali’ ] and ‘Temperature’ : [15, 22, 20, 26,-2] "
   ]
  },
  {
   "cell_type": "code",
   "execution_count": 3,
   "id": "7d77cbea",
   "metadata": {},
   "outputs": [],
   "source": [
    "d1 = pd.DataFrame(data={'city' : ['Chandigarh', 'Delhi', 'Kanpur', 'Chennai', 'Manali' ],\n",
    "                       'Temperature' : [15, 22, 20, 26,-2]})"
   ]
  },
  {
   "cell_type": "markdown",
   "id": "a560a5c6",
   "metadata": {},
   "source": [
    "Print(d1)"
   ]
  },
  {
   "cell_type": "code",
   "execution_count": 4,
   "id": "599e81ff",
   "metadata": {},
   "outputs": [
    {
     "name": "stdout",
     "output_type": "stream",
     "text": [
      "         city  Temperature\n",
      "0  Chandigarh           15\n",
      "1       Delhi           22\n",
      "2      Kanpur           20\n",
      "3     Chennai           26\n",
      "4      Manali           -2\n"
     ]
    }
   ],
   "source": [
    "print(d1)"
   ]
  },
  {
   "cell_type": "markdown",
   "id": "8f90fb40",
   "metadata": {},
   "source": [
    "What is the shape of d1."
   ]
  },
  {
   "cell_type": "code",
   "execution_count": 5,
   "id": "fd66efc7",
   "metadata": {},
   "outputs": [
    {
     "data": {
      "text/plain": [
       "(5, 2)"
      ]
     },
     "execution_count": 5,
     "metadata": {},
     "output_type": "execute_result"
    }
   ],
   "source": [
    "d1.shape"
   ]
  },
  {
   "cell_type": "markdown",
   "id": "945a3cd7",
   "metadata": {},
   "source": [
    "Set city = d1['city']"
   ]
  },
  {
   "cell_type": "code",
   "execution_count": 6,
   "id": "f715f928",
   "metadata": {},
   "outputs": [],
   "source": [
    "city = d1['city']"
   ]
  },
  {
   "cell_type": "markdown",
   "id": "77068894",
   "metadata": {},
   "source": [
    "print city <br>\n",
    "What is the type of city."
   ]
  },
  {
   "cell_type": "code",
   "execution_count": 7,
   "id": "bdf50ce9",
   "metadata": {},
   "outputs": [
    {
     "name": "stdout",
     "output_type": "stream",
     "text": [
      "0    Chandigarh\n",
      "1         Delhi\n",
      "2        Kanpur\n",
      "3       Chennai\n",
      "4        Manali\n",
      "Name: city, dtype: object\n",
      "<class 'pandas.core.series.Series'>\n"
     ]
    }
   ],
   "source": [
    "print(city)\n",
    "print(type(city))"
   ]
  },
  {
   "cell_type": "markdown",
   "id": "fa624d6b",
   "metadata": {},
   "source": [
    "Create another datafeame where the cols are <br>\n",
    "'city' - ['Bengalaru','Coimbatore','Srirangam','Pondicherry'] <br>\n",
    "'Temperature' - [24,35,36,39]"
   ]
  },
  {
   "cell_type": "code",
   "execution_count": 8,
   "id": "4f7c0759",
   "metadata": {},
   "outputs": [
    {
     "data": {
      "text/html": [
       "<div>\n",
       "<style scoped>\n",
       "    .dataframe tbody tr th:only-of-type {\n",
       "        vertical-align: middle;\n",
       "    }\n",
       "\n",
       "    .dataframe tbody tr th {\n",
       "        vertical-align: top;\n",
       "    }\n",
       "\n",
       "    .dataframe thead th {\n",
       "        text-align: right;\n",
       "    }\n",
       "</style>\n",
       "<table border=\"1\" class=\"dataframe\">\n",
       "  <thead>\n",
       "    <tr style=\"text-align: right;\">\n",
       "      <th></th>\n",
       "      <th>city</th>\n",
       "      <th>Temperature</th>\n",
       "    </tr>\n",
       "  </thead>\n",
       "  <tbody>\n",
       "    <tr>\n",
       "      <th>0</th>\n",
       "      <td>Bengalaru</td>\n",
       "      <td>24</td>\n",
       "    </tr>\n",
       "    <tr>\n",
       "      <th>1</th>\n",
       "      <td>Coimbatore</td>\n",
       "      <td>35</td>\n",
       "    </tr>\n",
       "    <tr>\n",
       "      <th>2</th>\n",
       "      <td>Srirangam</td>\n",
       "      <td>36</td>\n",
       "    </tr>\n",
       "    <tr>\n",
       "      <th>3</th>\n",
       "      <td>Pondicherry</td>\n",
       "      <td>39</td>\n",
       "    </tr>\n",
       "  </tbody>\n",
       "</table>\n",
       "</div>"
      ],
      "text/plain": [
       "          city  Temperature\n",
       "0    Bengalaru           24\n",
       "1   Coimbatore           35\n",
       "2    Srirangam           36\n",
       "3  Pondicherry           39"
      ]
     },
     "execution_count": 8,
     "metadata": {},
     "output_type": "execute_result"
    }
   ],
   "source": [
    "d2 = pd.DataFrame(data={'city':['Bengalaru','Coimbatore','Srirangam','Pondicherry'],\n",
    "                      'Temperature' : [24,35,36,39] })\n",
    "d2"
   ]
  },
  {
   "cell_type": "markdown",
   "id": "62487eeb",
   "metadata": {},
   "source": [
    "print the shape of this dataframe"
   ]
  },
  {
   "cell_type": "code",
   "execution_count": 9,
   "id": "3b43a639",
   "metadata": {},
   "outputs": [
    {
     "data": {
      "text/plain": [
       "(4, 2)"
      ]
     },
     "execution_count": 9,
     "metadata": {},
     "output_type": "execute_result"
    }
   ],
   "source": [
    "d2.shape"
   ]
  },
  {
   "cell_type": "markdown",
   "id": "6751d2d8",
   "metadata": {},
   "source": [
    "merge the two dataframes together, save it in a new dataframe named 'd3'"
   ]
  },
  {
   "cell_type": "code",
   "execution_count": 10,
   "id": "d01f2434",
   "metadata": {},
   "outputs": [
    {
     "data": {
      "text/html": [
       "<div>\n",
       "<style scoped>\n",
       "    .dataframe tbody tr th:only-of-type {\n",
       "        vertical-align: middle;\n",
       "    }\n",
       "\n",
       "    .dataframe tbody tr th {\n",
       "        vertical-align: top;\n",
       "    }\n",
       "\n",
       "    .dataframe thead th {\n",
       "        text-align: right;\n",
       "    }\n",
       "</style>\n",
       "<table border=\"1\" class=\"dataframe\">\n",
       "  <thead>\n",
       "    <tr style=\"text-align: right;\">\n",
       "      <th></th>\n",
       "      <th>city</th>\n",
       "      <th>Temperature</th>\n",
       "    </tr>\n",
       "  </thead>\n",
       "  <tbody>\n",
       "    <tr>\n",
       "      <th>0</th>\n",
       "      <td>Chandigarh</td>\n",
       "      <td>15</td>\n",
       "    </tr>\n",
       "    <tr>\n",
       "      <th>1</th>\n",
       "      <td>Delhi</td>\n",
       "      <td>22</td>\n",
       "    </tr>\n",
       "    <tr>\n",
       "      <th>2</th>\n",
       "      <td>Kanpur</td>\n",
       "      <td>20</td>\n",
       "    </tr>\n",
       "    <tr>\n",
       "      <th>3</th>\n",
       "      <td>Chennai</td>\n",
       "      <td>26</td>\n",
       "    </tr>\n",
       "    <tr>\n",
       "      <th>4</th>\n",
       "      <td>Manali</td>\n",
       "      <td>-2</td>\n",
       "    </tr>\n",
       "    <tr>\n",
       "      <th>0</th>\n",
       "      <td>Bengalaru</td>\n",
       "      <td>24</td>\n",
       "    </tr>\n",
       "    <tr>\n",
       "      <th>1</th>\n",
       "      <td>Coimbatore</td>\n",
       "      <td>35</td>\n",
       "    </tr>\n",
       "    <tr>\n",
       "      <th>2</th>\n",
       "      <td>Srirangam</td>\n",
       "      <td>36</td>\n",
       "    </tr>\n",
       "    <tr>\n",
       "      <th>3</th>\n",
       "      <td>Pondicherry</td>\n",
       "      <td>39</td>\n",
       "    </tr>\n",
       "  </tbody>\n",
       "</table>\n",
       "</div>"
      ],
      "text/plain": [
       "          city  Temperature\n",
       "0   Chandigarh           15\n",
       "1        Delhi           22\n",
       "2       Kanpur           20\n",
       "3      Chennai           26\n",
       "4       Manali           -2\n",
       "0    Bengalaru           24\n",
       "1   Coimbatore           35\n",
       "2    Srirangam           36\n",
       "3  Pondicherry           39"
      ]
     },
     "execution_count": 10,
     "metadata": {},
     "output_type": "execute_result"
    }
   ],
   "source": [
    "d3 = pd.concat([d1,d2])\n",
    "d3"
   ]
  },
  {
   "cell_type": "markdown",
   "id": "9205c316",
   "metadata": {},
   "source": [
    "Select the part of the dataframe such that it contains the cities where tempearature greater than or equal to 35"
   ]
  },
  {
   "cell_type": "code",
   "execution_count": 11,
   "id": "30b05651",
   "metadata": {},
   "outputs": [
    {
     "data": {
      "text/html": [
       "<div>\n",
       "<style scoped>\n",
       "    .dataframe tbody tr th:only-of-type {\n",
       "        vertical-align: middle;\n",
       "    }\n",
       "\n",
       "    .dataframe tbody tr th {\n",
       "        vertical-align: top;\n",
       "    }\n",
       "\n",
       "    .dataframe thead th {\n",
       "        text-align: right;\n",
       "    }\n",
       "</style>\n",
       "<table border=\"1\" class=\"dataframe\">\n",
       "  <thead>\n",
       "    <tr style=\"text-align: right;\">\n",
       "      <th></th>\n",
       "      <th>city</th>\n",
       "      <th>Temperature</th>\n",
       "    </tr>\n",
       "  </thead>\n",
       "  <tbody>\n",
       "    <tr>\n",
       "      <th>1</th>\n",
       "      <td>Coimbatore</td>\n",
       "      <td>35</td>\n",
       "    </tr>\n",
       "    <tr>\n",
       "      <th>2</th>\n",
       "      <td>Srirangam</td>\n",
       "      <td>36</td>\n",
       "    </tr>\n",
       "    <tr>\n",
       "      <th>3</th>\n",
       "      <td>Pondicherry</td>\n",
       "      <td>39</td>\n",
       "    </tr>\n",
       "  </tbody>\n",
       "</table>\n",
       "</div>"
      ],
      "text/plain": [
       "          city  Temperature\n",
       "1   Coimbatore           35\n",
       "2    Srirangam           36\n",
       "3  Pondicherry           39"
      ]
     },
     "execution_count": 11,
     "metadata": {},
     "output_type": "execute_result"
    }
   ],
   "source": [
    "d3[d3['Temperature']>=35]"
   ]
  },
  {
   "cell_type": "markdown",
   "id": "c2ccbf98",
   "metadata": {},
   "source": [
    "## 3. Applying functions to columns and creating new columns"
   ]
  },
  {
   "cell_type": "markdown",
   "id": "8a6ddf49",
   "metadata": {},
   "source": [
    "We need to create another column, which contains for each city a boolean value to indicate whether it's a union territory or not. \n",
    "- HINT: Chandigarh, Pondicherry and Delhi are only two union territories. \n"
   ]
  },
  {
   "cell_type": "code",
   "execution_count": 12,
   "id": "ab4a4c2f",
   "metadata": {},
   "outputs": [
    {
     "data": {
      "text/html": [
       "<div>\n",
       "<style scoped>\n",
       "    .dataframe tbody tr th:only-of-type {\n",
       "        vertical-align: middle;\n",
       "    }\n",
       "\n",
       "    .dataframe tbody tr th {\n",
       "        vertical-align: top;\n",
       "    }\n",
       "\n",
       "    .dataframe thead th {\n",
       "        text-align: right;\n",
       "    }\n",
       "</style>\n",
       "<table border=\"1\" class=\"dataframe\">\n",
       "  <thead>\n",
       "    <tr style=\"text-align: right;\">\n",
       "      <th></th>\n",
       "      <th>city</th>\n",
       "      <th>Temperature</th>\n",
       "    </tr>\n",
       "  </thead>\n",
       "  <tbody>\n",
       "    <tr>\n",
       "      <th>0</th>\n",
       "      <td>Chandigarh</td>\n",
       "      <td>15</td>\n",
       "    </tr>\n",
       "    <tr>\n",
       "      <th>1</th>\n",
       "      <td>Delhi</td>\n",
       "      <td>22</td>\n",
       "    </tr>\n",
       "    <tr>\n",
       "      <th>2</th>\n",
       "      <td>Kanpur</td>\n",
       "      <td>20</td>\n",
       "    </tr>\n",
       "    <tr>\n",
       "      <th>3</th>\n",
       "      <td>Chennai</td>\n",
       "      <td>26</td>\n",
       "    </tr>\n",
       "    <tr>\n",
       "      <th>4</th>\n",
       "      <td>Manali</td>\n",
       "      <td>-2</td>\n",
       "    </tr>\n",
       "    <tr>\n",
       "      <th>0</th>\n",
       "      <td>Bengalaru</td>\n",
       "      <td>24</td>\n",
       "    </tr>\n",
       "    <tr>\n",
       "      <th>1</th>\n",
       "      <td>Coimbatore</td>\n",
       "      <td>35</td>\n",
       "    </tr>\n",
       "    <tr>\n",
       "      <th>2</th>\n",
       "      <td>Srirangam</td>\n",
       "      <td>36</td>\n",
       "    </tr>\n",
       "    <tr>\n",
       "      <th>3</th>\n",
       "      <td>Pondicherry</td>\n",
       "      <td>39</td>\n",
       "    </tr>\n",
       "  </tbody>\n",
       "</table>\n",
       "</div>"
      ],
      "text/plain": [
       "          city  Temperature\n",
       "0   Chandigarh           15\n",
       "1        Delhi           22\n",
       "2       Kanpur           20\n",
       "3      Chennai           26\n",
       "4       Manali           -2\n",
       "0    Bengalaru           24\n",
       "1   Coimbatore           35\n",
       "2    Srirangam           36\n",
       "3  Pondicherry           39"
      ]
     },
     "execution_count": 12,
     "metadata": {},
     "output_type": "execute_result"
    }
   ],
   "source": [
    "d3"
   ]
  },
  {
   "cell_type": "code",
   "execution_count": 14,
   "id": "d6dac6f6",
   "metadata": {},
   "outputs": [
    {
     "data": {
      "text/html": [
       "<div>\n",
       "<style scoped>\n",
       "    .dataframe tbody tr th:only-of-type {\n",
       "        vertical-align: middle;\n",
       "    }\n",
       "\n",
       "    .dataframe tbody tr th {\n",
       "        vertical-align: top;\n",
       "    }\n",
       "\n",
       "    .dataframe thead th {\n",
       "        text-align: right;\n",
       "    }\n",
       "</style>\n",
       "<table border=\"1\" class=\"dataframe\">\n",
       "  <thead>\n",
       "    <tr style=\"text-align: right;\">\n",
       "      <th></th>\n",
       "      <th>city</th>\n",
       "      <th>Temperature</th>\n",
       "      <th>ut</th>\n",
       "    </tr>\n",
       "  </thead>\n",
       "  <tbody>\n",
       "    <tr>\n",
       "      <th>0</th>\n",
       "      <td>Chandigarh</td>\n",
       "      <td>15</td>\n",
       "      <td>True</td>\n",
       "    </tr>\n",
       "    <tr>\n",
       "      <th>1</th>\n",
       "      <td>Delhi</td>\n",
       "      <td>22</td>\n",
       "      <td>True</td>\n",
       "    </tr>\n",
       "    <tr>\n",
       "      <th>2</th>\n",
       "      <td>Kanpur</td>\n",
       "      <td>20</td>\n",
       "      <td>False</td>\n",
       "    </tr>\n",
       "    <tr>\n",
       "      <th>3</th>\n",
       "      <td>Chennai</td>\n",
       "      <td>26</td>\n",
       "      <td>False</td>\n",
       "    </tr>\n",
       "    <tr>\n",
       "      <th>4</th>\n",
       "      <td>Manali</td>\n",
       "      <td>-2</td>\n",
       "      <td>False</td>\n",
       "    </tr>\n",
       "    <tr>\n",
       "      <th>0</th>\n",
       "      <td>Bengalaru</td>\n",
       "      <td>24</td>\n",
       "      <td>False</td>\n",
       "    </tr>\n",
       "    <tr>\n",
       "      <th>1</th>\n",
       "      <td>Coimbatore</td>\n",
       "      <td>35</td>\n",
       "      <td>False</td>\n",
       "    </tr>\n",
       "    <tr>\n",
       "      <th>2</th>\n",
       "      <td>Srirangam</td>\n",
       "      <td>36</td>\n",
       "      <td>False</td>\n",
       "    </tr>\n",
       "    <tr>\n",
       "      <th>3</th>\n",
       "      <td>Pondicherry</td>\n",
       "      <td>39</td>\n",
       "      <td>True</td>\n",
       "    </tr>\n",
       "  </tbody>\n",
       "</table>\n",
       "</div>"
      ],
      "text/plain": [
       "          city  Temperature     ut\n",
       "0   Chandigarh           15   True\n",
       "1        Delhi           22   True\n",
       "2       Kanpur           20  False\n",
       "3      Chennai           26  False\n",
       "4       Manali           -2  False\n",
       "0    Bengalaru           24  False\n",
       "1   Coimbatore           35  False\n",
       "2    Srirangam           36  False\n",
       "3  Pondicherry           39   True"
      ]
     },
     "execution_count": 14,
     "metadata": {},
     "output_type": "execute_result"
    }
   ],
   "source": [
    "d3['ut'] = d3['city'].isin(['Chandigarh','Delhi','Pondicherry'])\n",
    "d3"
   ]
  },
  {
   "cell_type": "code",
   "execution_count": null,
   "id": "0fd94f4e",
   "metadata": {},
   "outputs": [],
   "source": []
  },
  {
   "cell_type": "code",
   "execution_count": 15,
   "id": "f6a63ddc",
   "metadata": {},
   "outputs": [
    {
     "data": {
      "text/html": [
       "<div>\n",
       "<style scoped>\n",
       "    .dataframe tbody tr th:only-of-type {\n",
       "        vertical-align: middle;\n",
       "    }\n",
       "\n",
       "    .dataframe tbody tr th {\n",
       "        vertical-align: top;\n",
       "    }\n",
       "\n",
       "    .dataframe thead th {\n",
       "        text-align: right;\n",
       "    }\n",
       "</style>\n",
       "<table border=\"1\" class=\"dataframe\">\n",
       "  <thead>\n",
       "    <tr style=\"text-align: right;\">\n",
       "      <th></th>\n",
       "      <th>city</th>\n",
       "      <th>Temperature</th>\n",
       "      <th>ut</th>\n",
       "    </tr>\n",
       "  </thead>\n",
       "  <tbody>\n",
       "    <tr>\n",
       "      <th>0</th>\n",
       "      <td>Chandigarh</td>\n",
       "      <td>15</td>\n",
       "      <td>True</td>\n",
       "    </tr>\n",
       "    <tr>\n",
       "      <th>1</th>\n",
       "      <td>Delhi</td>\n",
       "      <td>22</td>\n",
       "      <td>True</td>\n",
       "    </tr>\n",
       "    <tr>\n",
       "      <th>2</th>\n",
       "      <td>Kanpur</td>\n",
       "      <td>20</td>\n",
       "      <td>False</td>\n",
       "    </tr>\n",
       "    <tr>\n",
       "      <th>3</th>\n",
       "      <td>Chennai</td>\n",
       "      <td>26</td>\n",
       "      <td>False</td>\n",
       "    </tr>\n",
       "    <tr>\n",
       "      <th>4</th>\n",
       "      <td>Manali</td>\n",
       "      <td>-2</td>\n",
       "      <td>False</td>\n",
       "    </tr>\n",
       "    <tr>\n",
       "      <th>0</th>\n",
       "      <td>Bengalaru</td>\n",
       "      <td>24</td>\n",
       "      <td>False</td>\n",
       "    </tr>\n",
       "    <tr>\n",
       "      <th>1</th>\n",
       "      <td>Coimbatore</td>\n",
       "      <td>35</td>\n",
       "      <td>False</td>\n",
       "    </tr>\n",
       "    <tr>\n",
       "      <th>2</th>\n",
       "      <td>Srirangam</td>\n",
       "      <td>36</td>\n",
       "      <td>False</td>\n",
       "    </tr>\n",
       "    <tr>\n",
       "      <th>3</th>\n",
       "      <td>Pondicherry</td>\n",
       "      <td>39</td>\n",
       "      <td>True</td>\n",
       "    </tr>\n",
       "  </tbody>\n",
       "</table>\n",
       "</div>"
      ],
      "text/plain": [
       "          city  Temperature     ut\n",
       "0   Chandigarh           15   True\n",
       "1        Delhi           22   True\n",
       "2       Kanpur           20  False\n",
       "3      Chennai           26  False\n",
       "4       Manali           -2  False\n",
       "0    Bengalaru           24  False\n",
       "1   Coimbatore           35  False\n",
       "2    Srirangam           36  False\n",
       "3  Pondicherry           39   True"
      ]
     },
     "execution_count": 15,
     "metadata": {},
     "output_type": "execute_result"
    }
   ],
   "source": [
    "d3"
   ]
  },
  {
   "cell_type": "markdown",
   "id": "c422b43f",
   "metadata": {},
   "source": [
    "The temperatures mentioned in ‘Temperature’ column are mentioned in Celsius, we need another column which contains the same in Fahrenheit. "
   ]
  },
  {
   "cell_type": "markdown",
   "id": "34900011",
   "metadata": {},
   "source": [
    "HINT - \n",
    "- Define a function c_to_f which takes input temp in celsius and returns a value with temperature in Fahrenheit.\n",
    "- To check: c_to_f(10) should return 50. \n"
   ]
  },
  {
   "cell_type": "code",
   "execution_count": 16,
   "id": "7e01f371",
   "metadata": {},
   "outputs": [
    {
     "data": {
      "text/html": [
       "<div>\n",
       "<style scoped>\n",
       "    .dataframe tbody tr th:only-of-type {\n",
       "        vertical-align: middle;\n",
       "    }\n",
       "\n",
       "    .dataframe tbody tr th {\n",
       "        vertical-align: top;\n",
       "    }\n",
       "\n",
       "    .dataframe thead th {\n",
       "        text-align: right;\n",
       "    }\n",
       "</style>\n",
       "<table border=\"1\" class=\"dataframe\">\n",
       "  <thead>\n",
       "    <tr style=\"text-align: right;\">\n",
       "      <th></th>\n",
       "      <th>city</th>\n",
       "      <th>Temperature</th>\n",
       "      <th>ut</th>\n",
       "      <th>temp_farenhiet</th>\n",
       "    </tr>\n",
       "  </thead>\n",
       "  <tbody>\n",
       "    <tr>\n",
       "      <th>0</th>\n",
       "      <td>Chandigarh</td>\n",
       "      <td>15</td>\n",
       "      <td>True</td>\n",
       "      <td>59.0</td>\n",
       "    </tr>\n",
       "    <tr>\n",
       "      <th>1</th>\n",
       "      <td>Delhi</td>\n",
       "      <td>22</td>\n",
       "      <td>True</td>\n",
       "      <td>71.6</td>\n",
       "    </tr>\n",
       "    <tr>\n",
       "      <th>2</th>\n",
       "      <td>Kanpur</td>\n",
       "      <td>20</td>\n",
       "      <td>False</td>\n",
       "      <td>68.0</td>\n",
       "    </tr>\n",
       "    <tr>\n",
       "      <th>3</th>\n",
       "      <td>Chennai</td>\n",
       "      <td>26</td>\n",
       "      <td>False</td>\n",
       "      <td>78.8</td>\n",
       "    </tr>\n",
       "    <tr>\n",
       "      <th>4</th>\n",
       "      <td>Manali</td>\n",
       "      <td>-2</td>\n",
       "      <td>False</td>\n",
       "      <td>28.4</td>\n",
       "    </tr>\n",
       "    <tr>\n",
       "      <th>0</th>\n",
       "      <td>Bengalaru</td>\n",
       "      <td>24</td>\n",
       "      <td>False</td>\n",
       "      <td>75.2</td>\n",
       "    </tr>\n",
       "    <tr>\n",
       "      <th>1</th>\n",
       "      <td>Coimbatore</td>\n",
       "      <td>35</td>\n",
       "      <td>False</td>\n",
       "      <td>95.0</td>\n",
       "    </tr>\n",
       "    <tr>\n",
       "      <th>2</th>\n",
       "      <td>Srirangam</td>\n",
       "      <td>36</td>\n",
       "      <td>False</td>\n",
       "      <td>96.8</td>\n",
       "    </tr>\n",
       "    <tr>\n",
       "      <th>3</th>\n",
       "      <td>Pondicherry</td>\n",
       "      <td>39</td>\n",
       "      <td>True</td>\n",
       "      <td>102.2</td>\n",
       "    </tr>\n",
       "  </tbody>\n",
       "</table>\n",
       "</div>"
      ],
      "text/plain": [
       "          city  Temperature     ut  temp_farenhiet\n",
       "0   Chandigarh           15   True            59.0\n",
       "1        Delhi           22   True            71.6\n",
       "2       Kanpur           20  False            68.0\n",
       "3      Chennai           26  False            78.8\n",
       "4       Manali           -2  False            28.4\n",
       "0    Bengalaru           24  False            75.2\n",
       "1   Coimbatore           35  False            95.0\n",
       "2    Srirangam           36  False            96.8\n",
       "3  Pondicherry           39   True           102.2"
      ]
     },
     "execution_count": 16,
     "metadata": {},
     "output_type": "execute_result"
    }
   ],
   "source": [
    "d3['temp_farenhiet'] = (d3['Temperature']*1.8)+32\n",
    "d3"
   ]
  },
  {
   "cell_type": "markdown",
   "id": "982d2aa8",
   "metadata": {},
   "source": [
    "## 4. Indexing and selecting rows in DataFrame\n"
   ]
  },
  {
   "cell_type": "markdown",
   "id": "064f3942",
   "metadata": {},
   "source": [
    "Select subset of the dataframe d1 such that it contains the cities which are union territories."
   ]
  },
  {
   "cell_type": "code",
   "execution_count": 20,
   "id": "c9b46508",
   "metadata": {},
   "outputs": [
    {
     "data": {
      "text/html": [
       "<div>\n",
       "<style scoped>\n",
       "    .dataframe tbody tr th:only-of-type {\n",
       "        vertical-align: middle;\n",
       "    }\n",
       "\n",
       "    .dataframe tbody tr th {\n",
       "        vertical-align: top;\n",
       "    }\n",
       "\n",
       "    .dataframe thead th {\n",
       "        text-align: right;\n",
       "    }\n",
       "</style>\n",
       "<table border=\"1\" class=\"dataframe\">\n",
       "  <thead>\n",
       "    <tr style=\"text-align: right;\">\n",
       "      <th></th>\n",
       "      <th>city</th>\n",
       "      <th>Temperature</th>\n",
       "      <th>ut</th>\n",
       "      <th>temp_farenhiet</th>\n",
       "    </tr>\n",
       "  </thead>\n",
       "  <tbody>\n",
       "    <tr>\n",
       "      <th>0</th>\n",
       "      <td>Chandigarh</td>\n",
       "      <td>15</td>\n",
       "      <td>True</td>\n",
       "      <td>59.0</td>\n",
       "    </tr>\n",
       "    <tr>\n",
       "      <th>1</th>\n",
       "      <td>Delhi</td>\n",
       "      <td>22</td>\n",
       "      <td>True</td>\n",
       "      <td>71.6</td>\n",
       "    </tr>\n",
       "    <tr>\n",
       "      <th>3</th>\n",
       "      <td>Pondicherry</td>\n",
       "      <td>39</td>\n",
       "      <td>True</td>\n",
       "      <td>102.2</td>\n",
       "    </tr>\n",
       "  </tbody>\n",
       "</table>\n",
       "</div>"
      ],
      "text/plain": [
       "          city  Temperature    ut  temp_farenhiet\n",
       "0   Chandigarh           15  True            59.0\n",
       "1        Delhi           22  True            71.6\n",
       "3  Pondicherry           39  True           102.2"
      ]
     },
     "execution_count": 20,
     "metadata": {},
     "output_type": "execute_result"
    }
   ],
   "source": [
    "d3[d3['city'].isin(['Chandigarh','Delhi','Pondicherry'])]"
   ]
  },
  {
   "cell_type": "markdown",
   "id": "22881a55",
   "metadata": {},
   "source": [
    "Select a subset of the dataframe d1 such that it contains the cities which only have temperature above 90 Farenhiet."
   ]
  },
  {
   "cell_type": "code",
   "execution_count": 21,
   "id": "8065026e",
   "metadata": {},
   "outputs": [
    {
     "data": {
      "text/html": [
       "<div>\n",
       "<style scoped>\n",
       "    .dataframe tbody tr th:only-of-type {\n",
       "        vertical-align: middle;\n",
       "    }\n",
       "\n",
       "    .dataframe tbody tr th {\n",
       "        vertical-align: top;\n",
       "    }\n",
       "\n",
       "    .dataframe thead th {\n",
       "        text-align: right;\n",
       "    }\n",
       "</style>\n",
       "<table border=\"1\" class=\"dataframe\">\n",
       "  <thead>\n",
       "    <tr style=\"text-align: right;\">\n",
       "      <th></th>\n",
       "      <th>city</th>\n",
       "      <th>Temperature</th>\n",
       "      <th>ut</th>\n",
       "      <th>temp_farenhiet</th>\n",
       "    </tr>\n",
       "  </thead>\n",
       "  <tbody>\n",
       "    <tr>\n",
       "      <th>0</th>\n",
       "      <td>Chandigarh</td>\n",
       "      <td>15</td>\n",
       "      <td>True</td>\n",
       "      <td>59.0</td>\n",
       "    </tr>\n",
       "    <tr>\n",
       "      <th>1</th>\n",
       "      <td>Delhi</td>\n",
       "      <td>22</td>\n",
       "      <td>True</td>\n",
       "      <td>71.6</td>\n",
       "    </tr>\n",
       "    <tr>\n",
       "      <th>2</th>\n",
       "      <td>Kanpur</td>\n",
       "      <td>20</td>\n",
       "      <td>False</td>\n",
       "      <td>68.0</td>\n",
       "    </tr>\n",
       "    <tr>\n",
       "      <th>3</th>\n",
       "      <td>Chennai</td>\n",
       "      <td>26</td>\n",
       "      <td>False</td>\n",
       "      <td>78.8</td>\n",
       "    </tr>\n",
       "    <tr>\n",
       "      <th>4</th>\n",
       "      <td>Manali</td>\n",
       "      <td>-2</td>\n",
       "      <td>False</td>\n",
       "      <td>28.4</td>\n",
       "    </tr>\n",
       "    <tr>\n",
       "      <th>0</th>\n",
       "      <td>Bengalaru</td>\n",
       "      <td>24</td>\n",
       "      <td>False</td>\n",
       "      <td>75.2</td>\n",
       "    </tr>\n",
       "    <tr>\n",
       "      <th>1</th>\n",
       "      <td>Coimbatore</td>\n",
       "      <td>35</td>\n",
       "      <td>False</td>\n",
       "      <td>95.0</td>\n",
       "    </tr>\n",
       "    <tr>\n",
       "      <th>2</th>\n",
       "      <td>Srirangam</td>\n",
       "      <td>36</td>\n",
       "      <td>False</td>\n",
       "      <td>96.8</td>\n",
       "    </tr>\n",
       "    <tr>\n",
       "      <th>3</th>\n",
       "      <td>Pondicherry</td>\n",
       "      <td>39</td>\n",
       "      <td>True</td>\n",
       "      <td>102.2</td>\n",
       "    </tr>\n",
       "  </tbody>\n",
       "</table>\n",
       "</div>"
      ],
      "text/plain": [
       "          city  Temperature     ut  temp_farenhiet\n",
       "0   Chandigarh           15   True            59.0\n",
       "1        Delhi           22   True            71.6\n",
       "2       Kanpur           20  False            68.0\n",
       "3      Chennai           26  False            78.8\n",
       "4       Manali           -2  False            28.4\n",
       "0    Bengalaru           24  False            75.2\n",
       "1   Coimbatore           35  False            95.0\n",
       "2    Srirangam           36  False            96.8\n",
       "3  Pondicherry           39   True           102.2"
      ]
     },
     "execution_count": 21,
     "metadata": {},
     "output_type": "execute_result"
    }
   ],
   "source": [
    "d3"
   ]
  },
  {
   "cell_type": "code",
   "execution_count": 22,
   "id": "2ff26763",
   "metadata": {},
   "outputs": [
    {
     "data": {
      "text/html": [
       "<div>\n",
       "<style scoped>\n",
       "    .dataframe tbody tr th:only-of-type {\n",
       "        vertical-align: middle;\n",
       "    }\n",
       "\n",
       "    .dataframe tbody tr th {\n",
       "        vertical-align: top;\n",
       "    }\n",
       "\n",
       "    .dataframe thead th {\n",
       "        text-align: right;\n",
       "    }\n",
       "</style>\n",
       "<table border=\"1\" class=\"dataframe\">\n",
       "  <thead>\n",
       "    <tr style=\"text-align: right;\">\n",
       "      <th></th>\n",
       "      <th>city</th>\n",
       "      <th>Temperature</th>\n",
       "      <th>ut</th>\n",
       "      <th>temp_farenhiet</th>\n",
       "    </tr>\n",
       "  </thead>\n",
       "  <tbody>\n",
       "    <tr>\n",
       "      <th>1</th>\n",
       "      <td>Coimbatore</td>\n",
       "      <td>35</td>\n",
       "      <td>False</td>\n",
       "      <td>95.0</td>\n",
       "    </tr>\n",
       "    <tr>\n",
       "      <th>2</th>\n",
       "      <td>Srirangam</td>\n",
       "      <td>36</td>\n",
       "      <td>False</td>\n",
       "      <td>96.8</td>\n",
       "    </tr>\n",
       "    <tr>\n",
       "      <th>3</th>\n",
       "      <td>Pondicherry</td>\n",
       "      <td>39</td>\n",
       "      <td>True</td>\n",
       "      <td>102.2</td>\n",
       "    </tr>\n",
       "  </tbody>\n",
       "</table>\n",
       "</div>"
      ],
      "text/plain": [
       "          city  Temperature     ut  temp_farenhiet\n",
       "1   Coimbatore           35  False            95.0\n",
       "2    Srirangam           36  False            96.8\n",
       "3  Pondicherry           39   True           102.2"
      ]
     },
     "execution_count": 22,
     "metadata": {},
     "output_type": "execute_result"
    }
   ],
   "source": [
    "d3[d3['temp_farenhiet']>90]"
   ]
  },
  {
   "cell_type": "markdown",
   "id": "520e1002",
   "metadata": {},
   "source": [
    "Select only the first three rows of the dataframe d1. \n"
   ]
  },
  {
   "cell_type": "code",
   "execution_count": 23,
   "id": "2c7afa3f",
   "metadata": {},
   "outputs": [
    {
     "data": {
      "text/html": [
       "<div>\n",
       "<style scoped>\n",
       "    .dataframe tbody tr th:only-of-type {\n",
       "        vertical-align: middle;\n",
       "    }\n",
       "\n",
       "    .dataframe tbody tr th {\n",
       "        vertical-align: top;\n",
       "    }\n",
       "\n",
       "    .dataframe thead th {\n",
       "        text-align: right;\n",
       "    }\n",
       "</style>\n",
       "<table border=\"1\" class=\"dataframe\">\n",
       "  <thead>\n",
       "    <tr style=\"text-align: right;\">\n",
       "      <th></th>\n",
       "      <th>city</th>\n",
       "      <th>Temperature</th>\n",
       "      <th>ut</th>\n",
       "      <th>temp_farenhiet</th>\n",
       "    </tr>\n",
       "  </thead>\n",
       "  <tbody>\n",
       "    <tr>\n",
       "      <th>0</th>\n",
       "      <td>Chandigarh</td>\n",
       "      <td>15</td>\n",
       "      <td>True</td>\n",
       "      <td>59.0</td>\n",
       "    </tr>\n",
       "    <tr>\n",
       "      <th>1</th>\n",
       "      <td>Delhi</td>\n",
       "      <td>22</td>\n",
       "      <td>True</td>\n",
       "      <td>71.6</td>\n",
       "    </tr>\n",
       "    <tr>\n",
       "      <th>2</th>\n",
       "      <td>Kanpur</td>\n",
       "      <td>20</td>\n",
       "      <td>False</td>\n",
       "      <td>68.0</td>\n",
       "    </tr>\n",
       "  </tbody>\n",
       "</table>\n",
       "</div>"
      ],
      "text/plain": [
       "         city  Temperature     ut  temp_farenhiet\n",
       "0  Chandigarh           15   True            59.0\n",
       "1       Delhi           22   True            71.6\n",
       "2      Kanpur           20  False            68.0"
      ]
     },
     "execution_count": 23,
     "metadata": {},
     "output_type": "execute_result"
    }
   ],
   "source": [
    "d3.head(3)"
   ]
  },
  {
   "cell_type": "markdown",
   "id": "2653dc5d",
   "metadata": {},
   "source": [
    "Select all the rows and last two columns in the dataframe.\n",
    "\n",
    "\n"
   ]
  },
  {
   "cell_type": "code",
   "execution_count": 26,
   "id": "2292e822",
   "metadata": {},
   "outputs": [
    {
     "data": {
      "text/html": [
       "<div>\n",
       "<style scoped>\n",
       "    .dataframe tbody tr th:only-of-type {\n",
       "        vertical-align: middle;\n",
       "    }\n",
       "\n",
       "    .dataframe tbody tr th {\n",
       "        vertical-align: top;\n",
       "    }\n",
       "\n",
       "    .dataframe thead th {\n",
       "        text-align: right;\n",
       "    }\n",
       "</style>\n",
       "<table border=\"1\" class=\"dataframe\">\n",
       "  <thead>\n",
       "    <tr style=\"text-align: right;\">\n",
       "      <th></th>\n",
       "      <th>ut</th>\n",
       "      <th>temp_farenhiet</th>\n",
       "    </tr>\n",
       "  </thead>\n",
       "  <tbody>\n",
       "    <tr>\n",
       "      <th>0</th>\n",
       "      <td>True</td>\n",
       "      <td>59.0</td>\n",
       "    </tr>\n",
       "    <tr>\n",
       "      <th>1</th>\n",
       "      <td>True</td>\n",
       "      <td>71.6</td>\n",
       "    </tr>\n",
       "    <tr>\n",
       "      <th>2</th>\n",
       "      <td>False</td>\n",
       "      <td>68.0</td>\n",
       "    </tr>\n",
       "    <tr>\n",
       "      <th>3</th>\n",
       "      <td>False</td>\n",
       "      <td>78.8</td>\n",
       "    </tr>\n",
       "    <tr>\n",
       "      <th>4</th>\n",
       "      <td>False</td>\n",
       "      <td>28.4</td>\n",
       "    </tr>\n",
       "    <tr>\n",
       "      <th>0</th>\n",
       "      <td>False</td>\n",
       "      <td>75.2</td>\n",
       "    </tr>\n",
       "    <tr>\n",
       "      <th>1</th>\n",
       "      <td>False</td>\n",
       "      <td>95.0</td>\n",
       "    </tr>\n",
       "    <tr>\n",
       "      <th>2</th>\n",
       "      <td>False</td>\n",
       "      <td>96.8</td>\n",
       "    </tr>\n",
       "    <tr>\n",
       "      <th>3</th>\n",
       "      <td>True</td>\n",
       "      <td>102.2</td>\n",
       "    </tr>\n",
       "  </tbody>\n",
       "</table>\n",
       "</div>"
      ],
      "text/plain": [
       "      ut  temp_farenhiet\n",
       "0   True            59.0\n",
       "1   True            71.6\n",
       "2  False            68.0\n",
       "3  False            78.8\n",
       "4  False            28.4\n",
       "0  False            75.2\n",
       "1  False            95.0\n",
       "2  False            96.8\n",
       "3   True           102.2"
      ]
     },
     "execution_count": 26,
     "metadata": {},
     "output_type": "execute_result"
    }
   ],
   "source": [
    "d3.iloc[:,[-2,-1]]"
   ]
  },
  {
   "cell_type": "markdown",
   "id": "be037e1b",
   "metadata": {},
   "source": [
    "## Data Range"
   ]
  },
  {
   "cell_type": "markdown",
   "id": "5a6f50e4",
   "metadata": {},
   "source": [
    "Create a pandas daterange where starting date is 1st of January,2020 and end date is 1st of April 2021, store it in a new variable named 'a'"
   ]
  },
  {
   "cell_type": "code",
   "execution_count": 49,
   "id": "a483f918",
   "metadata": {},
   "outputs": [],
   "source": [
    "a=pd.date_range(start = '1/1/2020', end='1/4/2021')\n"
   ]
  },
  {
   "cell_type": "code",
   "execution_count": 50,
   "id": "c514b026",
   "metadata": {},
   "outputs": [
    {
     "name": "stdout",
     "output_type": "stream",
     "text": [
      "DatetimeIndex(['2020-01-01', '2020-01-02', '2020-01-03', '2020-01-04',\n",
      "               '2020-01-05', '2020-01-06', '2020-01-07', '2020-01-08',\n",
      "               '2020-01-09', '2020-01-10',\n",
      "               ...\n",
      "               '2020-12-26', '2020-12-27', '2020-12-28', '2020-12-29',\n",
      "               '2020-12-30', '2020-12-31', '2021-01-01', '2021-01-02',\n",
      "               '2021-01-03', '2021-01-04'],\n",
      "              dtype='datetime64[ns]', length=370, freq='D')\n"
     ]
    }
   ],
   "source": [
    "print(a)"
   ]
  },
  {
   "cell_type": "markdown",
   "id": "af1a2f83",
   "metadata": {},
   "source": [
    "print a"
   ]
  },
  {
   "cell_type": "code",
   "execution_count": 51,
   "id": "d67f1783",
   "metadata": {},
   "outputs": [
    {
     "data": {
      "text/plain": [
       "370"
      ]
     },
     "execution_count": 51,
     "metadata": {},
     "output_type": "execute_result"
    }
   ],
   "source": [
    "len(a)"
   ]
  },
  {
   "cell_type": "markdown",
   "id": "7ef31041",
   "metadata": {},
   "source": [
    "What is the len of a?"
   ]
  },
  {
   "cell_type": "code",
   "execution_count": 52,
   "id": "d85496a4",
   "metadata": {},
   "outputs": [
    {
     "data": {
      "text/plain": [
       "370"
      ]
     },
     "execution_count": 52,
     "metadata": {},
     "output_type": "execute_result"
    }
   ],
   "source": [
    "len(a)"
   ]
  },
  {
   "cell_type": "markdown",
   "id": "e001c45d",
   "metadata": {},
   "source": [
    "What is the type of a?"
   ]
  },
  {
   "cell_type": "code",
   "execution_count": 53,
   "id": "bf30c8b7",
   "metadata": {},
   "outputs": [
    {
     "data": {
      "text/plain": [
       "pandas.core.indexes.datetimes.DatetimeIndex"
      ]
     },
     "execution_count": 53,
     "metadata": {},
     "output_type": "execute_result"
    }
   ],
   "source": [
    "type(a)"
   ]
  },
  {
   "cell_type": "markdown",
   "id": "3b0973b4-8876-43da-acac-a8a379973f32",
   "metadata": {},
   "source": [
    "## input output"
   ]
  },
  {
   "cell_type": "code",
   "execution_count": 130,
   "id": "90bef271",
   "metadata": {},
   "outputs": [
    {
     "data": {
      "text/html": [
       "<div>\n",
       "<style scoped>\n",
       "    .dataframe tbody tr th:only-of-type {\n",
       "        vertical-align: middle;\n",
       "    }\n",
       "\n",
       "    .dataframe tbody tr th {\n",
       "        vertical-align: top;\n",
       "    }\n",
       "\n",
       "    .dataframe thead th {\n",
       "        text-align: right;\n",
       "    }\n",
       "</style>\n",
       "<table border=\"1\" class=\"dataframe\">\n",
       "  <thead>\n",
       "    <tr style=\"text-align: right;\">\n",
       "      <th></th>\n",
       "      <th>Year</th>\n",
       "      <th>Industry_aggregation_NZSIOC</th>\n",
       "      <th>Industry_code_NZSIOC</th>\n",
       "      <th>Industry_name_NZSIOC</th>\n",
       "      <th>Units</th>\n",
       "      <th>Variable_code</th>\n",
       "      <th>Variable_name</th>\n",
       "      <th>Variable_category</th>\n",
       "      <th>Value</th>\n",
       "      <th>Industry_code_ANZSIC06</th>\n",
       "    </tr>\n",
       "  </thead>\n",
       "  <tbody>\n",
       "    <tr>\n",
       "      <th>0</th>\n",
       "      <td>2020</td>\n",
       "      <td>Level 1</td>\n",
       "      <td>99999</td>\n",
       "      <td>All industries</td>\n",
       "      <td>Dollars (millions)</td>\n",
       "      <td>H01</td>\n",
       "      <td>Total income</td>\n",
       "      <td>Financial performance</td>\n",
       "      <td>733,258</td>\n",
       "      <td>ANZSIC06 divisions A-S (excluding classes K633...</td>\n",
       "    </tr>\n",
       "    <tr>\n",
       "      <th>1</th>\n",
       "      <td>2020</td>\n",
       "      <td>Level 1</td>\n",
       "      <td>99999</td>\n",
       "      <td>All industries</td>\n",
       "      <td>Dollars (millions)</td>\n",
       "      <td>H04</td>\n",
       "      <td>Sales, government funding, grants and subsidies</td>\n",
       "      <td>Financial performance</td>\n",
       "      <td>660,630</td>\n",
       "      <td>ANZSIC06 divisions A-S (excluding classes K633...</td>\n",
       "    </tr>\n",
       "    <tr>\n",
       "      <th>2</th>\n",
       "      <td>2020</td>\n",
       "      <td>Level 1</td>\n",
       "      <td>99999</td>\n",
       "      <td>All industries</td>\n",
       "      <td>Dollars (millions)</td>\n",
       "      <td>H05</td>\n",
       "      <td>Interest, dividends and donations</td>\n",
       "      <td>Financial performance</td>\n",
       "      <td>54,342</td>\n",
       "      <td>ANZSIC06 divisions A-S (excluding classes K633...</td>\n",
       "    </tr>\n",
       "    <tr>\n",
       "      <th>3</th>\n",
       "      <td>2020</td>\n",
       "      <td>Level 1</td>\n",
       "      <td>99999</td>\n",
       "      <td>All industries</td>\n",
       "      <td>Dollars (millions)</td>\n",
       "      <td>H07</td>\n",
       "      <td>Non-operating income</td>\n",
       "      <td>Financial performance</td>\n",
       "      <td>18,285</td>\n",
       "      <td>ANZSIC06 divisions A-S (excluding classes K633...</td>\n",
       "    </tr>\n",
       "    <tr>\n",
       "      <th>4</th>\n",
       "      <td>2020</td>\n",
       "      <td>Level 1</td>\n",
       "      <td>99999</td>\n",
       "      <td>All industries</td>\n",
       "      <td>Dollars (millions)</td>\n",
       "      <td>H08</td>\n",
       "      <td>Total expenditure</td>\n",
       "      <td>Financial performance</td>\n",
       "      <td>654,872</td>\n",
       "      <td>ANZSIC06 divisions A-S (excluding classes K633...</td>\n",
       "    </tr>\n",
       "  </tbody>\n",
       "</table>\n",
       "</div>"
      ],
      "text/plain": [
       "   Year Industry_aggregation_NZSIOC Industry_code_NZSIOC Industry_name_NZSIOC  \\\n",
       "0  2020                     Level 1                99999       All industries   \n",
       "1  2020                     Level 1                99999       All industries   \n",
       "2  2020                     Level 1                99999       All industries   \n",
       "3  2020                     Level 1                99999       All industries   \n",
       "4  2020                     Level 1                99999       All industries   \n",
       "\n",
       "                Units Variable_code  \\\n",
       "0  Dollars (millions)           H01   \n",
       "1  Dollars (millions)           H04   \n",
       "2  Dollars (millions)           H05   \n",
       "3  Dollars (millions)           H07   \n",
       "4  Dollars (millions)           H08   \n",
       "\n",
       "                                     Variable_name      Variable_category  \\\n",
       "0                                     Total income  Financial performance   \n",
       "1  Sales, government funding, grants and subsidies  Financial performance   \n",
       "2                Interest, dividends and donations  Financial performance   \n",
       "3                             Non-operating income  Financial performance   \n",
       "4                                Total expenditure  Financial performance   \n",
       "\n",
       "     Value                             Industry_code_ANZSIC06  \n",
       "0  733,258  ANZSIC06 divisions A-S (excluding classes K633...  \n",
       "1  660,630  ANZSIC06 divisions A-S (excluding classes K633...  \n",
       "2   54,342  ANZSIC06 divisions A-S (excluding classes K633...  \n",
       "3   18,285  ANZSIC06 divisions A-S (excluding classes K633...  \n",
       "4  654,872  ANZSIC06 divisions A-S (excluding classes K633...  "
      ]
     },
     "execution_count": 130,
     "metadata": {},
     "output_type": "execute_result"
    }
   ],
   "source": [
    "csv_read = pd.read_csv('/home/vimalkumar/Downloads/annual-enterprise-survey-2020-financial-year-provisional-csv.csv')\n",
    "csv_read.head()"
   ]
  },
  {
   "cell_type": "code",
   "execution_count": 131,
   "id": "3dec4d45",
   "metadata": {},
   "outputs": [],
   "source": [
    "csv_save = csv_read.to_csv('sample.csv')"
   ]
  },
  {
   "cell_type": "code",
   "execution_count": 33,
   "id": "c130f8e3",
   "metadata": {},
   "outputs": [],
   "source": [
    "json_read = pd.read_json('/home/vimalkumar/Downloads/sample1.json',typ='series')"
   ]
  },
  {
   "cell_type": "code",
   "execution_count": 34,
   "id": "6ff06b5b",
   "metadata": {},
   "outputs": [
    {
     "data": {
      "text/plain": [
       "fruit    Apple\n",
       "size     Large\n",
       "color      Red\n",
       "dtype: object"
      ]
     },
     "execution_count": 34,
     "metadata": {},
     "output_type": "execute_result"
    }
   ],
   "source": [
    "json_read.head()"
   ]
  },
  {
   "cell_type": "code",
   "execution_count": 36,
   "id": "5585fb4f",
   "metadata": {},
   "outputs": [],
   "source": [
    "json_read.to_json('jsonfile.json')"
   ]
  },
  {
   "cell_type": "code",
   "execution_count": 38,
   "id": "9c37b6c5",
   "metadata": {},
   "outputs": [
    {
     "name": "stdout",
     "output_type": "stream",
     "text": [
      "[                                           Publisher  \\\n",
      "0                   Coders Against COVID/GISCorps[1]   \n",
      "1                                        USAFacts[5]   \n",
      "2                          COVID Tracking Project[8]   \n",
      "3  Sentiment Analysis of users reviews on COVID-1...   \n",
      "\n",
      "  Date of first publication                            In official use?  \\\n",
      "0         March 22, 2020[2]  Yes, by FEMA[3] and State of California[4]   \n",
      "1         April 24, 2020[6]                              Yes, by CDC[7]   \n",
      "2          March 7, 2020[9]                                          No   \n",
      "3                March 2021                                         NaN   \n",
      "\n",
      "  Update Frequency  Geographic Level Timeseries Testing Sites Testing Number  \\\n",
      "0            Daily  Point (lat/long)        Yes           Yes             No   \n",
      "1            Daily            County        Yes            No             No   \n",
      "2            Daily             State        Yes            No            Yes   \n",
      "3              NaN               NaN        NaN           NaN            NaN   \n",
      "\n",
      "  Cases Hospitalizations Deaths Vaccination Sites Vaccination Number  \\\n",
      "0    No               No     No               Yes                 No   \n",
      "1   Yes              NaN    Yes                No                 No   \n",
      "2   Yes              Yes    Yes                No                 No   \n",
      "3   NaN              NaN    NaN               NaN                NaN   \n",
      "\n",
      "                                         Description  \n",
      "0  A dataset of COVID-19 testing locations in the...  \n",
      "1  A dataset of county-level coronavirus cases an...  \n",
      "2  A volunteer-run database of testing and medica...  \n",
      "3  This dataset is intended to support sentiment ...  ,                                                 Name  Geographic Level  \\\n",
      "0  COVID-19 Diagnostic Laboratory Testing (PCR Te...             State   \n",
      "1  COVID-19 Reported Patient Impact and Hospital ...  Point (lat/long)   \n",
      "2  COVID-19 Estimated Patient Impact and Hospital...             State   \n",
      "3  COVID-19 Reported Patient Impact and Hospital ...             State   \n",
      "4  COVID-19 Reported Patient Impact and Hospital ...             State   \n",
      "\n",
      "  Timeseries Testing Sites Testing Number Cases Hospitalizations Deaths  \\\n",
      "0        Yes            No            Yes    No               No     No   \n",
      "1        Yes            No             No    No              Yes     No   \n",
      "2         No            No             No    No              Yes     No   \n",
      "3         No            No             No    No              Yes     No   \n",
      "4        Yes            No             No    No              Yes     No   \n",
      "\n",
      "  Vaccination Sites Vaccination Number  \n",
      "0                No                 No  \n",
      "1                No                 No  \n",
      "2                No                 No  \n",
      "3                No                 No  \n",
      "4                No                 No  ,     .mw-parser-output .navbar{display:inline;font-size:88%;font-weight:normal}.mw-parser-output .navbar-collapse{float:left;text-align:left}.mw-parser-output .navbar-boxtext{word-spacing:0}.mw-parser-output .navbar ul{display:inline-block;white-space:nowrap;line-height:inherit}.mw-parser-output .navbar-brackets::before{margin-right:-0.125em;content:\"[ \"}.mw-parser-output .navbar-brackets::after{margin-left:-0.125em;content:\" ]\"}.mw-parser-output .navbar li{word-spacing:-0.125em}.mw-parser-output .navbar a>span,.mw-parser-output .navbar a>abbr{text-decoration:inherit}.mw-parser-output .navbar-mini abbr{font-variant:small-caps;border-bottom:none;text-decoration:none;cursor:inherit}.mw-parser-output .navbar-ct-full{font-size:114%;margin:0 7em}.mw-parser-output .navbar-ct-mini{font-size:114%;margin:0 4em}.mw-parser-output .infobox .navbar{font-size:100%}.mw-parser-output .navbox .navbar{display:block;font-size:100%}.mw-parser-output .navbox-title .navbar{float:left;text-align:left;margin-right:0.5em}vteCOVID-19 pandemic  \\\n",
      "0                COVID-19 (disease) SARS-CoV-2 (virus)                                                                                                                                                                                                                                                                                                                                                                                                                                                                                                                                                                                                                                                                                                                                                                                                                                                                                                                                                                                                                    \n",
      "1    TimelinePre-pandemic Severe acute respiratory ...                                                                                                                                                                                                                                                                                                                                                                                                                                                                                                                                                                                                                                                                                                                                                                                                                                                                                                                                                                                                                    \n",
      "2                                             Timeline                                                                                                                                                                                                                                                                                                                                                                                                                                                                                                                                                                                                                                                                                                                                                                                                                                                                                                                                                                                                                    \n",
      "3    Pre-pandemic Severe acute respiratory syndrome...                                                                                                                                                                                                                                                                                                                                                                                                                                                                                                                                                                                                                                                                                                                                                                                                                                                                                                                                                                                                                    \n",
      "4                                         Pre-pandemic                                                                                                                                                                                                                                                                                                                                                                                                                                                                                                                                                                                                                                                                                                                                                                                                                                                                                                                                                                                                                    \n",
      "..                                                 ...                                                                                                                                                                                                                                                                                                                                                                                                                                                                                                                                                                                                                                                                                                                                                                                                                                                                                                                                                                                                                    \n",
      "122                                               Asia                                                                                                                                                                                                                                                                                                                                                                                                                                                                                                                                                                                                                                                                                                                                                                                                                                                                                                                                                                                                                    \n",
      "123                                      Europe(chart)                                                                                                                                                                                                                                                                                                                                                                                                                                                                                                                                                                                                                                                                                                                                                                                                                                                                                                                                                                                                                    \n",
      "124                                            Oceania                                                                                                                                                                                                                                                                                                                                                                                                                                                                                                                                                                                                                                                                                                                                                                                                                                                                                                                                                                                                                    \n",
      "125                                             Others                                                                                                                                                                                                                                                                                                                                                                                                                                                                                                                                                                                                                                                                                                                                                                                                                                                                                                                                                                                                                    \n",
      "126                          COVID-19 portal  Category                                                                                                                                                                                                                                                                                                                                                                                                                                                                                                                                                                                                                                                                                                                                                                                                                                                                                                                                                                                                                    \n",
      "\n",
      "    .mw-parser-output .navbar{display:inline;font-size:88%;font-weight:normal}.mw-parser-output .navbar-collapse{float:left;text-align:left}.mw-parser-output .navbar-boxtext{word-spacing:0}.mw-parser-output .navbar ul{display:inline-block;white-space:nowrap;line-height:inherit}.mw-parser-output .navbar-brackets::before{margin-right:-0.125em;content:\"[ \"}.mw-parser-output .navbar-brackets::after{margin-left:-0.125em;content:\" ]\"}.mw-parser-output .navbar li{word-spacing:-0.125em}.mw-parser-output .navbar a>span,.mw-parser-output .navbar a>abbr{text-decoration:inherit}.mw-parser-output .navbar-mini abbr{font-variant:small-caps;border-bottom:none;text-decoration:none;cursor:inherit}.mw-parser-output .navbar-ct-full{font-size:114%;margin:0 7em}.mw-parser-output .navbar-ct-mini{font-size:114%;margin:0 4em}.mw-parser-output .infobox .navbar{font-size:100%}.mw-parser-output .navbox .navbar{display:block;font-size:100%}.mw-parser-output .navbox-title .navbar{float:left;text-align:left;margin-right:0.5em}vteCOVID-19 pandemic.1  \n",
      "0                COVID-19 (disease) SARS-CoV-2 (virus)                                                                                                                                                                                                                                                                                                                                                                                                                                                                                                                                                                                                                                                                                                                                                                                                                                                                                                                                                                                                                     \n",
      "1    TimelinePre-pandemic Severe acute respiratory ...                                                                                                                                                                                                                                                                                                                                                                                                                                                                                                                                                                                                                                                                                                                                                                                                                                                                                                                                                                                                                     \n",
      "2                                             Timeline                                                                                                                                                                                                                                                                                                                                                                                                                                                                                                                                                                                                                                                                                                                                                                                                                                                                                                                                                                                                                     \n",
      "3    Pre-pandemic Severe acute respiratory syndrome...                                                                                                                                                                                                                                                                                                                                                                                                                                                                                                                                                                                                                                                                                                                                                                                                                                                                                                                                                                                                                     \n",
      "4    Severe acute respiratory syndrome (SARS) Middl...                                                                                                                                                                                                                                                                                                                                                                                                                                                                                                                                                                                                                                                                                                                                                                                                                                                                                                                                                                                                                     \n",
      "..                                                 ...                                                                                                                                                                                                                                                                                                                                                                                                                                                                                                                                                                                                                                                                                                                                                                                                                                                                                                                                                                                                                     \n",
      "122  Afghanistan chart Armenia chart Azerbaijan cha...                                                                                                                                                                                                                                                                                                                                                                                                                                                                                                                                                                                                                                                                                                                                                                                                                                                                                                                                                                                                                     \n",
      "123  Albania chart Austria chart Belarus chart Belg...                                                                                                                                                                                                                                                                                                                                                                                                                                                                                                                                                                                                                                                                                                                                                                                                                                                                                                                                                                                                                     \n",
      "124  Australia chart by state/territory Fiji chart ...                                                                                                                                                                                                                                                                                                                                                                                                                                                                                                                                                                                                                                                                                                                                                                                                                                                                                                                                                                                                                     \n",
      "125                      Cruise ships Diamond Princess                                                                                                                                                                                                                                                                                                                                                                                                                                                                                                                                                                                                                                                                                                                                                                                                                                                                                                                                                                                                                     \n",
      "126                          COVID-19 portal  Category                                                                                                                                                                                                                                                                                                                                                                                                                                                                                                                                                                                                                                                                                                                                                                                                                                                                                                                                                                                                                     \n",
      "\n",
      "[127 rows x 2 columns],                                             Timeline  \\\n",
      "0  Pre-pandemic Severe acute respiratory syndrome...   \n",
      "1                                       Pre-pandemic   \n",
      "2                                               2020   \n",
      "3                                               2021   \n",
      "\n",
      "                                          Timeline.1  \n",
      "0  Pre-pandemic Severe acute respiratory syndrome...  \n",
      "1  Severe acute respiratory syndrome (SARS) Middl...  \n",
      "2  January responses February responses March res...  \n",
      "3  January responses February responses March res...  ,               0                                                  1\n",
      "0  Pre-pandemic  Severe acute respiratory syndrome (SARS) Middl...\n",
      "1          2020  January responses February responses March res...\n",
      "2          2021  January responses February responses March res...,                                             Locations  \\\n",
      "0   Africa(timelinenationalresponses)Northern Alge...   \n",
      "1                   Africa(timelinenationalresponses)   \n",
      "2                                            Northern   \n",
      "3                                             Eastern   \n",
      "4                                            Southern   \n",
      "5                                             Central   \n",
      "6                                             Western   \n",
      "7                                                Asia   \n",
      "8                                       Central/North   \n",
      "9                                                East   \n",
      "10  Hong Kong Japan timeline Tokyo 2020 Summer Oly...   \n",
      "11                                     Mainland China   \n",
      "12                                              South   \n",
      "13  Afghanistan timeline Bangladesh timeline Bhuta...   \n",
      "14                                              India   \n",
      "15                                          Southeast   \n",
      "16  Brunei Cambodia East Timor Indonesia timeline ...   \n",
      "17                                           Malaysia   \n",
      "18                                        Philippines   \n",
      "19                                               West   \n",
      "20                                             Europe   \n",
      "21                                     United Kingdom   \n",
      "22  history timeline January–June 2020 July–Decemb...   \n",
      "23                                 Crown dependencies   \n",
      "24                               Overseas territories   \n",
      "25                                            Eastern   \n",
      "26                                    Western Balkans   \n",
      "27                                     European Union   \n",
      "28                                     EFTA countries   \n",
      "29                                        Microstates   \n",
      "30                                       NorthAmerica   \n",
      "31                                    Central America   \n",
      "32                                             Canada   \n",
      "33                                          Caribbean   \n",
      "34                                      United States   \n",
      "35                                           Atlantic   \n",
      "36                                            Oceania   \n",
      "37  American Samoa Cook Islands Easter Island Fede...   \n",
      "38                                          Australia   \n",
      "39                                       SouthAmerica   \n",
      "40                                             Others   \n",
      "\n",
      "                                          Locations.1  \n",
      "0   Africa(timelinenationalresponses)Northern Alge...  \n",
      "1   Northern Algeria Canary Islands Ceuta Egypt Li...  \n",
      "2   Algeria Canary Islands Ceuta Egypt Libya Mauri...  \n",
      "3   Burundi Comoros Djibouti Eritrea Ethiopia Keny...  \n",
      "4   Angola Botswana Eswatini Lesotho Malawi Mozamb...  \n",
      "5   Cameroon Central African Republic Chad Democra...  \n",
      "6   Benin Burkina Faso Cape Verde Equatorial Guine...  \n",
      "7   Central/North Kazakhstan Kyrgyzstan Russia tim...  \n",
      "8   Kazakhstan Kyrgyzstan Russia timeline January–...  \n",
      "9   Hong Kong Japan timeline Tokyo 2020 Summer Oly...  \n",
      "10  Hong Kong Japan timeline Tokyo 2020 Summer Oly...  \n",
      "11  lockdown detail statistics vaccination Beijing...  \n",
      "12  Afghanistan timeline Bangladesh timeline Bhuta...  \n",
      "13  Afghanistan timeline Bangladesh timeline Bhuta...  \n",
      "14  timeline January–May 2020 June–December 2020 2...  \n",
      "15  Brunei Cambodia East Timor Indonesia timeline ...  \n",
      "16  Brunei Cambodia East Timor Indonesia timeline ...  \n",
      "17  impact social economic political Aid and relie...  \n",
      "18  timeline 2020 2021 government response communi...  \n",
      "19  Armenia Azerbaijan Artsakh Bahrain Cyprus Nort...  \n",
      "20  United Kingdom history timeline January–June 2...  \n",
      "21  history timeline January–June 2020 July–Decemb...  \n",
      "22  history timeline January–June 2020 July–Decemb...  \n",
      "23                        Isle of Man Jersey Guernsey  \n",
      "24  Akrotiri and Dhekelia British Indian Ocean Ter...  \n",
      "25  Belarus timeline Kazakhstan Moldova Gagauzia T...  \n",
      "26  Albania Bosnia and Herzegovina Kosovo Monteneg...  \n",
      "27  Austria Belgium Bulgaria Croatia timeline Cypr...  \n",
      "28           Iceland Liechtenstein Norway Switzerland  \n",
      "29             Andorra Monaco San Marino Vatican City  \n",
      "30  Central America Belize Costa Rica El Salvador ...  \n",
      "31  Belize Costa Rica El Salvador Guatemala Hondur...  \n",
      "32  timeline economic impact federal aid vaccinati...  \n",
      "33  Antigua and Barbuda Bahamas Barbados British O...  \n",
      "34  timeline 2020 2021 impact social economic 2021...  \n",
      "35        Bermuda Greenland Saint Pierre and Miquelon  \n",
      "36  American Samoa Cook Islands Easter Island Fede...  \n",
      "37  American Samoa Cook Islands Easter Island Fede...  \n",
      "38  timeline 2020 2021 January–June July–December ...  \n",
      "39  Argentina timeline statistics human rights Bol...  \n",
      "40  Antarctica Cruise ships Diamond Princess Grand...  ,                                                     0  \\\n",
      "0                   Africa(timelinenationalresponses)   \n",
      "1                                            Northern   \n",
      "2                                             Eastern   \n",
      "3                                            Southern   \n",
      "4                                             Central   \n",
      "5                                             Western   \n",
      "6                                                Asia   \n",
      "7                                       Central/North   \n",
      "8                                                East   \n",
      "9   Hong Kong Japan timeline Tokyo 2020 Summer Oly...   \n",
      "10                                     Mainland China   \n",
      "11                                              South   \n",
      "12  Afghanistan timeline Bangladesh timeline Bhuta...   \n",
      "13                                              India   \n",
      "14                                          Southeast   \n",
      "15  Brunei Cambodia East Timor Indonesia timeline ...   \n",
      "16                                           Malaysia   \n",
      "17                                        Philippines   \n",
      "18                                               West   \n",
      "19                                             Europe   \n",
      "20                                     United Kingdom   \n",
      "21  history timeline January–June 2020 July–Decemb...   \n",
      "22                                 Crown dependencies   \n",
      "23                               Overseas territories   \n",
      "24                                            Eastern   \n",
      "25                                    Western Balkans   \n",
      "26                                     European Union   \n",
      "27                                     EFTA countries   \n",
      "28                                        Microstates   \n",
      "29                                       NorthAmerica   \n",
      "30                                    Central America   \n",
      "31                                             Canada   \n",
      "32                                          Caribbean   \n",
      "33                                      United States   \n",
      "34                                           Atlantic   \n",
      "35                                            Oceania   \n",
      "36  American Samoa Cook Islands Easter Island Fede...   \n",
      "37                                          Australia   \n",
      "38                                       SouthAmerica   \n",
      "39                                             Others   \n",
      "\n",
      "                                                    1  \n",
      "0   Northern Algeria Canary Islands Ceuta Egypt Li...  \n",
      "1   Algeria Canary Islands Ceuta Egypt Libya Mauri...  \n",
      "2   Burundi Comoros Djibouti Eritrea Ethiopia Keny...  \n",
      "3   Angola Botswana Eswatini Lesotho Malawi Mozamb...  \n",
      "4   Cameroon Central African Republic Chad Democra...  \n",
      "5   Benin Burkina Faso Cape Verde Equatorial Guine...  \n",
      "6   Central/North Kazakhstan Kyrgyzstan Russia tim...  \n",
      "7   Kazakhstan Kyrgyzstan Russia timeline January–...  \n",
      "8   Hong Kong Japan timeline Tokyo 2020 Summer Oly...  \n",
      "9   Hong Kong Japan timeline Tokyo 2020 Summer Oly...  \n",
      "10  lockdown detail statistics vaccination Beijing...  \n",
      "11  Afghanistan timeline Bangladesh timeline Bhuta...  \n",
      "12  Afghanistan timeline Bangladesh timeline Bhuta...  \n",
      "13  timeline January–May 2020 June–December 2020 2...  \n",
      "14  Brunei Cambodia East Timor Indonesia timeline ...  \n",
      "15  Brunei Cambodia East Timor Indonesia timeline ...  \n",
      "16  impact social economic political Aid and relie...  \n",
      "17  timeline 2020 2021 government response communi...  \n",
      "18  Armenia Azerbaijan Artsakh Bahrain Cyprus Nort...  \n",
      "19  United Kingdom history timeline January–June 2...  \n",
      "20  history timeline January–June 2020 July–Decemb...  \n",
      "21  history timeline January–June 2020 July–Decemb...  \n",
      "22                        Isle of Man Jersey Guernsey  \n",
      "23  Akrotiri and Dhekelia British Indian Ocean Ter...  \n",
      "24  Belarus timeline Kazakhstan Moldova Gagauzia T...  \n",
      "25  Albania Bosnia and Herzegovina Kosovo Monteneg...  \n",
      "26  Austria Belgium Bulgaria Croatia timeline Cypr...  \n",
      "27           Iceland Liechtenstein Norway Switzerland  \n",
      "28             Andorra Monaco San Marino Vatican City  \n",
      "29  Central America Belize Costa Rica El Salvador ...  \n",
      "30  Belize Costa Rica El Salvador Guatemala Hondur...  \n",
      "31  timeline economic impact federal aid vaccinati...  \n",
      "32  Antigua and Barbuda Bahamas Barbados British O...  \n",
      "33  timeline 2020 2021 impact social economic 2021...  \n",
      "34        Bermuda Greenland Saint Pierre and Miquelon  \n",
      "35  American Samoa Cook Islands Easter Island Fede...  \n",
      "36  American Samoa Cook Islands Easter Island Fede...  \n",
      "37  timeline 2020 2021 January–June July–December ...  \n",
      "38  Argentina timeline statistics human rights Bol...  \n",
      "39  Antarctica Cruise ships Diamond Princess Grand...  ,           0                                                  1\n",
      "0  Northern  Algeria Canary Islands Ceuta Egypt Libya Mauri...\n",
      "1   Eastern  Burundi Comoros Djibouti Eritrea Ethiopia Keny...\n",
      "2  Southern  Angola Botswana Eswatini Lesotho Malawi Mozamb...\n",
      "3   Central  Cameroon Central African Republic Chad Democra...\n",
      "4   Western  Benin Burkina Faso Cape Verde Equatorial Guine...,                                                     0  \\\n",
      "0                                       Central/North   \n",
      "1                                                East   \n",
      "2   Hong Kong Japan timeline Tokyo 2020 Summer Oly...   \n",
      "3                                      Mainland China   \n",
      "4                                               South   \n",
      "5   Afghanistan timeline Bangladesh timeline Bhuta...   \n",
      "6                                               India   \n",
      "7                                           Southeast   \n",
      "8   Brunei Cambodia East Timor Indonesia timeline ...   \n",
      "9                                            Malaysia   \n",
      "10                                        Philippines   \n",
      "11                                               West   \n",
      "\n",
      "                                                    1  \n",
      "0   Kazakhstan Kyrgyzstan Russia timeline January–...  \n",
      "1   Hong Kong Japan timeline Tokyo 2020 Summer Oly...  \n",
      "2   Hong Kong Japan timeline Tokyo 2020 Summer Oly...  \n",
      "3   lockdown detail statistics vaccination Beijing...  \n",
      "4   Afghanistan timeline Bangladesh timeline Bhuta...  \n",
      "5   Afghanistan timeline Bangladesh timeline Bhuta...  \n",
      "6   timeline January–May 2020 June–December 2020 2...  \n",
      "7   Brunei Cambodia East Timor Indonesia timeline ...  \n",
      "8   Brunei Cambodia East Timor Indonesia timeline ...  \n",
      "9   impact social economic political Aid and relie...  \n",
      "10  timeline 2020 2021 government response communi...  \n",
      "11  Armenia Azerbaijan Artsakh Bahrain Cyprus Nort...  ,                                                    0  \\\n",
      "0  Hong Kong Japan timeline Tokyo 2020 Summer Oly...   \n",
      "1                                     Mainland China   \n",
      "\n",
      "                                                   1  \n",
      "0  Hong Kong Japan timeline Tokyo 2020 Summer Oly...  \n",
      "1  lockdown detail statistics vaccination Beijing...  ,                                                    0  \\\n",
      "0  Afghanistan timeline Bangladesh timeline Bhuta...   \n",
      "1                                              India   \n",
      "\n",
      "                                                   1  \n",
      "0  Afghanistan timeline Bangladesh timeline Bhuta...  \n",
      "1  timeline January–May 2020 June–December 2020 2...  ,                                                    0  \\\n",
      "0  Brunei Cambodia East Timor Indonesia timeline ...   \n",
      "1                                           Malaysia   \n",
      "2                                        Philippines   \n",
      "\n",
      "                                                   1  \n",
      "0  Brunei Cambodia East Timor Indonesia timeline ...  \n",
      "1  impact social economic political Aid and relie...  \n",
      "2  timeline 2020 2021 government response communi...  ,                                                    0  \\\n",
      "0                                     United Kingdom   \n",
      "1  history timeline January–June 2020 July–Decemb...   \n",
      "2                                 Crown dependencies   \n",
      "3                               Overseas territories   \n",
      "4                                            Eastern   \n",
      "5                                    Western Balkans   \n",
      "6                                     European Union   \n",
      "7                                     EFTA countries   \n",
      "8                                        Microstates   \n",
      "\n",
      "                                                   1  \n",
      "0  history timeline January–June 2020 July–Decemb...  \n",
      "1  history timeline January–June 2020 July–Decemb...  \n",
      "2                        Isle of Man Jersey Guernsey  \n",
      "3  Akrotiri and Dhekelia British Indian Ocean Ter...  \n",
      "4  Belarus timeline Kazakhstan Moldova Gagauzia T...  \n",
      "5  Albania Bosnia and Herzegovina Kosovo Monteneg...  \n",
      "6  Austria Belgium Bulgaria Croatia timeline Cypr...  \n",
      "7           Iceland Liechtenstein Norway Switzerland  \n",
      "8             Andorra Monaco San Marino Vatican City  ,                                                    0  \\\n",
      "0  history timeline January–June 2020 July–Decemb...   \n",
      "1                                 Crown dependencies   \n",
      "2                               Overseas territories   \n",
      "\n",
      "                                                   1  \n",
      "0  history timeline January–June 2020 July–Decemb...  \n",
      "1                        Isle of Man Jersey Guernsey  \n",
      "2  Akrotiri and Dhekelia British Indian Ocean Ter...  ,                  0                                                  1\n",
      "0  Central America  Belize Costa Rica El Salvador Guatemala Hondur...\n",
      "1           Canada  timeline economic impact federal aid vaccinati...\n",
      "2        Caribbean  Antigua and Barbuda Bahamas Barbados British O...\n",
      "3    United States  timeline 2020 2021 impact social economic 2021...\n",
      "4         Atlantic        Bermuda Greenland Saint Pierre and Miquelon,                                                    0  \\\n",
      "0  American Samoa Cook Islands Easter Island Fede...   \n",
      "1                                          Australia   \n",
      "\n",
      "                                                   1  \n",
      "0  American Samoa Cook Islands Easter Island Fede...  \n",
      "1  timeline 2020 2021 January–June July–December ...  ,                                              Impacts  \\\n",
      "0  Culture andentertainment Arts and cultural her...   \n",
      "1                           Culture andentertainment   \n",
      "2                                 Society and rights   \n",
      "3                                           Economic   \n",
      "4                                        Information   \n",
      "5                                           Politics   \n",
      "6                                           Language   \n",
      "7                                             Others   \n",
      "\n",
      "                                           Impacts.1  \n",
      "0  Culture andentertainment Arts and cultural her...  \n",
      "1  Arts and cultural heritage References in popul...  \n",
      "2  Social social media stigma COVID-19 parties Ch...  \n",
      "3  Aviation Airlines Cannabis industry Charitable...  \n",
      "4  Journalism Media coverage Misinformation Gover...  \n",
      "5  National responses Legislation Protests Canada...  \n",
      "6  Doomscrolling Flattening the curve Long-hauler...  \n",
      "7  Animals Anthropause Environment Military Scien...  ,                           0                                                  1\n",
      "0  Culture andentertainment  Arts and cultural heritage References in popul...\n",
      "1        Society and rights  Social social media stigma COVID-19 parties Ch...\n",
      "2                  Economic  Aviation Airlines Cannabis industry Charitable...\n",
      "3               Information  Journalism Media coverage Misinformation Gover...\n",
      "4                  Politics  National responses Legislation Protests Canada...\n",
      "5                  Language  Doomscrolling Flattening the curve Long-hauler...\n",
      "6                    Others  Animals Anthropause Environment Military Scien...,                                         Health issues  \\\n",
      "0   Medical topics Transmission Symptoms Cancer Sk...   \n",
      "1                                      Medical topics   \n",
      "2                             Testing andepidemiology   \n",
      "3                                          Prevention   \n",
      "4                                            Vaccines   \n",
      "5                                              Topics   \n",
      "6                                          Authorized   \n",
      "7                                                 DNA   \n",
      "8                                         Inactivated   \n",
      "9                                                 RNA   \n",
      "10                                            Subunit   \n",
      "11                                       Viral vector   \n",
      "12                                          In trials   \n",
      "13                                         Attenuated   \n",
      "14                                                DNA   \n",
      "15                                        Inactivated   \n",
      "16                                                RNA   \n",
      "17                                            Subunit   \n",
      "18                                       Viral vector   \n",
      "19                               Virus-like particles   \n",
      "20                              Deploymentby location   \n",
      "21                                             Africa   \n",
      "22                                               Asia   \n",
      "23                                             Europe   \n",
      "24                                      North America   \n",
      "25                                            Oceania   \n",
      "26                                      South America   \n",
      "27                                             Others   \n",
      "28                                          Treatment   \n",
      "29  Drug development Drug repurposing research Dex...   \n",
      "30                              Monoclonal antibodies   \n",
      "31                          Small molecule antivirals   \n",
      "\n",
      "                                      Health issues.1  \n",
      "0   Medical topics Transmission Symptoms Cancer Sk...  \n",
      "1   Transmission Symptoms Cancer Skin manifestatio...  \n",
      "2   Disease testing Breathalyzer Operation Moonsho...  \n",
      "3   Social distancing Face masks Mask refusal Unit...  \n",
      "4   Topics Development Clinical research Authoriza...  \n",
      "5   Development Clinical research Authorizations D...  \n",
      "6   DNA ZyCoV-D Inactivated Chinese Academy of Med...  \n",
      "7                                             ZyCoV-D  \n",
      "8   Chinese Academy of Medical Sciences CoronaVac ...  \n",
      "9                             Moderna Pfizer–BioNTech  \n",
      "10  Abdala COVAX-19 EpiVacCorona MVC Novavax Razi ...  \n",
      "11  Convidecia Janssen Oxford–AstraZeneca Sputnik ...  \n",
      "12  Attenuated COVI-VAC (United States) DNA AG0302...  \n",
      "13                           COVI-VAC (United States)  \n",
      "14                       AG0302-COVID‑19 GX-19 Inovio  \n",
      "15                                   TurkoVac Valneva  \n",
      "16  ARCT-021 ARCT-154 Bangavax CureVac (terminated...  \n",
      "17  202-CoV Corbevax (Bio E COVID-19) EuCorVac-19 ...  \n",
      "18  AdCLD-CoV19 BBV154 BriLife DelNS1-2019-nCoV-RB...  \n",
      "19                                     CoVLP VBI-2902  \n",
      "20  Africa Algeria Angola Benin Botswana Burkina F...  \n",
      "21  Algeria Angola Benin Botswana Burkina Faso Bur...  \n",
      "22  Bangladesh Bhutan Mainland China India Indones...  \n",
      "23  Albania Bosnia and Herzegovina Bulgaria Croati...  \n",
      "24  Canada Quebec Haiti Mexico United States mandates  \n",
      "25                         Australia Fiji New Zealand  \n",
      "26                     Argentina Brazil Colombia Peru  \n",
      "27                                         Antarctica  \n",
      "28  Drug development Drug repurposing research Dex...  \n",
      "29  Drug development Drug repurposing research Dex...  \n",
      "30  Bamlanivimab/etesevimab Bamlanivimab Etesevima...  \n",
      "31             Broad-spectrum Remdesivir Molnupiravir  ,                                                     0  \\\n",
      "0                                      Medical topics   \n",
      "1                             Testing andepidemiology   \n",
      "2                                          Prevention   \n",
      "3                                            Vaccines   \n",
      "4                                              Topics   \n",
      "5                                          Authorized   \n",
      "6                                                 DNA   \n",
      "7                                         Inactivated   \n",
      "8                                                 RNA   \n",
      "9                                             Subunit   \n",
      "10                                       Viral vector   \n",
      "11                                          In trials   \n",
      "12                                         Attenuated   \n",
      "13                                                DNA   \n",
      "14                                        Inactivated   \n",
      "15                                                RNA   \n",
      "16                                            Subunit   \n",
      "17                                       Viral vector   \n",
      "18                               Virus-like particles   \n",
      "19                              Deploymentby location   \n",
      "20                                             Africa   \n",
      "21                                               Asia   \n",
      "22                                             Europe   \n",
      "23                                      North America   \n",
      "24                                            Oceania   \n",
      "25                                      South America   \n",
      "26                                             Others   \n",
      "27                                          Treatment   \n",
      "28  Drug development Drug repurposing research Dex...   \n",
      "29                              Monoclonal antibodies   \n",
      "30                          Small molecule antivirals   \n",
      "\n",
      "                                                    1  \n",
      "0   Transmission Symptoms Cancer Skin manifestatio...  \n",
      "1   Disease testing Breathalyzer Operation Moonsho...  \n",
      "2   Social distancing Face masks Mask refusal Unit...  \n",
      "3   Topics Development Clinical research Authoriza...  \n",
      "4   Development Clinical research Authorizations D...  \n",
      "5   DNA ZyCoV-D Inactivated Chinese Academy of Med...  \n",
      "6                                             ZyCoV-D  \n",
      "7   Chinese Academy of Medical Sciences CoronaVac ...  \n",
      "8                             Moderna Pfizer–BioNTech  \n",
      "9   Abdala COVAX-19 EpiVacCorona MVC Novavax Razi ...  \n",
      "10  Convidecia Janssen Oxford–AstraZeneca Sputnik ...  \n",
      "11  Attenuated COVI-VAC (United States) DNA AG0302...  \n",
      "12                           COVI-VAC (United States)  \n",
      "13                       AG0302-COVID‑19 GX-19 Inovio  \n",
      "14                                   TurkoVac Valneva  \n",
      "15  ARCT-021 ARCT-154 Bangavax CureVac (terminated...  \n",
      "16  202-CoV Corbevax (Bio E COVID-19) EuCorVac-19 ...  \n",
      "17  AdCLD-CoV19 BBV154 BriLife DelNS1-2019-nCoV-RB...  \n",
      "18                                     CoVLP VBI-2902  \n",
      "19  Africa Algeria Angola Benin Botswana Burkina F...  \n",
      "20  Algeria Angola Benin Botswana Burkina Faso Bur...  \n",
      "21  Bangladesh Bhutan Mainland China India Indones...  \n",
      "22  Albania Bosnia and Herzegovina Bulgaria Croati...  \n",
      "23  Canada Quebec Haiti Mexico United States mandates  \n",
      "24                         Australia Fiji New Zealand  \n",
      "25                     Argentina Brazil Colombia Peru  \n",
      "26                                         Antarctica  \n",
      "27  Drug development Drug repurposing research Dex...  \n",
      "28  Drug development Drug repurposing research Dex...  \n",
      "29  Bamlanivimab/etesevimab Bamlanivimab Etesevima...  \n",
      "30             Broad-spectrum Remdesivir Molnupiravir  ,                         0                                                  1\n",
      "0                  Topics  Development Clinical research Authorizations D...\n",
      "1              Authorized  DNA ZyCoV-D Inactivated Chinese Academy of Med...\n",
      "2                     DNA                                            ZyCoV-D\n",
      "3             Inactivated  Chinese Academy of Medical Sciences CoronaVac ...\n",
      "4                     RNA                            Moderna Pfizer–BioNTech\n",
      "5                 Subunit  Abdala COVAX-19 EpiVacCorona MVC Novavax Razi ...\n",
      "6            Viral vector  Convidecia Janssen Oxford–AstraZeneca Sputnik ...\n",
      "7               In trials  Attenuated COVI-VAC (United States) DNA AG0302...\n",
      "8              Attenuated                           COVI-VAC (United States)\n",
      "9                     DNA                       AG0302-COVID‑19 GX-19 Inovio\n",
      "10            Inactivated                                   TurkoVac Valneva\n",
      "11                    RNA  ARCT-021 ARCT-154 Bangavax CureVac (terminated...\n",
      "12                Subunit  202-CoV Corbevax (Bio E COVID-19) EuCorVac-19 ...\n",
      "13           Viral vector  AdCLD-CoV19 BBV154 BriLife DelNS1-2019-nCoV-RB...\n",
      "14   Virus-like particles                                     CoVLP VBI-2902\n",
      "15  Deploymentby location  Africa Algeria Angola Benin Botswana Burkina F...\n",
      "16                 Africa  Algeria Angola Benin Botswana Burkina Faso Bur...\n",
      "17                   Asia  Bangladesh Bhutan Mainland China India Indones...\n",
      "18                 Europe  Albania Bosnia and Herzegovina Bulgaria Croati...\n",
      "19          North America  Canada Quebec Haiti Mexico United States mandates\n",
      "20                Oceania                         Australia Fiji New Zealand\n",
      "21          South America                     Argentina Brazil Colombia Peru\n",
      "22                 Others                                         Antarctica,               0                                                  1\n",
      "0           DNA                                            ZyCoV-D\n",
      "1   Inactivated  Chinese Academy of Medical Sciences CoronaVac ...\n",
      "2           RNA                            Moderna Pfizer–BioNTech\n",
      "3       Subunit  Abdala COVAX-19 EpiVacCorona MVC Novavax Razi ...\n",
      "4  Viral vector  Convidecia Janssen Oxford–AstraZeneca Sputnik ...,                       0                                                  1\n",
      "0            Attenuated                           COVI-VAC (United States)\n",
      "1                   DNA                       AG0302-COVID‑19 GX-19 Inovio\n",
      "2           Inactivated                                   TurkoVac Valneva\n",
      "3                   RNA  ARCT-021 ARCT-154 Bangavax CureVac (terminated...\n",
      "4               Subunit  202-CoV Corbevax (Bio E COVID-19) EuCorVac-19 ...\n",
      "5          Viral vector  AdCLD-CoV19 BBV154 BriLife DelNS1-2019-nCoV-RB...\n",
      "6  Virus-like particles                                     CoVLP VBI-2902,                0                                                  1\n",
      "0         Africa  Algeria Angola Benin Botswana Burkina Faso Bur...\n",
      "1           Asia  Bangladesh Bhutan Mainland China India Indones...\n",
      "2         Europe  Albania Bosnia and Herzegovina Bulgaria Croati...\n",
      "3  North America  Canada Quebec Haiti Mexico United States mandates\n",
      "4        Oceania                         Australia Fiji New Zealand\n",
      "5  South America                     Argentina Brazil Colombia Peru\n",
      "6         Others                                         Antarctica,                                                    0  \\\n",
      "0  Drug development Drug repurposing research Dex...   \n",
      "1                              Monoclonal antibodies   \n",
      "2                          Small molecule antivirals   \n",
      "\n",
      "                                                   1  \n",
      "0  Drug development Drug repurposing research Dex...  \n",
      "1  Bamlanivimab/etesevimab Bamlanivimab Etesevima...  \n",
      "2             Broad-spectrum Remdesivir Molnupiravir  ,                                             Variants  \\\n",
      "0  Alpha Beta Gamma Delta Epsilon Zeta Eta Theta ...   \n",
      "\n",
      "                                          Variants.1  \n",
      "0  Alpha Beta Gamma Delta Epsilon Zeta Eta Theta ...  ,                                         Institutions  \\\n",
      "0  Hospitals andmedical clinicsMainland China Cen...   \n",
      "1                       Hospitals andmedical clinics   \n",
      "2                                     Mainland China   \n",
      "3                                             Others   \n",
      "4                                      Organizations   \n",
      "5                                             Global   \n",
      "6                                        By location   \n",
      "\n",
      "                                      Institutions.1  \n",
      "0  Hospitals andmedical clinicsMainland China Cen...  \n",
      "1  Mainland China Central Hospital of Wuhan Dabie...  \n",
      "2  Central Hospital of Wuhan Dabie Mountain Regio...  \n",
      "3  Hospital ships Canberra Coronavirus Field Hosp...  \n",
      "4  Global Coalition for Epidemic Preparedness Inn...  \n",
      "5  Coalition for Epidemic Preparedness Innovation...  \n",
      "6  Africa Centres for Disease Control and Prevent...  ,                               0  \\\n",
      "0  Hospitals andmedical clinics   \n",
      "1                Mainland China   \n",
      "2                        Others   \n",
      "3                 Organizations   \n",
      "4                        Global   \n",
      "5                   By location   \n",
      "\n",
      "                                                   1  \n",
      "0  Mainland China Central Hospital of Wuhan Dabie...  \n",
      "1  Central Hospital of Wuhan Dabie Mountain Regio...  \n",
      "2  Hospital ships Canberra Coronavirus Field Hosp...  \n",
      "3  Global Coalition for Epidemic Preparedness Inn...  \n",
      "4  Coalition for Epidemic Preparedness Innovation...  \n",
      "5  Africa Centres for Disease Control and Prevent...  ,                 0                                                  1\n",
      "0  Mainland China  Central Hospital of Wuhan Dabie Mountain Regio...\n",
      "1          Others  Hospital ships Canberra Coronavirus Field Hosp...,              0                                                  1\n",
      "0       Global  Coalition for Epidemic Preparedness Innovation...\n",
      "1  By location  Africa Centres for Disease Control and Prevent...,                                               People  \\\n",
      "0  Medicalprofessionals Ai Fen Corona Rintawan Li...   \n",
      "1                               Medicalprofessionals   \n",
      "2                                        Researchers   \n",
      "3                                          Officials   \n",
      "4                                                WHO   \n",
      "5                                        By location   \n",
      "6                                             Others   \n",
      "7                                             Deaths   \n",
      "\n",
      "                                            People.1  \n",
      "0  Medicalprofessionals Ai Fen Corona Rintawan Li...  \n",
      "1  Ai Fen Corona Rintawan Li Wenliang Liu Wen Xie...  \n",
      "2  Awang Bulgiba Awang Mahmud Roberto Burioni Che...  \n",
      "3  WHO Tedros Adhanom (Director-General of the WH...  \n",
      "4  Tedros Adhanom (Director-General of the WHO) B...  \n",
      "5  Frank Atherton (Wales) Ashley Bloomfield (New ...  \n",
      "6  Chen Qiushi Brett Crozier Fang Bin Fang Fang J...  \n",
      "7                                               List  ,                       0                                                  1\n",
      "0  Medicalprofessionals  Ai Fen Corona Rintawan Li Wenliang Liu Wen Xie...\n",
      "1           Researchers  Awang Bulgiba Awang Mahmud Roberto Burioni Che...\n",
      "2             Officials  WHO Tedros Adhanom (Director-General of the WH...\n",
      "3                   WHO  Tedros Adhanom (Director-General of the WHO) B...\n",
      "4           By location  Frank Atherton (Wales) Ashley Bloomfield (New ...\n",
      "5                Others  Chen Qiushi Brett Crozier Fang Bin Fang Fang J...\n",
      "6                Deaths                                               List,              0                                                  1\n",
      "0          WHO  Tedros Adhanom (Director-General of the WHO) B...\n",
      "1  By location  Frank Atherton (Wales) Ashley Bloomfield (New ...,                                     Data (templates)  \\\n",
      "0  Global Cases, deaths, recoveries by country Te...   \n",
      "1                                             Global   \n",
      "2                                             Africa   \n",
      "3                                           Americas   \n",
      "4                                               Asia   \n",
      "5                                      Europe(chart)   \n",
      "6                                            Oceania   \n",
      "7                                             Others   \n",
      "\n",
      "                                  Data (templates).1  \n",
      "0  Global Cases, deaths, recoveries by country Te...  \n",
      "1  Cases, deaths, recoveries by country Tests, ca...  \n",
      "2  Algeria chart Angola chart Benin chart Botswan...  \n",
      "3  Argentina chart Bolivia chart Brazil chart Can...  \n",
      "4  Afghanistan chart Armenia chart Azerbaijan cha...  \n",
      "5  Albania chart Austria chart Belarus chart Belg...  \n",
      "6  Australia chart by state/territory Fiji chart ...  \n",
      "7                      Cruise ships Diamond Princess  ,                0                                                  1\n",
      "0         Global  Cases, deaths, recoveries by country Tests, ca...\n",
      "1         Africa  Algeria chart Angola chart Benin chart Botswan...\n",
      "2       Americas  Argentina chart Bolivia chart Brazil chart Can...\n",
      "3           Asia  Afghanistan chart Armenia chart Azerbaijan cha...\n",
      "4  Europe(chart)  Albania chart Austria chart Belarus chart Belg...\n",
      "5        Oceania  Australia chart by state/territory Fiji chart ...\n",
      "6         Others                      Cruise ships Diamond Princess]\n"
     ]
    }
   ],
   "source": [
    "x = pd.read_html('https://en.wikipedia.org/wiki/COVID-19_datasets')\n",
    "print(x)"
   ]
  },
  {
   "cell_type": "code",
   "execution_count": null,
   "id": "ceef8505-f041-49ec-92ce-62af9b0287aa",
   "metadata": {},
   "outputs": [],
   "source": [
    "# read json file and save it in another json file"
   ]
  },
  {
   "cell_type": "code",
   "execution_count": null,
   "id": "06a94243-67b4-4f1a-a038-54cd3d120ccf",
   "metadata": {},
   "outputs": [],
   "source": [
    "# read csv file and save it in another csv file"
   ]
  },
  {
   "cell_type": "code",
   "execution_count": null,
   "id": "cc9dd17e-d498-4e66-9d60-76040f87d579",
   "metadata": {},
   "outputs": [],
   "source": [
    "# read html file(web) and access tables from that and dhow the data"
   ]
  },
  {
   "cell_type": "code",
   "execution_count": null,
   "id": "5c353ce0-43c7-4c8c-b57e-28daa6904300",
   "metadata": {},
   "outputs": [],
   "source": [
    "# save above read table into another html file"
   ]
  },
  {
   "cell_type": "markdown",
   "id": "605729fd-5481-45d1-9152-a7ef5d866abc",
   "metadata": {},
   "source": []
  },
  {
   "cell_type": "markdown",
   "id": "865eddb1-d637-4eb9-9c6d-8babc4bb13a4",
   "metadata": {},
   "source": []
  },
  {
   "cell_type": "markdown",
   "id": "e3bcea3f-be44-483b-a87c-7e585c19cb63",
   "metadata": {},
   "source": []
  },
  {
   "cell_type": "markdown",
   "id": "f70cbc21-dbdf-4c42-bbfd-ce1fc6f43c86",
   "metadata": {},
   "source": []
  },
  {
   "cell_type": "markdown",
   "id": "4ed0e41a-58a5-4d08-a4ae-73b3e165192f",
   "metadata": {},
   "source": []
  }
 ],
 "metadata": {
  "kernelspec": {
   "display_name": "Python 3 (ipykernel)",
   "language": "python",
   "name": "python3"
  },
  "language_info": {
   "codemirror_mode": {
    "name": "ipython",
    "version": 3
   },
   "file_extension": ".py",
   "mimetype": "text/x-python",
   "name": "python",
   "nbconvert_exporter": "python",
   "pygments_lexer": "ipython3",
   "version": "3.8.10"
  }
 },
 "nbformat": 4,
 "nbformat_minor": 5
}
