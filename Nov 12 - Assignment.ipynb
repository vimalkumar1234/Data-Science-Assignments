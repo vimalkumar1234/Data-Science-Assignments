{
 "cells": [
  {
   "cell_type": "markdown",
   "id": "56c61a21",
   "metadata": {},
   "source": [
    "# Matrices"
   ]
  },
  {
   "cell_type": "code",
   "execution_count": 2,
   "id": "e6f4cc02",
   "metadata": {},
   "outputs": [],
   "source": [
    "import numpy as np"
   ]
  },
  {
   "cell_type": "markdown",
   "id": "909a82df",
   "metadata": {},
   "source": [
    "# Question-1"
   ]
  },
  {
   "cell_type": "markdown",
   "id": "353b6e68",
   "metadata": {},
   "source": [
    "Question1- If A=[1 2 3,2 3 -1,-3 1 2]\n",
    "                     B=[1 0 2,0 1 2,1 2 0] these both are 3*3 matrix, obtain the product AB and\n",
    "                     BA and show that AB is not equal to BA.\n"
   ]
  },
  {
   "cell_type": "code",
   "execution_count": 5,
   "id": "efe814ac",
   "metadata": {},
   "outputs": [
    {
     "data": {
      "text/plain": [
       "array([[ 1,  2,  3],\n",
       "       [ 2,  3, -1],\n",
       "       [-3,  1,  2]])"
      ]
     },
     "execution_count": 5,
     "metadata": {},
     "output_type": "execute_result"
    }
   ],
   "source": [
    "A = np.array([[1,2,3],[2,3,-1],[-3,1,2]])\n",
    "A"
   ]
  },
  {
   "cell_type": "code",
   "execution_count": 8,
   "id": "b6258714",
   "metadata": {},
   "outputs": [
    {
     "data": {
      "text/plain": [
       "array([[1, 0, 2],\n",
       "       [0, 1, 2],\n",
       "       [1, 2, 0]])"
      ]
     },
     "execution_count": 8,
     "metadata": {},
     "output_type": "execute_result"
    }
   ],
   "source": [
    "B=np.array([[1, 0, 2],[0, 1, 2],[1, 2, 0]])\n",
    "B"
   ]
  },
  {
   "cell_type": "code",
   "execution_count": 10,
   "id": "c8db09e9",
   "metadata": {},
   "outputs": [
    {
     "data": {
      "text/plain": [
       "array([[ 4,  8,  6],\n",
       "       [ 1,  1, 10],\n",
       "       [-1,  5, -4]])"
      ]
     },
     "execution_count": 10,
     "metadata": {},
     "output_type": "execute_result"
    }
   ],
   "source": [
    "AB = np.dot(A,B)\n",
    "AB"
   ]
  },
  {
   "cell_type": "code",
   "execution_count": 11,
   "id": "26f66d8d",
   "metadata": {},
   "outputs": [
    {
     "data": {
      "text/plain": [
       "array([[-5,  4,  7],\n",
       "       [-4,  5,  3],\n",
       "       [ 5,  8,  1]])"
      ]
     },
     "execution_count": 11,
     "metadata": {},
     "output_type": "execute_result"
    }
   ],
   "source": [
    "BA = np.dot(B,A)\n",
    "BA"
   ]
  },
  {
   "cell_type": "code",
   "execution_count": 16,
   "id": "249341bf",
   "metadata": {},
   "outputs": [
    {
     "data": {
      "text/plain": [
       "False"
      ]
     },
     "execution_count": 16,
     "metadata": {},
     "output_type": "execute_result"
    }
   ],
   "source": [
    "check = (AB == BA).all()\n",
    "check"
   ]
  },
  {
   "cell_type": "code",
   "execution_count": 17,
   "id": "602cf62b",
   "metadata": {},
   "outputs": [
    {
     "name": "stdout",
     "output_type": "stream",
     "text": [
      "AB and BA are not Equal\n"
     ]
    }
   ],
   "source": [
    "if check == 'True':\n",
    "    print('AB and BA are Equal')\n",
    "else:\n",
    "    print('AB and BA are not Equal')"
   ]
  },
  {
   "cell_type": "markdown",
   "id": "648d4bd2",
   "metadata": {},
   "source": [
    "# Question - 2"
   ]
  },
  {
   "cell_type": "markdown",
   "id": "96dff254",
   "metadata": {},
   "source": [
    "Question2-If A=[3 1,-1 2] is 2*2 matrix, show that (A*A) - 5A + 7 = 0.\n"
   ]
  },
  {
   "cell_type": "code",
   "execution_count": 18,
   "id": "4cbcb67d",
   "metadata": {},
   "outputs": [
    {
     "data": {
      "text/plain": [
       "array([[ 3,  1],\n",
       "       [-1,  2]])"
      ]
     },
     "execution_count": 18,
     "metadata": {},
     "output_type": "execute_result"
    }
   ],
   "source": [
    "A=np.array([[3,1],[-1 ,2]])\n",
    "A"
   ]
  },
  {
   "cell_type": "code",
   "execution_count": 20,
   "id": "6979297a",
   "metadata": {},
   "outputs": [
    {
     "data": {
      "text/plain": [
       "array([[ 8,  5],\n",
       "       [-5,  3]])"
      ]
     },
     "execution_count": 20,
     "metadata": {},
     "output_type": "execute_result"
    }
   ],
   "source": [
    "AA = np.dot(A,A)\n",
    "AA"
   ]
  },
  {
   "cell_type": "code",
   "execution_count": 22,
   "id": "86b5bb72",
   "metadata": {},
   "outputs": [
    {
     "data": {
      "text/plain": [
       "array([[15,  5],\n",
       "       [-5, 10]])"
      ]
     },
     "execution_count": 22,
     "metadata": {},
     "output_type": "execute_result"
    }
   ],
   "source": [
    "_5A = np.dot(5,A)\n",
    "_5A"
   ]
  },
  {
   "cell_type": "code",
   "execution_count": 23,
   "id": "e463b31f",
   "metadata": {},
   "outputs": [
    {
     "data": {
      "text/plain": [
       "array([[1, 0],\n",
       "       [0, 1]])"
      ]
     },
     "execution_count": 23,
     "metadata": {},
     "output_type": "execute_result"
    }
   ],
   "source": [
    "I = np.array([[1,0],[0,1]])\n",
    "I"
   ]
  },
  {
   "cell_type": "code",
   "execution_count": 24,
   "id": "4a723054",
   "metadata": {},
   "outputs": [
    {
     "data": {
      "text/plain": [
       "array([[7, 0],\n",
       "       [0, 7]])"
      ]
     },
     "execution_count": 24,
     "metadata": {},
     "output_type": "execute_result"
    }
   ],
   "source": [
    "_7I = np.dot(7,I)\n",
    "_7I"
   ]
  },
  {
   "cell_type": "code",
   "execution_count": 26,
   "id": "26375df9",
   "metadata": {},
   "outputs": [
    {
     "data": {
      "text/plain": [
       "array([[-7,  0],\n",
       "       [ 0, -7]])"
      ]
     },
     "execution_count": 26,
     "metadata": {},
     "output_type": "execute_result"
    }
   ],
   "source": [
    "AA_5A = np.subtract(AA,_5A)\n",
    "AA_5A"
   ]
  },
  {
   "cell_type": "code",
   "execution_count": 27,
   "id": "c370fed5",
   "metadata": {},
   "outputs": [
    {
     "data": {
      "text/plain": [
       "array([[0, 0],\n",
       "       [0, 0]])"
      ]
     },
     "execution_count": 27,
     "metadata": {},
     "output_type": "execute_result"
    }
   ],
   "source": [
    "AA_5A_7 = np.add(AA_5A,_7I)\n",
    "AA_5A_7"
   ]
  },
  {
   "cell_type": "markdown",
   "id": "142a0009",
   "metadata": {},
   "source": [
    "# Question-3"
   ]
  },
  {
   "cell_type": "markdown",
   "id": "cf96f68d",
   "metadata": {},
   "source": [
    "Question3-If A=[3 2 1,-5 0 6] and B=[-4 -5 -2, 3 1 8], verify that (A+B)’=A’+B’\n",
    "                  (where A’ means transpose of A).\n"
   ]
  },
  {
   "cell_type": "code",
   "execution_count": 29,
   "id": "0015f5ad",
   "metadata": {},
   "outputs": [
    {
     "data": {
      "text/plain": [
       "array([[ 3,  2,  1],\n",
       "       [-5,  0,  6]])"
      ]
     },
     "execution_count": 29,
     "metadata": {},
     "output_type": "execute_result"
    }
   ],
   "source": [
    "A=np.array([[3, 2, 1],[-5, 0 ,6]])\n",
    "A"
   ]
  },
  {
   "cell_type": "code",
   "execution_count": 30,
   "id": "bb5bd48a",
   "metadata": {},
   "outputs": [
    {
     "data": {
      "text/plain": [
       "array([[-4, -5, -2],\n",
       "       [ 3,  1,  8]])"
      ]
     },
     "execution_count": 30,
     "metadata": {},
     "output_type": "execute_result"
    }
   ],
   "source": [
    "B=np.array([[-4, -5, -2],[ 3, 1, 8]])\n",
    "B"
   ]
  },
  {
   "cell_type": "code",
   "execution_count": 31,
   "id": "82d95593",
   "metadata": {},
   "outputs": [
    {
     "data": {
      "text/plain": [
       "array([[-1, -3, -1],\n",
       "       [-2,  1, 14]])"
      ]
     },
     "execution_count": 31,
     "metadata": {},
     "output_type": "execute_result"
    }
   ],
   "source": [
    "A_B = np.add(A,B)\n",
    "A_B"
   ]
  },
  {
   "cell_type": "code",
   "execution_count": 32,
   "id": "316dbb6e",
   "metadata": {},
   "outputs": [
    {
     "data": {
      "text/plain": [
       "array([[-1, -2],\n",
       "       [-3,  1],\n",
       "       [-1, 14]])"
      ]
     },
     "execution_count": 32,
     "metadata": {},
     "output_type": "execute_result"
    }
   ],
   "source": [
    "A_B_transpose = np.transpose(A_B)\n",
    "A_B_transpose"
   ]
  },
  {
   "cell_type": "code",
   "execution_count": 33,
   "id": "8b3aa706",
   "metadata": {},
   "outputs": [
    {
     "data": {
      "text/plain": [
       "array([[ 3, -5],\n",
       "       [ 2,  0],\n",
       "       [ 1,  6]])"
      ]
     },
     "execution_count": 33,
     "metadata": {},
     "output_type": "execute_result"
    }
   ],
   "source": [
    "A_transpose = np.transpose(A)\n",
    "A_transpose"
   ]
  },
  {
   "cell_type": "code",
   "execution_count": 34,
   "id": "756df514",
   "metadata": {},
   "outputs": [
    {
     "data": {
      "text/plain": [
       "array([[-4,  3],\n",
       "       [-5,  1],\n",
       "       [-2,  8]])"
      ]
     },
     "execution_count": 34,
     "metadata": {},
     "output_type": "execute_result"
    }
   ],
   "source": [
    "B_transpose = np.transpose(B)\n",
    "B_transpose"
   ]
  },
  {
   "cell_type": "code",
   "execution_count": 35,
   "id": "24771438",
   "metadata": {},
   "outputs": [
    {
     "data": {
      "text/plain": [
       "array([[-1, -2],\n",
       "       [-3,  1],\n",
       "       [-1, 14]])"
      ]
     },
     "execution_count": 35,
     "metadata": {},
     "output_type": "execute_result"
    }
   ],
   "source": [
    "AB_transpose = np.add(A_transpose,B_transpose)\n",
    "AB_transpose"
   ]
  },
  {
   "cell_type": "code",
   "execution_count": 38,
   "id": "71458514",
   "metadata": {},
   "outputs": [
    {
     "data": {
      "text/plain": [
       "True"
      ]
     },
     "execution_count": 38,
     "metadata": {},
     "output_type": "execute_result"
    }
   ],
   "source": [
    "compare = (A_B_transpose == AB_transpose).all()\n",
    "compare"
   ]
  },
  {
   "cell_type": "markdown",
   "id": "87eb52e1",
   "metadata": {},
   "source": [
    "# Question-4"
   ]
  },
  {
   "cell_type": "markdown",
   "id": "fdc87311",
   "metadata": {},
   "source": [
    "\n",
    "Question4- If A=[3 -4,1 -1], show that A - A’ is skewsymmetric, where A’ is the transpose                                   \n",
    "                   of  A. \n"
   ]
  },
  {
   "cell_type": "code",
   "execution_count": 39,
   "id": "097fd556",
   "metadata": {},
   "outputs": [
    {
     "data": {
      "text/plain": [
       "array([[ 3, -4],\n",
       "       [ 1, -1]])"
      ]
     },
     "execution_count": 39,
     "metadata": {},
     "output_type": "execute_result"
    }
   ],
   "source": [
    "A = np.array([[3,-4],[1,-1]])\n",
    "A"
   ]
  },
  {
   "cell_type": "code",
   "execution_count": 41,
   "id": "75ad5fb2",
   "metadata": {},
   "outputs": [
    {
     "data": {
      "text/plain": [
       "array([[ 3,  1],\n",
       "       [-4, -1]])"
      ]
     },
     "execution_count": 41,
     "metadata": {},
     "output_type": "execute_result"
    }
   ],
   "source": [
    "A_transpose = np.transpose(A)\n",
    "A_transpose"
   ]
  },
  {
   "cell_type": "code",
   "execution_count": 43,
   "id": "80f30d5d",
   "metadata": {},
   "outputs": [
    {
     "data": {
      "text/plain": [
       "array([[ 0, -5],\n",
       "       [ 5,  0]])"
      ]
     },
     "execution_count": 43,
     "metadata": {},
     "output_type": "execute_result"
    }
   ],
   "source": [
    "A_A_trans = np.subtract(A,A_transpose)\n",
    "A_A_trans"
   ]
  },
  {
   "cell_type": "code",
   "execution_count": 44,
   "id": "8cb16e30",
   "metadata": {},
   "outputs": [
    {
     "data": {
      "text/plain": [
       "array([[ 0,  5],\n",
       "       [-5,  0]])"
      ]
     },
     "execution_count": 44,
     "metadata": {},
     "output_type": "execute_result"
    }
   ],
   "source": [
    "skew_symmetric = np.dot(-1,A_A_trans)\n",
    "skew_symmetric"
   ]
  },
  {
   "cell_type": "markdown",
   "id": "6d1ddb16",
   "metadata": {},
   "source": [
    "# Question-5"
   ]
  },
  {
   "cell_type": "markdown",
   "id": "1b98e91d",
   "metadata": {},
   "source": [
    "If A=[5 7 3,1 2 6,1 4 3]\n",
    "                     B=[1 2 0,4 0 5,0 3 2] these both are 3*3 matrix, then verify that (AB)’=B’A’\n"
   ]
  },
  {
   "cell_type": "code",
   "execution_count": 45,
   "id": "a7e20008",
   "metadata": {},
   "outputs": [
    {
     "data": {
      "text/plain": [
       "array([[5, 7, 3],\n",
       "       [1, 2, 6],\n",
       "       [1, 4, 3]])"
      ]
     },
     "execution_count": 45,
     "metadata": {},
     "output_type": "execute_result"
    }
   ],
   "source": [
    "A=np.array([[5, 7, 3],[1, 2, 6],[1, 4, 3]])\n",
    "A"
   ]
  },
  {
   "cell_type": "code",
   "execution_count": 46,
   "id": "5bded99f",
   "metadata": {},
   "outputs": [
    {
     "data": {
      "text/plain": [
       "array([[1, 2, 0],\n",
       "       [4, 0, 5],\n",
       "       [0, 3, 2]])"
      ]
     },
     "execution_count": 46,
     "metadata": {},
     "output_type": "execute_result"
    }
   ],
   "source": [
    "B=np.array([[1 ,2, 0],[4, 0, 5],[0, 3, 2]])\n",
    "B"
   ]
  },
  {
   "cell_type": "code",
   "execution_count": 47,
   "id": "0ece8f0d",
   "metadata": {},
   "outputs": [
    {
     "data": {
      "text/plain": [
       "array([[33, 19, 41],\n",
       "       [ 9, 20, 22],\n",
       "       [17, 11, 26]])"
      ]
     },
     "execution_count": 47,
     "metadata": {},
     "output_type": "execute_result"
    }
   ],
   "source": [
    "AB = np.dot(A,B)\n",
    "AB"
   ]
  },
  {
   "cell_type": "code",
   "execution_count": 48,
   "id": "0ce31ef9",
   "metadata": {},
   "outputs": [
    {
     "data": {
      "text/plain": [
       "array([[33,  9, 17],\n",
       "       [19, 20, 11],\n",
       "       [41, 22, 26]])"
      ]
     },
     "execution_count": 48,
     "metadata": {},
     "output_type": "execute_result"
    }
   ],
   "source": [
    "AB_trans = np.transpose(AB)\n",
    "AB_trans"
   ]
  },
  {
   "cell_type": "code",
   "execution_count": 51,
   "id": "186b9ba6",
   "metadata": {},
   "outputs": [
    {
     "data": {
      "text/plain": [
       "array([[5, 1, 1],\n",
       "       [7, 2, 4],\n",
       "       [3, 6, 3]])"
      ]
     },
     "execution_count": 51,
     "metadata": {},
     "output_type": "execute_result"
    }
   ],
   "source": [
    "A_trans = np.transpose(A)\n",
    "A_trans"
   ]
  },
  {
   "cell_type": "code",
   "execution_count": 52,
   "id": "71d29c3a",
   "metadata": {},
   "outputs": [
    {
     "data": {
      "text/plain": [
       "array([[1, 4, 0],\n",
       "       [2, 0, 3],\n",
       "       [0, 5, 2]])"
      ]
     },
     "execution_count": 52,
     "metadata": {},
     "output_type": "execute_result"
    }
   ],
   "source": [
    "B_trans = np.transpose(B)\n",
    "B_trans"
   ]
  },
  {
   "cell_type": "code",
   "execution_count": 53,
   "id": "7fbda7b6",
   "metadata": {},
   "outputs": [
    {
     "data": {
      "text/plain": [
       "array([[33,  9, 17],\n",
       "       [19, 20, 11],\n",
       "       [41, 22, 26]])"
      ]
     },
     "execution_count": 53,
     "metadata": {},
     "output_type": "execute_result"
    }
   ],
   "source": [
    "BA_trans = np.dot(B_trans,A_trans)\n",
    "BA_trans"
   ]
  },
  {
   "cell_type": "code",
   "execution_count": 54,
   "id": "d37df4e2",
   "metadata": {},
   "outputs": [
    {
     "data": {
      "text/plain": [
       "True"
      ]
     },
     "execution_count": 54,
     "metadata": {},
     "output_type": "execute_result"
    }
   ],
   "source": [
    "compare = (AB_trans == BA_trans).all()\n",
    "compare"
   ]
  },
  {
   "cell_type": "markdown",
   "id": "b4e27185",
   "metadata": {},
   "source": [
    "# Question-6"
   ]
  },
  {
   "cell_type": "markdown",
   "id": "36a4b218",
   "metadata": {},
   "source": [
    "Question6-  find the inverse of A=[2 -1 1,3 0 -1,2 6 0]. Verify that A*A(inverse)= I  \n",
    "                   (identity matrices of order 3*3)\n",
    "\n"
   ]
  },
  {
   "cell_type": "code",
   "execution_count": 56,
   "id": "0ea494cf",
   "metadata": {},
   "outputs": [
    {
     "data": {
      "text/plain": [
       "array([[ 2, -1,  1],\n",
       "       [ 3,  0, -1],\n",
       "       [ 2,  6,  0]])"
      ]
     },
     "execution_count": 56,
     "metadata": {},
     "output_type": "execute_result"
    }
   ],
   "source": [
    "A = np.array([[2,-1,1],[3,0,-1],[2,6,0]])\n",
    "A"
   ]
  },
  {
   "cell_type": "code",
   "execution_count": 57,
   "id": "1f3ac51c",
   "metadata": {},
   "outputs": [
    {
     "data": {
      "text/plain": [
       "array([[ 0.1875 ,  0.1875 ,  0.03125],\n",
       "       [-0.0625 , -0.0625 ,  0.15625],\n",
       "       [ 0.5625 , -0.4375 ,  0.09375]])"
      ]
     },
     "execution_count": 57,
     "metadata": {},
     "output_type": "execute_result"
    }
   ],
   "source": [
    "A_inv = np.linalg.inv(A)\n",
    "A_inv"
   ]
  },
  {
   "cell_type": "code",
   "execution_count": 59,
   "id": "0a8e6dcb",
   "metadata": {},
   "outputs": [
    {
     "data": {
      "text/plain": [
       "array([[1., 0., 0.],\n",
       "       [0., 1., 0.],\n",
       "       [0., 0., 1.]])"
      ]
     },
     "execution_count": 59,
     "metadata": {},
     "output_type": "execute_result"
    }
   ],
   "source": [
    "I = np.identity(3)\n",
    "I"
   ]
  },
  {
   "cell_type": "code",
   "execution_count": 60,
   "id": "839a72b5",
   "metadata": {},
   "outputs": [
    {
     "data": {
      "text/plain": [
       "array([[1.00000000e+00, 5.55111512e-17, 0.00000000e+00],\n",
       "       [0.00000000e+00, 1.00000000e+00, 0.00000000e+00],\n",
       "       [0.00000000e+00, 0.00000000e+00, 1.00000000e+00]])"
      ]
     },
     "execution_count": 60,
     "metadata": {},
     "output_type": "execute_result"
    }
   ],
   "source": [
    "A_A_inv = np.dot(A,A_inv)\n",
    "A_A_inv"
   ]
  },
  {
   "cell_type": "code",
   "execution_count": 64,
   "id": "b9ac3d15",
   "metadata": {},
   "outputs": [
    {
     "data": {
      "text/plain": [
       "array([[1., 0., 0.],\n",
       "       [0., 1., 0.],\n",
       "       [0., 0., 1.]])"
      ]
     },
     "execution_count": 64,
     "metadata": {},
     "output_type": "execute_result"
    }
   ],
   "source": [
    "A_A_inv = np.round_(A_A_inv, decimals = 3)\n",
    "A_A_inv"
   ]
  },
  {
   "cell_type": "code",
   "execution_count": 65,
   "id": "d8619972",
   "metadata": {},
   "outputs": [
    {
     "data": {
      "text/plain": [
       "True"
      ]
     },
     "execution_count": 65,
     "metadata": {},
     "output_type": "execute_result"
    }
   ],
   "source": [
    "com = (A_A_inv == I).all()\n",
    "com"
   ]
  },
  {
   "cell_type": "markdown",
   "id": "b116280f",
   "metadata": {},
   "source": [
    "# Question-7"
   ]
  },
  {
   "cell_type": "markdown",
   "id": "054cc9ba",
   "metadata": {},
   "source": [
    "Question7- Verify that (inverse of AB) = (inverse of B)*(inverse of A) for the matrices A=[2 1,\n",
    "                   5 3] and B=[4 5,3 4]"
   ]
  },
  {
   "cell_type": "code",
   "execution_count": 66,
   "id": "d00eb40a",
   "metadata": {},
   "outputs": [
    {
     "data": {
      "text/plain": [
       "array([[2, 1],\n",
       "       [5, 3]])"
      ]
     },
     "execution_count": 66,
     "metadata": {},
     "output_type": "execute_result"
    }
   ],
   "source": [
    "A=np.array([[2, 1],[ 5, 3]])\n",
    "A"
   ]
  },
  {
   "cell_type": "code",
   "execution_count": 67,
   "id": "d58aa6f2",
   "metadata": {},
   "outputs": [
    {
     "data": {
      "text/plain": [
       "array([[4, 5],\n",
       "       [3, 4]])"
      ]
     },
     "execution_count": 67,
     "metadata": {},
     "output_type": "execute_result"
    }
   ],
   "source": [
    "B = np.array([[4 ,5],[3, 4]])\n",
    "B"
   ]
  },
  {
   "cell_type": "code",
   "execution_count": 68,
   "id": "e2e9819a",
   "metadata": {},
   "outputs": [],
   "source": [
    "inv_A = np.linalg.inv(A)\n",
    "inv_B = np.linalg.inv(B)"
   ]
  },
  {
   "cell_type": "code",
   "execution_count": 69,
   "id": "a37b9915",
   "metadata": {},
   "outputs": [
    {
     "data": {
      "text/plain": [
       "array([[11, 14],\n",
       "       [29, 37]])"
      ]
     },
     "execution_count": 69,
     "metadata": {},
     "output_type": "execute_result"
    }
   ],
   "source": [
    "AB = np.dot(A,B)\n",
    "AB"
   ]
  },
  {
   "cell_type": "code",
   "execution_count": 74,
   "id": "909d71b5",
   "metadata": {},
   "outputs": [
    {
     "data": {
      "text/plain": [
       "array([[ 37., -14.],\n",
       "       [-29.,  11.]])"
      ]
     },
     "execution_count": 74,
     "metadata": {},
     "output_type": "execute_result"
    }
   ],
   "source": [
    "inv_AB = np.linalg.inv(AB)\n",
    "inv_AB = np.round(inv_AB,decimals=0)\n",
    "inv_AB"
   ]
  },
  {
   "cell_type": "code",
   "execution_count": 77,
   "id": "bb0949dd",
   "metadata": {},
   "outputs": [
    {
     "data": {
      "text/plain": [
       "array([[ 37., -14.],\n",
       "       [-29.,  11.]])"
      ]
     },
     "execution_count": 77,
     "metadata": {},
     "output_type": "execute_result"
    }
   ],
   "source": [
    "B_A_inv = np.dot(inv_B,inv_A)\n",
    "B_A_inv = np.round(B_A_inv,decimals=0)\n",
    "\n",
    "B_A_inv"
   ]
  },
  {
   "cell_type": "code",
   "execution_count": 78,
   "id": "c0e8ac1b",
   "metadata": {},
   "outputs": [
    {
     "data": {
      "text/plain": [
       "True"
      ]
     },
     "execution_count": 78,
     "metadata": {},
     "output_type": "execute_result"
    }
   ],
   "source": [
    "com = (inv_AB == B_A_inv).all()\n",
    "com"
   ]
  },
  {
   "cell_type": "markdown",
   "id": "f489b6f5",
   "metadata": {},
   "source": [
    "# Statistics "
   ]
  },
  {
   "cell_type": "markdown",
   "id": "e6f58be4",
   "metadata": {},
   "source": [
    "# Question -1"
   ]
  },
  {
   "cell_type": "markdown",
   "id": "11b537f9",
   "metadata": {},
   "source": [
    "Question1-\n",
    " Suppose that the data for analysis includes the attribute age. The age values for the data  are (in increasing order) 13, 15, 16, 16, 19, 20, 20, 21, 22, 22, 25, 25, 25, 25, 30, 33, 33, 35, 35, 35, 35, 36, 40, 45, 46, 52, 70.\n",
    " (a) What is the mean of the data? What is the median? \n",
    " (b) What is the mode of the data?\n",
    " (c) What is the range of the data? \n",
    "(d) Can you find the first quartile (Q1) and the third quartile (Q3) of the data?\n"
   ]
  },
  {
   "cell_type": "code",
   "execution_count": 79,
   "id": "3ba35575",
   "metadata": {},
   "outputs": [],
   "source": [
    "age = [13, 15, 16, 16, 19, 20, 20, 21, 22, 22, 25, 25, 25, 25, 30, 33, 33, 35, 35, 35, 35, 36, 40, 45, 46, 52, 70]"
   ]
  },
  {
   "cell_type": "code",
   "execution_count": 80,
   "id": "526a0375",
   "metadata": {},
   "outputs": [
    {
     "data": {
      "text/plain": [
       "[13,\n",
       " 15,\n",
       " 16,\n",
       " 16,\n",
       " 19,\n",
       " 20,\n",
       " 20,\n",
       " 21,\n",
       " 22,\n",
       " 22,\n",
       " 25,\n",
       " 25,\n",
       " 25,\n",
       " 25,\n",
       " 30,\n",
       " 33,\n",
       " 33,\n",
       " 35,\n",
       " 35,\n",
       " 35,\n",
       " 35,\n",
       " 36,\n",
       " 40,\n",
       " 45,\n",
       " 46,\n",
       " 52,\n",
       " 70]"
      ]
     },
     "execution_count": 80,
     "metadata": {},
     "output_type": "execute_result"
    }
   ],
   "source": [
    "age"
   ]
  },
  {
   "cell_type": "code",
   "execution_count": 83,
   "id": "42f9de99",
   "metadata": {},
   "outputs": [
    {
     "data": {
      "text/plain": [
       "29.962962962962962"
      ]
     },
     "execution_count": 83,
     "metadata": {},
     "output_type": "execute_result"
    }
   ],
   "source": [
    "mean = np.mean(age)\n",
    "mean"
   ]
  },
  {
   "cell_type": "code",
   "execution_count": 84,
   "id": "6f0b7dab",
   "metadata": {},
   "outputs": [
    {
     "data": {
      "text/plain": [
       "25.0"
      ]
     },
     "execution_count": 84,
     "metadata": {},
     "output_type": "execute_result"
    }
   ],
   "source": [
    "median = np.median(age)\n",
    "median"
   ]
  },
  {
   "cell_type": "code",
   "execution_count": 90,
   "id": "db92df46",
   "metadata": {},
   "outputs": [
    {
     "data": {
      "text/plain": [
       "[25, 35]"
      ]
     },
     "execution_count": 90,
     "metadata": {},
     "output_type": "execute_result"
    }
   ],
   "source": [
    "import statistics\n",
    "mode = statistics.multimode(age)\n",
    "mode"
   ]
  },
  {
   "cell_type": "code",
   "execution_count": 91,
   "id": "3234a1f6",
   "metadata": {},
   "outputs": [
    {
     "data": {
      "text/plain": [
       "70"
      ]
     },
     "execution_count": 91,
     "metadata": {},
     "output_type": "execute_result"
    }
   ],
   "source": [
    "max_value = max(age)\n",
    "max_value"
   ]
  },
  {
   "cell_type": "code",
   "execution_count": 92,
   "id": "6bfe7975",
   "metadata": {},
   "outputs": [
    {
     "data": {
      "text/plain": [
       "13"
      ]
     },
     "execution_count": 92,
     "metadata": {},
     "output_type": "execute_result"
    }
   ],
   "source": [
    "min_value = min(age)\n",
    "min_value"
   ]
  },
  {
   "cell_type": "code",
   "execution_count": 93,
   "id": "7122cabc",
   "metadata": {},
   "outputs": [
    {
     "data": {
      "text/plain": [
       "57"
      ]
     },
     "execution_count": 93,
     "metadata": {},
     "output_type": "execute_result"
    }
   ],
   "source": [
    "range = max_value - min_value\n",
    "range"
   ]
  },
  {
   "cell_type": "code",
   "execution_count": 95,
   "id": "668645aa",
   "metadata": {},
   "outputs": [
    {
     "data": {
      "text/plain": [
       "20.5"
      ]
     },
     "execution_count": 95,
     "metadata": {},
     "output_type": "execute_result"
    }
   ],
   "source": [
    "first_quantile = np.quantile(age,0.25)\n",
    "first_quantile"
   ]
  },
  {
   "cell_type": "code",
   "execution_count": 96,
   "id": "05ba13db",
   "metadata": {},
   "outputs": [
    {
     "data": {
      "text/plain": [
       "35.0"
      ]
     },
     "execution_count": 96,
     "metadata": {},
     "output_type": "execute_result"
    }
   ],
   "source": [
    "third_qunatile = np.quantile(age,0.75)\n",
    "third_qunatile"
   ]
  },
  {
   "cell_type": "code",
   "execution_count": 97,
   "id": "8b44c426",
   "metadata": {},
   "outputs": [
    {
     "data": {
      "text/plain": [
       "14.5"
      ]
     },
     "execution_count": 97,
     "metadata": {},
     "output_type": "execute_result"
    }
   ],
   "source": [
    "IQR = third_qunatile - first_quantile\n",
    "IQR"
   ]
  },
  {
   "cell_type": "code",
   "execution_count": null,
   "id": "1b466faf",
   "metadata": {},
   "outputs": [],
   "source": []
  },
  {
   "cell_type": "markdown",
   "id": "f8c3f5e6",
   "metadata": {},
   "source": [
    "# Question-2"
   ]
  },
  {
   "cell_type": "markdown",
   "id": "be62d630",
   "metadata": {},
   "source": [
    "Question 2-\n",
    "The standard deviation of sample X is zero, is it possible? If possible, then what it does mean? Under what type of distribution of data in X it is possible? Give an example.\n"
   ]
  },
  {
   "cell_type": "markdown",
   "id": "f257a4ca",
   "metadata": {},
   "source": [
    "### Standard Deviation of the sample can be zero when all the values in the sample should be same "
   ]
  },
  {
   "cell_type": "markdown",
   "id": "81dfbda6",
   "metadata": {},
   "source": [
    "### Where as mean should be equal to value."
   ]
  },
  {
   "cell_type": "code",
   "execution_count": 111,
   "id": "a834bca5",
   "metadata": {},
   "outputs": [
    {
     "data": {
      "text/plain": [
       "0.0"
      ]
     },
     "execution_count": 111,
     "metadata": {},
     "output_type": "execute_result"
    }
   ],
   "source": [
    "sample = [5,5,5,5,5,5,5,5,5,5]\n",
    "sd = statistics.stdev(sample)\n",
    "sd"
   ]
  },
  {
   "cell_type": "code",
   "execution_count": 112,
   "id": "e6313495",
   "metadata": {},
   "outputs": [
    {
     "data": {
      "text/plain": [
       "5.0"
      ]
     },
     "execution_count": 112,
     "metadata": {},
     "output_type": "execute_result"
    }
   ],
   "source": [
    "mean = np.mean(sample)\n",
    "mean"
   ]
  },
  {
   "cell_type": "code",
   "execution_count": 120,
   "id": "445b9fca",
   "metadata": {},
   "outputs": [
    {
     "name": "stderr",
     "output_type": "stream",
     "text": [
      "/home/vimalkumar/Documents/Python_new_1/cde_venv/lib/python3.8/site-packages/seaborn/distributions.py:2619: FutureWarning: `distplot` is a deprecated function and will be removed in a future version. Please adapt your code to use either `displot` (a figure-level function with similar flexibility) or `histplot` (an axes-level function for histograms).\n",
      "  warnings.warn(msg, FutureWarning)\n",
      "/home/vimalkumar/Documents/Python_new_1/cde_venv/lib/python3.8/site-packages/seaborn/distributions.py:316: UserWarning: Dataset has 0 variance; skipping density estimate. Pass `warn_singular=False` to disable this warning.\n",
      "  warnings.warn(msg, UserWarning)\n"
     ]
    },
    {
     "data": {
      "text/plain": [
       "<AxesSubplot:ylabel='Density'>"
      ]
     },
     "execution_count": 120,
     "metadata": {},
     "output_type": "execute_result"
    },
    {
     "data": {
      "image/png": "[encoded data removed]",
      "text/plain": [
       "<Figure size 432x288 with 1 Axes>"
      ]
     },
     "metadata": {
      "needs_background": "light"
     },
     "output_type": "display_data"
    }
   ],
   "source": [
    "import seaborn as sns\n",
    "sns.distplot(sample)"
   ]
  },
  {
   "cell_type": "markdown",
   "id": "b022c12f",
   "metadata": {},
   "source": [
    "## When Standard deviation is zero then those samples will follow an uniform distribution"
   ]
  },
  {
   "cell_type": "code",
   "execution_count": null,
   "id": "42b2ad97",
   "metadata": {},
   "outputs": [],
   "source": []
  },
  {
   "cell_type": "code",
   "execution_count": null,
   "id": "03af8d7e",
   "metadata": {},
   "outputs": [],
   "source": []
  },
  {
   "cell_type": "markdown",
   "id": "6644548a",
   "metadata": {},
   "source": [
    "# Question-3"
   ]
  },
  {
   "cell_type": "markdown",
   "id": "3ee9d1f1",
   "metadata": {},
   "source": [
    "Question 3- \n",
    "A tire manufacturer wants to determine the inner diameter of a certain grade of the tire. Ideally, the diameter would be 570 mm. The data are as follows: 572, 572, 573, 568, 569, 575, 565, 570.\n",
    " (a) Find the mean and median.\n",
    " (b)  standard deviation, and range.\n",
    " (c) Using the calculated statistics in parts (a) and (b), can you comment on the quality of the tires?\n"
   ]
  },
  {
   "cell_type": "code",
   "execution_count": 98,
   "id": "1047d530",
   "metadata": {},
   "outputs": [],
   "source": [
    "data = [ 572, 572, 573, 568, 569, 575, 565, 570]"
   ]
  },
  {
   "cell_type": "markdown",
   "id": "c02a7610",
   "metadata": {},
   "source": [
    "## Ideal value of tyre = 570mm "
   ]
  },
  {
   "cell_type": "code",
   "execution_count": 99,
   "id": "a9ab3695",
   "metadata": {},
   "outputs": [
    {
     "data": {
      "text/plain": [
       "570.5"
      ]
     },
     "execution_count": 99,
     "metadata": {},
     "output_type": "execute_result"
    }
   ],
   "source": [
    "tyre_mean = np.mean(data)\n",
    "tyre_mean"
   ]
  },
  {
   "cell_type": "code",
   "execution_count": 104,
   "id": "2bd6465f",
   "metadata": {},
   "outputs": [
    {
     "data": {
      "text/plain": [
       "571.0"
      ]
     },
     "execution_count": 104,
     "metadata": {},
     "output_type": "execute_result"
    }
   ],
   "source": [
    "tyre_median = np.median(data)\n",
    "tyre_median"
   ]
  },
  {
   "cell_type": "code",
   "execution_count": 105,
   "id": "8dfc8fc0",
   "metadata": {},
   "outputs": [
    {
     "data": {
      "text/plain": [
       "3.1622776601683795"
      ]
     },
     "execution_count": 105,
     "metadata": {},
     "output_type": "execute_result"
    }
   ],
   "source": [
    "stan_deviation = statistics.stdev(data)\n",
    "stan_deviation"
   ]
  },
  {
   "cell_type": "code",
   "execution_count": 108,
   "id": "8c4350ef",
   "metadata": {},
   "outputs": [],
   "source": [
    "max_tyre = max(data)\n",
    "min_tyre = min(data)"
   ]
  },
  {
   "cell_type": "code",
   "execution_count": 109,
   "id": "26290e1b",
   "metadata": {},
   "outputs": [
    {
     "data": {
      "text/plain": [
       "10"
      ]
     },
     "execution_count": 109,
     "metadata": {},
     "output_type": "execute_result"
    }
   ],
   "source": [
    "tyr_range = max_tyre - min_tyre\n",
    "tyr_range"
   ]
  },
  {
   "cell_type": "markdown",
   "id": "a73cdd7a",
   "metadata": {},
   "source": [
    "# Mean and median of the tyre is more than the Ideal value of the tyre"
   ]
  },
  {
   "cell_type": "markdown",
   "id": "1b823002",
   "metadata": {},
   "source": [
    "# 3.1622 is deviated from the average value of inner diameter of the tyres"
   ]
  },
  {
   "cell_type": "markdown",
   "id": "85f5356b",
   "metadata": {},
   "source": [
    "# Always standard Deviation should be in range of within plus or minus TWO , Since we get Standrad deviation as 3.1622 which is greater than 2 therefore there is a much spreadness of tyre data."
   ]
  },
  {
   "cell_type": "code",
   "execution_count": null,
   "id": "1a554fb2",
   "metadata": {},
   "outputs": [],
   "source": []
  }
 ],
 "metadata": {
  "kernelspec": {
   "display_name": "Python 3 (ipykernel)",
   "language": "python",
   "name": "python3"
  },
  "language_info": {
   "codemirror_mode": {
    "name": "ipython",
    "version": 3
   },
   "file_extension": ".py",
   "mimetype": "text/x-python",
   "name": "python",
   "nbconvert_exporter": "python",
   "pygments_lexer": "ipython3",
   "version": "3.8.10"
  }
 },
 "nbformat": 4,
 "nbformat_minor": 5
}
